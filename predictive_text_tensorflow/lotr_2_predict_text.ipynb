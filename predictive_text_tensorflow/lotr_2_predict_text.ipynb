{
 "cells": [
  {
   "cell_type": "code",
   "execution_count": 1,
   "metadata": {},
   "outputs": [
    {
     "name": "stdout",
     "output_type": "stream",
     "text": [
      "2.1.0\n"
     ]
    }
   ],
   "source": [
    "import tensorflow\n",
    "tf = tensorflow\n",
    "print(tensorflow.__version__)"
   ]
  },
  {
   "cell_type": "code",
   "execution_count": 2,
   "metadata": {},
   "outputs": [],
   "source": [
    "import numpy as np"
   ]
  },
  {
   "cell_type": "code",
   "execution_count": 3,
   "metadata": {},
   "outputs": [],
   "source": [
    "from tensorflow.keras.preprocessing.sequence import pad_sequences"
   ]
  },
  {
   "cell_type": "code",
   "execution_count": null,
   "metadata": {},
   "outputs": [],
   "source": []
  },
  {
   "cell_type": "code",
   "execution_count": 4,
   "metadata": {},
   "outputs": [],
   "source": [
    "#Possible fix to https://github.com/tensorflow/tensorflow/issues/24496\n",
    "from tensorflow.compat.v1 import ConfigProto\n",
    "from tensorflow.compat.v1 import InteractiveSession\n",
    "\n",
    "config = ConfigProto()\n",
    "config.gpu_options.allow_growth = True\n",
    "session = InteractiveSession(config=config)"
   ]
  },
  {
   "cell_type": "code",
   "execution_count": null,
   "metadata": {},
   "outputs": [],
   "source": []
  },
  {
   "cell_type": "code",
   "execution_count": 5,
   "metadata": {},
   "outputs": [
    {
     "name": "stdout",
     "output_type": "stream",
     "text": [
      "<keras_preprocessing.text.Tokenizer object at 0x000001F363BA3EC8>\n"
     ]
    }
   ],
   "source": [
    "## Load the data\n",
    "import pickle\n",
    "with open('lotr_tokenizer.pickle', 'rb') as handle:\n",
    "    tokenizer = pickle.load(handle)\n",
    "    print(tokenizer)\n"
   ]
  },
  {
   "cell_type": "code",
   "execution_count": 6,
   "metadata": {},
   "outputs": [],
   "source": [
    "model_options = [\n",
    "    'lotr_prediction_model_1580426580',\n",
    "    'lotr_prediction_model_1580492244',\n",
    "]\n",
    "MODEL_NAME = model_options[1]\n",
    "model = tf.keras.models.load_model(MODEL_NAME)\n",
    "PREDICTION_LEN = model.get_input_shape_at(0)[1] #ie 30"
   ]
  },
  {
   "cell_type": "code",
   "execution_count": 7,
   "metadata": {},
   "outputs": [
    {
     "data": {
      "text/plain": [
       "(None, 29)"
      ]
     },
     "execution_count": 7,
     "metadata": {},
     "output_type": "execute_result"
    }
   ],
   "source": [
    "model.get_input_shape_at(0)"
   ]
  },
  {
   "cell_type": "code",
   "execution_count": 8,
   "metadata": {},
   "outputs": [
    {
     "name": "stdout",
     "output_type": "stream",
     "text": [
      "Help me Obi Wan Kenobi, you're my only hope and for the east of the south there are change on the far end of the may ’ · ‘ did i hear out of anything the old words and\n"
     ]
    }
   ],
   "source": [
    "seed_text = \"Help me Obi Wan Kenobi, you're my only hope\"\n",
    "next_words = 30\n",
    "\n",
    "for _ in range(next_words):\n",
    "    token_list = tokenizer.texts_to_sequences([seed_text])[0]\n",
    "    token_list = pad_sequences([token_list], maxlen=PREDICTION_LEN, padding='pre')\n",
    "    predicted = model.predict_classes(token_list, verbose=0)\n",
    "    output_word = \"\"\n",
    "    for word, index in tokenizer.word_index.items():\n",
    "        if index == predicted:\n",
    "            output_word = word\n",
    "            break\n",
    "    seed_text += \" \" + output_word\n",
    "print(seed_text)"
   ]
  },
  {
   "cell_type": "code",
   "execution_count": null,
   "metadata": {},
   "outputs": [],
   "source": []
  },
  {
   "cell_type": "code",
   "execution_count": 9,
   "metadata": {},
   "outputs": [],
   "source": [
    "#token_list = tokenizer.texts_to_sequences([\"YOUR TEXT HERE\"])[0]\n",
    "#token_list = pad_sequences([token_list], maxlen=PREDICTION_LEN, padding='pre')\n",
    "\n",
    "def predict_word_prob(input_seqs):\n",
    "    pr_probs = model.predict_proba(input_seqs)\n",
    "    pr_outputs = [[\n",
    "        (pr_probs[sen_i][index], word, index)\n",
    "        for word, index in tokenizer.word_index.items()\n",
    "    ] for sen_i in range(pr_probs.shape[0]) ]\n",
    "    sorted_pr_outputs = [\n",
    "        sorted(pr_output, reverse=True)\n",
    "        for pr_output in pr_outputs\n",
    "    ]\n",
    "    return sorted_pr_outputs\n",
    "\n",
    "def prepare_tokens(token_list):\n",
    "    token_list = pad_sequences(\n",
    "        [token_list],\n",
    "        maxlen=PREDICTION_LEN,\n",
    "        padding='pre',\n",
    "    )\n",
    "    return token_list\n",
    "\n",
    "def prepare_sentence(sentence_text):\n",
    "    token_list = tokenizer.texts_to_sequences([sentence_text])[0]\n",
    "    return token_list\n",
    "\n",
    "def predict_for_sentence(sentence_text):\n",
    "    tl = prepare_sentence(sentence_text)\n",
    "    pt = prepare_tokens(tl)\n",
    "    predict = predict_word_prob(pt)\n",
    "    return predict\n",
    "\n",
    "def generate_next_n_words(seed_text, next_words=30):\n",
    "    gen_text = seed_text\n",
    "    for i in range(next_words):\n",
    "        next_words = predict_for_sentence(gen_text)[0]\n",
    "        top_prediction = next_words[0][1]\n",
    "        \n",
    "        gen_text += ' '+top_prediction\n",
    "    return gen_text\n"
   ]
  },
  {
   "cell_type": "code",
   "execution_count": null,
   "metadata": {},
   "outputs": [],
   "source": []
  },
  {
   "cell_type": "code",
   "execution_count": 10,
   "metadata": {},
   "outputs": [
    {
     "data": {
      "text/plain": [
       "[(0.48045704, 'restless', 2214),\n",
       " (0.1506405, 'in', 8),\n",
       " (0.03557991, 'feeling', 596),\n",
       " (0.03426382, 'not', 19),\n",
       " (0.022358749, 'roused', 2114),\n",
       " (0.016590374, 'sitting', 485),\n",
       " (0.014867146, 'afraid', 415),\n",
       " (0.012758062, 'content', 1123),\n",
       " (0.012047637, 'no', 45),\n",
       " (0.0120195905, 'chilled', 3080)]"
      ]
     },
     "execution_count": 10,
     "metadata": {},
     "output_type": "execute_result"
    }
   ],
   "source": [
    "predict_for_sentence(\"Frodo was\")[0][:10]"
   ]
  },
  {
   "cell_type": "code",
   "execution_count": null,
   "metadata": {},
   "outputs": [],
   "source": []
  },
  {
   "cell_type": "code",
   "execution_count": 11,
   "metadata": {},
   "outputs": [
    {
     "data": {
      "text/plain": [
       "'Frodo was restless and anxious listening in vain for a sound or until he thought he thought the thought again tale it was felt again and he had never seen such as'"
      ]
     },
     "execution_count": 11,
     "metadata": {},
     "output_type": "execute_result"
    }
   ],
   "source": [
    "seed_text = \"Frodo was\"\n",
    "next_words = 30\n",
    "\n",
    "gen_text = seed_text\n",
    "import random\n",
    "random_seeder = random.Random(42)\n",
    "for i in range(next_words):\n",
    "    next_words = predict_for_sentence(gen_text)[0]\n",
    "    top_prediction = next_words[0][1]\n",
    "    \n",
    "    gen_text += ' '+top_prediction\n",
    "\n",
    "gen_text"
   ]
  },
  {
   "cell_type": "code",
   "execution_count": 12,
   "metadata": {},
   "outputs": [
    {
     "data": {
      "text/plain": [
       "0.6394267984578837"
      ]
     },
     "execution_count": 12,
     "metadata": {},
     "output_type": "execute_result"
    }
   ],
   "source": [
    "import random\n",
    "random_seeder = random.Random(42)\n",
    "random_seeder.random()"
   ]
  },
  {
   "cell_type": "code",
   "execution_count": 13,
   "metadata": {},
   "outputs": [
    {
     "data": {
      "text/plain": [
       "'Frodo was restless and anxious listening in vain for a sound or until he thought he thought the thought again felt but he felt the heart that he had had after many'"
      ]
     },
     "execution_count": 13,
     "metadata": {},
     "output_type": "execute_result"
    }
   ],
   "source": [
    "seed_text = \"Frodo was\"\n",
    "next_words = 30\n",
    "\n",
    "rnd_temp = 4 #How 'safe' to keep the suggestions.\n",
    "# A high value will cause the top suggestions to be taken more frequently.\n",
    "# Lower values allow more occasional 'direction changes'.\n",
    "# Best set between [1-Inf)\n",
    "\n",
    "gen_text = seed_text\n",
    "import random\n",
    "random_seeder = random.Random(42)\n",
    "for i in range(next_words):\n",
    "    next_words = predict_for_sentence(gen_text)[0]\n",
    "    rd = random_seeder.random() ** rnd_temp\n",
    "    for sugg_vals in next_words:\n",
    "        pr, word, token_num = sugg_vals\n",
    "        rd -= pr\n",
    "        if rd <=0:\n",
    "            break\n",
    "    selected = word\n",
    "    \n",
    "    gen_text += ' '+selected\n",
    "\n",
    "gen_text"
   ]
  },
  {
   "cell_type": "code",
   "execution_count": 14,
   "metadata": {},
   "outputs": [
    {
     "name": "stdout",
     "output_type": "stream",
     "text": [
      "Frodo was\n",
      "1: \"restless\", 2: \"in\", 3: \"feeling\", 4: \"not\", 5: \"roused\"\n",
      "3\n",
      "Frodo was feeling\n",
      "1: \"steadily\", 2: \"quite\", 3: \"rather\", 4: \"quickly\", 5: \"strong\"\n",
      "1\n",
      "Frodo was feeling steadily\n",
      "1: \"quite\", 2: \"in\", 3: \"thought\", 4: \"out\", 5: \"quickly\"\n",
      "1\n",
      "odo was feeling steadily quite\n",
      "1: \"quite\", 2: \"the\", 3: \"well\", 4: \"maybe\", 5: \"only\"\n",
      "3\n",
      "as feeling steadily quite well\n",
      "1: \"in\", 2: \"for\", 3: \"·\", 4: \"sir\", 5: \"but\"\n",
      "3\n",
      " feeling steadily quite well ·\n",
      "1: \"he\", 2: \"‘\", 3: \"frodo\", 4: \"the\", 5: \"pippin\"\n",
      "5\n",
      "g steadily quite well · pippin\n",
      "1: \"laughed\", 2: \"was\", 3: \"remained\", 4: \"soon\", 5: \"suddenly\"\n",
      "1\n",
      "ly quite well · pippin laughed\n",
      "1: \"and\", 2: \"at\", 3: \"·\", 4: \"others\", 5: \"suddenly\"\n",
      "2\n",
      "quite well · pippin laughed at\n",
      "1: \"the\", 2: \"hand\", 3: \"me\", 4: \"them\", 5: \"a\"\n",
      "1\n",
      "e well · pippin laughed at the\n",
      "1: \"pony\", 2: \"answer\", 3: \"foot\", 4: \"opening\", 5: \"brown\"\n",
      "1\n",
      "l · pippin laughed at the pony\n",
      "1: \"and\", 2: \"for\", 3: \"additions\", 4: \"‘\", 5: \"looking\"\n",
      "2\n",
      "pippin laughed at the pony for\n",
      "1: \"a\", 2: \"he\", 3: \"they\", 4: \"most\", 5: \"when\"\n",
      "2\n",
      "pin laughed at the pony for he\n",
      "1: \"felt\", 2: \"had\", 3: \"seemed\", 4: \"put\", 5: \"gave\"\n",
      "2\n",
      "laughed at the pony for he had\n",
      "1: \"a\", 2: \"forgotten\", 3: \"never\", 4: \"put\", 5: \"'well\"\n",
      "2\n",
      " the pony for he had forgotten\n",
      "1: \"that\", 2: \"the\", 3: \"all\", 4: \"them\", 5: \"their\"\n",
      "2\n",
      " pony for he had forgotten the\n",
      "1: \"old\", 2: \"same\", 3: \"ring\", 4: \"day\", 5: \"wandering\"\n",
      "1\n",
      "y for he had forgotten the old\n",
      "1: \"hobbit\", 2: \"change\", 3: \"escape\", 4: \"during\", 5: \"called\"\n",
      "1\n",
      "e had forgotten the old hobbit\n",
      "1: \"singing\", 2: \"if\", 3: \"touch\", 4: \"top\", 5: \"feel\"\n",
      ".\n",
      "had forgotten the old hobbit ·\n",
      "1: \"he\", 2: \"the\", 3: \"a\", 4: \"frodo\", 5: \"his\"\n",
      "4\n",
      "rgotten the old hobbit · frodo\n",
      "1: \"was\", 2: \"sat\", 3: \"felt\", 4: \"did\", 5: \"found\"\n",
      "5\n",
      "n the old hobbit · frodo found\n",
      "1: \"his\", 2: \"he\", 3: \"that\", 4: \"himself\", 5: \"a\"\n",
      "1\n",
      "e old hobbit · frodo found his\n",
      "1: \"sleep\", 2: \"friends\", 3: \"head\", 4: \"glance\", 5: \"spirits\"\n",
      "5\n",
      "bbit · frodo found his spirits\n",
      "1: \"got\", 2: \"just\", 3: \"pocket\", 4: \"were\", 5: \"rather\"\n",
      "4\n",
      "· frodo found his spirits were\n",
      "1: \"that\", 2: \"just\", 3: \"as\", 4: \"stronger\", 5: \"sackville\"\n",
      "4\n",
      "ound his spirits were stronger\n",
      "1: \"than\", 2: \"and\", 3: \"but\", 4: \"with\", 5: \"·\"\n",
      "3\n",
      " his spirits were stronger but\n",
      "1: \"he\", 2: \"his\", 3: \"the\", 4: \"as\", 5: \"a\"\n",
      "1\n",
      "s spirits were stronger but he\n",
      "1: \"was\", 2: \"felt\", 3: \"it\", 4: \"as\", 5: \"begun\"\n",
      "2\n",
      "rits were stronger but he felt\n",
      "1: \"it\", 2: \"he\", 3: \"his\", 4: \"the\", 5: \"a\"\n",
      "2\n",
      "s were stronger but he felt he\n",
      "1: \"he\", 2: \"in\", 3: \"exclaimed\", 4: \"tom\", 5: \"not\"\n",
      "5\n",
      "re stronger but he felt he not\n",
      "1: \"every\", 2: \"forgotten\", 3: \"except\", 4: \"felt\", 5: \"as\"\n",
      "2\n"
     ]
    },
    {
     "data": {
      "text/plain": [
       "'Frodo was feeling steadily quite well · pippin laughed at the pony for he had forgotten the old hobbit · frodo found his spirits were stronger but he felt he not forgotten'"
      ]
     },
     "execution_count": 14,
     "metadata": {},
     "output_type": "execute_result"
    }
   ],
   "source": [
    "# seed_text = \"Frodo was\"\n",
    "next_words = 30\n",
    "num_options = 5\n",
    "\n",
    "gen_text = seed_text\n",
    "import random\n",
    "random_seeder = random.Random(42)\n",
    "for i in range(next_words):\n",
    "    next_words = predict_for_sentence(gen_text)[0]\n",
    "    options = next_words[:num_options]\n",
    "    print(gen_text[-30:])\n",
    "    print(', '.join(\n",
    "        '%d: \"%s\"' % (i+1, options[i][1])\n",
    "        for i in range(len(options))\n",
    "    ))\n",
    "    user_choice = input()\n",
    "    if user_choice =='.':\n",
    "        selected = '·'\n",
    "    else:\n",
    "        selected_num = int(user_choice)\n",
    "        selected = options[selected_num - 1][1]\n",
    "    \n",
    "    gen_text += ' '+selected\n",
    "\n",
    "gen_text"
   ]
  },
  {
   "cell_type": "code",
   "execution_count": 15,
   "metadata": {},
   "outputs": [
    {
     "data": {
      "text/plain": [
       "[1, 22, 1]"
      ]
     },
     "execution_count": 15,
     "metadata": {},
     "output_type": "execute_result"
    }
   ],
   "source": [
    "prepare_sentence(\"Silmarillion is OOV\")"
   ]
  },
  {
   "cell_type": "code",
   "execution_count": 16,
   "metadata": {},
   "outputs": [
    {
     "data": {
      "text/plain": [
       "'<UNKNOWN> is <UNKNOWN>'"
      ]
     },
     "execution_count": 16,
     "metadata": {},
     "output_type": "execute_result"
    }
   ],
   "source": [
    "tokenizer.sequences_to_texts([prepare_sentence(\"Silmarillion is OOV\")])[0]"
   ]
  },
  {
   "cell_type": "code",
   "execution_count": 17,
   "metadata": {},
   "outputs": [
    {
     "data": {
      "text/plain": [
       "[(0.7007815, \"'\", 11),\n",
       " (0.21458879, 'in', 8),\n",
       " (0.06252094, 'of', 4),\n",
       " (0.0043803714, 'now', 40),\n",
       " (0.0027238447, 'again', 64),\n",
       " (0.0027132356, 'for', 20),\n",
       " (0.002422171, 'yet', 111),\n",
       " (0.0018588509, 'and', 3),\n",
       " (0.0010601499, 'to', 5),\n",
       " (0.0008159144, 'up', 46)]"
      ]
     },
     "execution_count": 17,
     "metadata": {},
     "output_type": "execute_result"
    }
   ],
   "source": [
    "predict_for_sentence(\"Silmarillion is OOV\")[0][:10]"
   ]
  },
  {
   "cell_type": "code",
   "execution_count": 18,
   "metadata": {},
   "outputs": [],
   "source": [
    "#%%timeit\n",
    "#My timit loop got: 36.1 s ± 1.17 s per loop (mean ± std. dev. of 7 runs, 1 loop each)\n",
    "\n",
    "gen_text = generate_next_n_words(\"Frodo\", 1000)"
   ]
  },
  {
   "cell_type": "code",
   "execution_count": 19,
   "metadata": {},
   "outputs": [
    {
     "name": "stdout",
     "output_type": "stream",
     "text": [
      "Frodo said nothing but sam ‘ how i mean to déagol ’ said the wizard looking round as quickly as if with a relief of relief ·\n",
      "suddenly he was aware that he was himself brown and up the and rest gandalf behind ·\n",
      "he stepped down to the pavilion ·\n",
      "he was frodo in the last homely house like a answered of little feet but there was a cry of feeling going beyond simple but the biting lanterns were drinking and the river with small river and wrought eyes and age and for the kings ' ·\n",
      "a moment has come out with his good dangerous he already accident ' ·\n",
      "said frodo ·\n",
      "the story just replied that an faithful with mr frodo ·\n",
      "and quite accident i need too likely that he made that you worry about anything ·\n",
      "i don't know what i mean ·\n",
      "no time i would tell you a really like away i much came knowledge to say my part in that i think i shall ever get there ·\n",
      "but i had forgotten it if you were present ·\n",
      "‘ i am rather shaken with me ·\n",
      "i know one of the little folk who we go with him ·\n",
      "how it would be i i know ·\n",
      "i will not let him go alone if i ever get off before ·\n",
      "i do not know if bilbo could think why bilbo were destroyed ·\n",
      "i have no risk of a talk of a kind of old mean ' ·\n",
      "he cried ·\n",
      "i mean i did not ·\n",
      "i do not like the word of elrond but i am afraid i will bear you to see all the others ·\n",
      "i was watching them as soon they were riding in the hardly a hundred leagues from the rock as the road went on wound like a rock wall and that it suddenly day softly ·\n",
      "and those made frodo never obliged to hope to take this only stuff to come to minas tirith ·\n",
      "he knows that it is not going to spend a day in quietly while you spoke to my mind ·\n",
      "but know his haste is must gorgoroth my bearer on his eyes ·\n",
      "the will of the blinding sheet it ·\n",
      "the things may pass the mountains ' ·\n",
      "frodo asked the hobbits in the hall of boromir and the words was held from frodo's packing there glittered like living stones ·\n",
      "and if he hated it why i should say to you seen ’ ·\n",
      "he spoke again ·\n",
      "doom doom went the interest but frodo come here ·\n",
      "he walked right and opening at the black laugh ·\n",
      "you may see them ' ·\n",
      "'it was not yet any hot would be well ' ·\n",
      "they were noise of churning water up the horse halted and in a deep yards across a door over the river bank ·\n",
      "‘ if that is what about you frodo ·\n",
      "' ·\n",
      "he asked ·\n",
      "he is not far from the place ·\n",
      "so you know his wish any more i think i found him ·\n",
      "if i do not come elrond will advise you ·\n",
      "i know the little folk ·\n",
      "there is no time to go on ' ·\n",
      "we have no time to explain in will or there ·\n",
      "then you must take them before you look further ' ·\n",
      "the hobbits came in a gate of the old chamber level behind mortal and immortal ·\n",
      "'and what has i call you do ' said glóin ·\n",
      "'but there is time since then i mean ' ·\n",
      "he was chilled to the say that all men were blades the greater part of which their own things were far from hobbiton to the shire ·\n",
      "they did not yet dim sooner it laid it on the house ·\n",
      "but keep your eyes got to be master of mirkwood it will be helped ·\n",
      "you must not count ·\n",
      "these night i said to them ·\n",
      "but i am glad to have brought you here and there are say of many danger even even as they could ·\n",
      "i do not know what he expects ' ·\n",
      "he said to him ·\n",
      "i must go with all dark ' ·\n",
      "legolas turned and quietly where the man returned to the north ·\n",
      "'no i think not ' said boromir ·\n",
      "i had a such words to need you ·\n",
      "i guess he knows we mean the growing ' ·\n",
      "he asked ·\n",
      "'i should like on this evil in the talk ' ·\n",
      "the man in the moon took his little belt ·\n",
      "but if that's well ' he said ·\n",
      "how i had seen them ·\n",
      "the enemy is moving ’ ·\n",
      "but frodo no doubt he heard up ·\n",
      "he spoke ·\n",
      "he muttered in an eye with bilbo and the ring was all his fear ·\n",
      "his head was dark but his power was after him and he was so still when he did not come for him ·\n",
      "he knew that he was himself on his land asking among words this he had become quite desperate likely though that it had remained at once places of his own an old man ·\n",
      "'i did not ' ·\n",
      "the air was very bright ·\n",
      "he stood as still as he could ·\n",
      "he was laughing and clapping ·\n",
      "he muttered but his breath was smoking and the darkness was slowly broken and the lock was at its sheath and then into his roof his roof were beside ·\n",
      "once they shall all rue matters i bywater for sight of it as i drove them off it in the days of the shire ·\n",
      "it's lucky ' he said this and up my heart ·\n",
      "it is water to the river turn behind by even the day ’ ·\n",
      "‘ but i felt i'm ‘ well\n"
     ]
    }
   ],
   "source": [
    "import re\n",
    "print(\"·\\n\".join(re.split(r'·\\s+',gen_text)))"
   ]
  },
  {
   "cell_type": "code",
   "execution_count": null,
   "metadata": {},
   "outputs": [],
   "source": []
  }
 ],
 "metadata": {
  "kernelspec": {
   "display_name": "Python 3",
   "language": "python",
   "name": "python3"
  },
  "language_info": {
   "codemirror_mode": {
    "name": "ipython",
    "version": 3
   },
   "file_extension": ".py",
   "mimetype": "text/x-python",
   "name": "python",
   "nbconvert_exporter": "python",
   "pygments_lexer": "ipython3",
   "version": "3.7.5"
  }
 },
 "nbformat": 4,
 "nbformat_minor": 2
}
