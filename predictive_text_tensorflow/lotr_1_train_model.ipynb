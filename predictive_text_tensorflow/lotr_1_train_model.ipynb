{
 "cells": [
  {
   "cell_type": "code",
   "execution_count": 1,
   "metadata": {},
   "outputs": [
    {
     "name": "stdout",
     "output_type": "stream",
     "text": [
      "2.1.0\n"
     ]
    }
   ],
   "source": [
    "import tensorflow\n",
    "tf = tensorflow\n",
    "print(tensorflow.__version__)"
   ]
  },
  {
   "cell_type": "code",
   "execution_count": 2,
   "metadata": {},
   "outputs": [],
   "source": [
    "import numpy as np"
   ]
  },
  {
   "cell_type": "markdown",
   "metadata": {},
   "source": [
    "Note for a serious speedup in computation, you need to ensure you have this processing on a GPU\n",
    "\n",
    "\n",
    "See Tensorflow's [GPU installation guide](https://www.tensorflow.org/install/gpu)\n",
    "if it is not working for you"
   ]
  },
  {
   "cell_type": "code",
   "execution_count": 3,
   "metadata": {},
   "outputs": [
    {
     "data": {
      "text/plain": [
       "[PhysicalDevice(name='/physical_device:GPU:0', device_type='GPU')]"
      ]
     },
     "execution_count": 3,
     "metadata": {},
     "output_type": "execute_result"
    }
   ],
   "source": [
    "tf.config.experimental.list_physical_devices('GPU')"
   ]
  },
  {
   "cell_type": "code",
   "execution_count": 4,
   "metadata": {},
   "outputs": [
    {
     "data": {
      "text/plain": [
       "True"
      ]
     },
     "execution_count": 4,
     "metadata": {},
     "output_type": "execute_result"
    }
   ],
   "source": [
    "tf.test.is_built_with_cuda()"
   ]
  },
  {
   "cell_type": "code",
   "execution_count": null,
   "metadata": {},
   "outputs": [],
   "source": []
  },
  {
   "cell_type": "code",
   "execution_count": 5,
   "metadata": {},
   "outputs": [],
   "source": [
    "#Possible fix to https://github.com/tensorflow/tensorflow/issues/24496\n",
    "from tensorflow.compat.v1 import ConfigProto\n",
    "from tensorflow.compat.v1 import InteractiveSession\n",
    "\n",
    "config = ConfigProto()\n",
    "config.gpu_options.allow_growth = True\n",
    "session = InteractiveSession(config=config)"
   ]
  },
  {
   "cell_type": "code",
   "execution_count": null,
   "metadata": {},
   "outputs": [],
   "source": []
  },
  {
   "cell_type": "code",
   "execution_count": 6,
   "metadata": {},
   "outputs": [
    {
     "name": "stdout",
     "output_type": "stream",
     "text": [
      "dict_keys(['tokenizer', 'train_tokens'])\n"
     ]
    }
   ],
   "source": [
    "## Load the data\n",
    "import pickle\n",
    "with open('lotr_data_prep.pickle', 'rb') as handle:\n",
    "    reload_data = pickle.load(handle)\n",
    "    print(reload_data.keys())\n",
    "\n"
   ]
  },
  {
   "cell_type": "code",
   "execution_count": 7,
   "metadata": {},
   "outputs": [],
   "source": [
    "tokenizer = reload_data['tokenizer']\n",
    "train_tokens = reload_data['train_tokens']"
   ]
  },
  {
   "cell_type": "code",
   "execution_count": 8,
   "metadata": {},
   "outputs": [
    {
     "data": {
      "text/plain": [
       "(380554, 30)"
      ]
     },
     "execution_count": 8,
     "metadata": {},
     "output_type": "execute_result"
    }
   ],
   "source": [
    "train_tokens.shape"
   ]
  },
  {
   "cell_type": "code",
   "execution_count": 9,
   "metadata": {},
   "outputs": [],
   "source": [
    "#Now, if these are our sentences, then we want to split them\n",
    "# so the first words are predicting the last word\n",
    "predictors, label_int = (\n",
    "    train_tokens[:,:-1], train_tokens[:,-1]\n",
    ")"
   ]
  },
  {
   "cell_type": "code",
   "execution_count": 10,
   "metadata": {},
   "outputs": [
    {
     "data": {
      "text/plain": [
       "8662"
      ]
     },
     "execution_count": 10,
     "metadata": {},
     "output_type": "execute_result"
    }
   ],
   "source": [
    "total_words = len(tokenizer.word_index) + 1 #word_index is a dict\n",
    "total_words"
   ]
  },
  {
   "cell_type": "code",
   "execution_count": 11,
   "metadata": {},
   "outputs": [
    {
     "name": "stdout",
     "output_type": "stream",
     "text": [
      "(380554, 29)\n",
      "(380554,) at 8662 words\n"
     ]
    }
   ],
   "source": [
    "#However be careful with the num instances, once we go categorical\n",
    "print(predictors.shape)\n",
    "print(label_int.shape, \"at\", total_words, \"words\")"
   ]
  },
  {
   "cell_type": "code",
   "execution_count": 12,
   "metadata": {},
   "outputs": [
    {
     "name": "stdout",
     "output_type": "stream",
     "text": [
      "11.036066 M predictors\n",
      "3296.358748 M labels\n"
     ]
    }
   ],
   "source": [
    "print((predictors.shape[0] * predictors.shape[1]) / (10**6), \"M predictors\")\n",
    "print((label_int.shape[0] * total_words) / (10**6), \"M labels\")\n"
   ]
  },
  {
   "cell_type": "code",
   "execution_count": 13,
   "metadata": {},
   "outputs": [],
   "source": [
    "#And then 'one-hot encode' these, to make output prediction per-word\n",
    "import tensorflow.keras.utils as ku\n",
    "\n",
    "label = ku.to_categorical(label_int, num_classes=total_words)"
   ]
  },
  {
   "cell_type": "code",
   "execution_count": 14,
   "metadata": {},
   "outputs": [
    {
     "data": {
      "text/plain": [
       "array([[   0,    0,    0, ...,    0,    0,    0],\n",
       "       [   0,    0,    0, ...,    0,    0,   69],\n",
       "       [   0,    0,    0, ...,    0,   69,  170],\n",
       "       ...,\n",
       "       [   0,    0,    0, ...,   63,   55,    2],\n",
       "       [   0,    0,   48, ...,   55,    2,  156],\n",
       "       [   0,   48, 8660, ...,    2,  156,    4]])"
      ]
     },
     "execution_count": 14,
     "metadata": {},
     "output_type": "execute_result"
    }
   ],
   "source": [
    "predictors"
   ]
  },
  {
   "cell_type": "code",
   "execution_count": 15,
   "metadata": {},
   "outputs": [
    {
     "data": {
      "text/plain": [
       "array([[0., 0., 0., ..., 0., 0., 0.],\n",
       "       [0., 0., 0., ..., 0., 0., 0.],\n",
       "       [0., 0., 0., ..., 0., 0., 0.],\n",
       "       ...,\n",
       "       [0., 0., 0., ..., 0., 0., 0.],\n",
       "       [0., 0., 0., ..., 0., 0., 0.],\n",
       "       [0., 0., 0., ..., 0., 0., 0.]], dtype=float32)"
      ]
     },
     "execution_count": 15,
     "metadata": {},
     "output_type": "execute_result"
    }
   ],
   "source": [
    "label"
   ]
  },
  {
   "cell_type": "code",
   "execution_count": null,
   "metadata": {},
   "outputs": [],
   "source": []
  },
  {
   "cell_type": "code",
   "execution_count": 16,
   "metadata": {},
   "outputs": [
    {
     "name": "stdout",
     "output_type": "stream",
     "text": [
      "Model: \"sequential\"\n",
      "_________________________________________________________________\n",
      "Layer (type)                 Output Shape              Param #   \n",
      "=================================================================\n",
      "embedding (Embedding)        (None, 29, 100)           866200    \n",
      "_________________________________________________________________\n",
      "bidirectional (Bidirectional (None, 300)               301200    \n",
      "_________________________________________________________________\n",
      "dense (Dense)                (None, 300)               90300     \n",
      "_________________________________________________________________\n",
      "dense_1 (Dense)              (None, 8662)              2607262   \n",
      "=================================================================\n",
      "Total params: 3,864,962\n",
      "Trainable params: 3,864,962\n",
      "Non-trainable params: 0\n",
      "_________________________________________________________________\n",
      "None\n"
     ]
    }
   ],
   "source": [
    "# Simple Model - 2 layer\n",
    "model = tf.keras.Sequential()\n",
    "model.add(tf.keras.layers.Embedding(total_words, 100, input_length=predictors.shape[1])) #ormax_sequence_len-1))\n",
    "model.add(tf.keras.layers.Bidirectional(\n",
    "    tf.keras.layers.LSTM(150)\n",
    "))\n",
    "model.add(tf.keras.layers.Dense(300))\n",
    "model.add(tf.keras.layers.Dense(total_words, activation='softmax'))\n",
    "model.compile(loss='categorical_crossentropy', optimizer='adam', metrics=['accuracy'])\n",
    "\n",
    "print(model.summary())"
   ]
  },
  {
   "cell_type": "code",
   "execution_count": 17,
   "metadata": {},
   "outputs": [],
   "source": [
    "#Optional checkpointing >>\n",
    "import os\n",
    "checkpoint_path = \"training_lotr_2l/cp.ckpt\"\n",
    "checkpoint_dir = os.path.dirname(checkpoint_path)\n",
    "\n",
    "# Create a callback that saves the model's weights\n",
    "checkpoint_callback = tf.keras.callbacks.ModelCheckpoint(\n",
    "    filepath=checkpoint_path,\n",
    "    save_weights_only=True,\n",
    "    verbose=1,\n",
    ")\n",
    "# Note: \"\"\"\n",
    "# This may generate warnings related to saving the state of the optimizer.\n",
    "# These warnings (and similar warnings throughout this notebook)\n",
    "# are in place to discourage outdated usage, and can be ignored.\n",
    "# \"\"\"\n",
    "#<<\n",
    "\n"
   ]
  },
  {
   "cell_type": "code",
   "execution_count": 18,
   "metadata": {},
   "outputs": [
    {
     "name": "stdout",
     "output_type": "stream",
     "text": [
      "Couldn't load model weights:\n",
      "ValueError('Unsuccessful TensorSliceReader constructor: Failed to get matching files on training_lotr_2l/cp.ckpt: Not found: FindFirstFile failed for: training_lotr_2l : The system cannot find the path specified.\\r\\n; No such process')\n",
      "... continuing...\n"
     ]
    }
   ],
   "source": [
    "#For example if it fails after checkpointing halfway...\n",
    "#ckpt = tf.train.Checkpoint(step=tf.Variable(1), net=model)\n",
    "#manager = tf.train.CheckpointManager(ckpt, './training_1', max_to_keep=3)\n",
    "\n",
    "#checkpoint_path = './training_1/cp.ckpt' #manager.latest_checkpoint ??\n",
    "try:\n",
    "    model.load_weights(checkpoint_path)\n",
    "    print(\"Successfully loaded weights from:\",checkpoint_path)\n",
    "except ValueError as e:\n",
    "    print(\"Couldn't load model weights:\")\n",
    "    print(repr(e))\n",
    "    print(\"... continuing...\")"
   ]
  },
  {
   "cell_type": "code",
   "execution_count": 19,
   "metadata": {},
   "outputs": [],
   "source": [
    "PREDICTION_INPUT_LEN = model.get_input_shape_at(0)[1]\n",
    "from tensorflow.keras.preprocessing.sequence import pad_sequences\n",
    "\n",
    "def predict_word_prob(input_seqs):\n",
    "    pr_probs = model.predict_proba(input_seqs)\n",
    "    pr_outputs = [[\n",
    "        (pr_probs[sen_i][index], word, index)\n",
    "        for word, index in tokenizer.word_index.items()\n",
    "    ] for sen_i in range(pr_probs.shape[0]) ]\n",
    "    sorted_pr_outputs = [\n",
    "        sorted(pr_output, reverse=True)\n",
    "        for pr_output in pr_outputs\n",
    "    ]\n",
    "    return sorted_pr_outputs\n",
    "\n",
    "def prepare_tokens(token_list):\n",
    "    token_list = pad_sequences(\n",
    "        [token_list],\n",
    "        maxlen=PREDICTION_INPUT_LEN,\n",
    "        padding='pre',\n",
    "    )\n",
    "    return token_list\n",
    "\n",
    "def prepare_sentence(sentence_text):\n",
    "    token_list = tokenizer.texts_to_sequences([sentence_text])[0]\n",
    "    return token_list\n",
    "\n",
    "def predict_for_sentence(sentence_text):\n",
    "    tl = prepare_sentence(sentence_text)\n",
    "    pt = prepare_tokens(tl)\n",
    "    predict = predict_word_prob(pt)\n",
    "    return predict\n",
    "\n",
    "def generate_next_n_words(seed_text, next_words=30):\n",
    "    gen_text = seed_text\n",
    "    for i in range(next_words):\n",
    "        next_words = predict_for_sentence(gen_text)[0]\n",
    "        top_prediction = next_words[0][1]\n",
    "        \n",
    "        gen_text += ' '+top_prediction\n",
    "    return gen_text\n"
   ]
  },
  {
   "cell_type": "code",
   "execution_count": 20,
   "metadata": {},
   "outputs": [
    {
     "name": "stdout",
     "output_type": "stream",
     "text": [
      "Frodo -> Frodo curtain deadly deadly storey cheers deadly cheers puzzled puzzled puzzled impress cheers friends' budding impress dell cheers wardens cheers wardens friends' cheers wardens unscathed flies sing sing snowed conical conical such dells package risen maps package lingered ghost ethir reek reek temptation discussed blankets sheltered blankets hustled hustled lane lane botanical botanical ago ago chain uneventful most nail tearing await\n"
     ]
    }
   ],
   "source": [
    "seed_text = \"Frodo\"\n",
    "next_words = 60\n",
    "\n",
    "gen_text = generate_next_n_words(seed_text,next_words)\n",
    "print(seed_text, \"->\", gen_text)"
   ]
  },
  {
   "cell_type": "code",
   "execution_count": 21,
   "metadata": {},
   "outputs": [],
   "source": [
    "#turn this into a training epoch callback\n",
    "def generate_text_on_epoch_end(epoch, metrics, append_to_filename=None):\n",
    "    # Function invoked at end of each epoch. Prints generated text.\n",
    "    print()\n",
    "    print('----- Generating text after Epoch: %d' % epoch)\n",
    "    seed_text = \"Frodo\"\n",
    "    next_words = 60\n",
    "    gen_text = generate_next_n_words(seed_text,next_words)\n",
    "    \n",
    "    print(seed_text, \"->\", gen_text)\n",
    "    \n",
    "    #Duplicate to file\n",
    "    if append_to_filename:\n",
    "        with open(append_to_filename,'a') as fout:\n",
    "            print('----- Epoch: %d' % epoch, file=fout)\n",
    "            print(metrics, file=fout)\n",
    "            print(seed_text, \"->\", gen_text, file=fout)\n",
    "    \n",
    "\n",
    "from tensorflow.keras.callbacks import LambdaCallback\n",
    "import functools\n",
    "print_callback = LambdaCallback(\n",
    "    on_epoch_end=functools.partial(\n",
    "        generate_text_on_epoch_end, append_to_filename='gen_text_epochs.txt',\n",
    "    )\n",
    ")"
   ]
  },
  {
   "cell_type": "code",
   "execution_count": 22,
   "metadata": {},
   "outputs": [
    {
     "data": {
      "text/plain": [
       "[<tensorflow.python.keras.callbacks.LambdaCallback at 0x22e4686aa48>,\n",
       " <tensorflow.python.keras.callbacks.ModelCheckpoint at 0x22e29539d88>]"
      ]
     },
     "execution_count": 22,
     "metadata": {},
     "output_type": "execute_result"
    }
   ],
   "source": [
    "training_callbacks = [print_callback]\n",
    "\n",
    "USE_CHECKPOINTS = True\n",
    "if USE_CHECKPOINTS:\n",
    "    training_callbacks.append(checkpoint_callback)\n",
    "training_callbacks"
   ]
  },
  {
   "cell_type": "code",
   "execution_count": 23,
   "metadata": {},
   "outputs": [
    {
     "name": "stdout",
     "output_type": "stream",
     "text": [
      "Shuffle order: [61605, 4700, 179132, 23845, 186399, 99781, 193411, 365485, 19800, 329854] ...\n"
     ]
    }
   ],
   "source": [
    "import random\n",
    "rng = random.Random(42)\n",
    "shuffle_order = list(range(predictors.shape[0]))\n",
    "rng.shuffle(shuffle_order)\n",
    "print(\"Shuffle order:\", shuffle_order[:10], \"...\")"
   ]
  },
  {
   "cell_type": "code",
   "execution_count": 24,
   "metadata": {},
   "outputs": [],
   "source": [
    "x,y_int = predictors[shuffle_order],label_int[shuffle_order]\n",
    "y = ku.to_categorical(y_int, num_classes=total_words)"
   ]
  },
  {
   "cell_type": "code",
   "execution_count": 25,
   "metadata": {},
   "outputs": [
    {
     "name": "stdout",
     "output_type": "stream",
     "text": [
      "Train on 380554 samples\n",
      "Epoch 1/50\n",
      "380544/380554 [============================>.] - ETA: 0s - loss: 5.3384 - accuracy: 0.1450\n",
      "----- Generating text after Epoch: 0\n",
      "Frodo -> Frodo was a good deal of his own friends and he was not to be seen and he was aware that he was not to be seen and he was aware that he was not a good deal of his own · he was not a good deal of his own friends · he was not a good deal of his\n",
      "\n",
      "Epoch 00001: saving model to training_lotr_2l/cp.ckpt\n",
      "380554/380554 [==============================] - 215s 565us/sample - loss: 5.3384 - accuracy: 0.1450\n",
      "Epoch 2/50\n",
      "380480/380554 [============================>.] - ETA: 0s - loss: 4.5501 - accuracy: 0.1997\n",
      "----- Generating text after Epoch: 1\n",
      "Frodo -> Frodo was staring at the fire and the hobbits followed him and then suddenly as if he had been able to see the road and the road and the road flowed out of the open woods · the hobbits had been chosen to find them · the hobbits were mostly very uncomfortable and they were not in the shire · the\n",
      "\n",
      "Epoch 00002: saving model to training_lotr_2l/cp.ckpt\n",
      "380554/380554 [==============================] - 209s 550us/sample - loss: 4.5501 - accuracy: 0.1997\n",
      "Epoch 3/50\n",
      "380512/380554 [============================>.] - ETA: 0s - loss: 4.0237 - accuracy: 0.2428\n",
      "----- Generating text after Epoch: 2\n",
      "Frodo -> Frodo was still in the dark and silent voice of the elf lord of the elves and the elves of men and the company of lórien in the land of lórien · they were not a mighty family in the wilderness and they were not sure that they were not yet to be seen in the shire · they had been\n",
      "\n",
      "Epoch 00003: saving model to training_lotr_2l/cp.ckpt\n",
      "380554/380554 [==============================] - 204s 537us/sample - loss: 4.0237 - accuracy: 0.2428\n",
      "Epoch 4/50\n",
      "380480/380554 [============================>.] - ETA: 0s - loss: 3.4947 - accuracy: 0.3008\n",
      "----- Generating text after Epoch: 3\n",
      "Frodo -> Frodo was able to see the old wizard had been asking to tell it in a queer story of bilbo and the food at the same moment as if he had been slung he took off his hat and called to the others · ‘ i was going to be going to bed · i was going to get the point\n",
      "\n",
      "Epoch 00004: saving model to training_lotr_2l/cp.ckpt\n",
      "380554/380554 [==============================] - 201s 529us/sample - loss: 3.4948 - accuracy: 0.3008\n",
      "Epoch 5/50\n",
      "380544/380554 [============================>.] - ETA: 0s - loss: 3.0287 - accuracy: 0.3645\n",
      "----- Generating text after Epoch: 4\n",
      "Frodo -> Frodo looked at him unhappily · ‘ i have seen them ’ said frodo ‘ but i have seen much of them and i had a fancy to send it round and not a few timid ago · i have seen nothing · i have seen them · i have seen nothing · i will send it to the others for\n",
      "\n",
      "Epoch 00005: saving model to training_lotr_2l/cp.ckpt\n",
      "380554/380554 [==============================] - 201s 529us/sample - loss: 3.0287 - accuracy: 0.3645\n",
      "Epoch 6/50\n",
      "380448/380554 [============================>.] - ETA: 0s - loss: 2.6681 - accuracy: 0.4213\n",
      "----- Generating text after Epoch: 5\n",
      "Frodo -> Frodo was restless and anxious listening to keep awake about him and then slowly up the black chasm of the long mountains and felt that he was back to the house · they had been in time very open and silent enough · they were very large and very quiet and they were mostly slowly on either side and they could\n",
      "\n",
      "Epoch 00006: saving model to training_lotr_2l/cp.ckpt\n",
      "380554/380554 [==============================] - 201s 529us/sample - loss: 2.6681 - accuracy: 0.4213\n",
      "Epoch 7/50\n",
      "380448/380554 [============================>.] - ETA: 0s - loss: 2.3969 - accuracy: 0.4673\n",
      "----- Generating text after Epoch: 6\n",
      "Frodo -> Frodo felt restless again and in a walk while he passed into a wide circle of mirkwood a little further down from the shore and fell asleep with a clear face of the lanterns and all about them and it was wild and worried and had to walk out into the hole and he refused to leave his master and he\n",
      "\n",
      "Epoch 00007: saving model to training_lotr_2l/cp.ckpt\n",
      "380554/380554 [==============================] - 214s 561us/sample - loss: 2.3968 - accuracy: 0.4673\n",
      "Epoch 8/50\n",
      "380480/380554 [============================>.] - ETA: 0s - loss: 2.1890 - accuracy: 0.5046\n",
      "----- Generating text after Epoch: 7\n",
      "Frodo -> Frodo was watching the travellers stopped short and stood looking for a hobbit called the hobbits of bag end in hobbiton but the room had once more and had to be found · ‘ what are it ’ said frodo · ‘ i think it is not ’ said gildor · ‘ i think it is not ’ said gandalf ·\n",
      "\n",
      "Epoch 00008: saving model to training_lotr_2l/cp.ckpt\n",
      "380554/380554 [==============================] - 201s 529us/sample - loss: 2.1890 - accuracy: 0.5046\n",
      "Epoch 9/50\n",
      "380544/380554 [============================>.] - ETA: 0s - loss: 2.0204 - accuracy: 0.5361\n",
      "----- Generating text after Epoch: 8\n",
      "Frodo -> Frodo looked at the hobbits and laughed and tell the story of the story that's more than half open and inside the bag end ’ · ‘ well ’ said frodo · ‘ but you are not too sure but you have seen him ’ · ‘ i am leaving the shire ’ said gandalf sitting up · ‘ well ’\n",
      "\n",
      "Epoch 00009: saving model to training_lotr_2l/cp.ckpt\n",
      "380554/380554 [==============================] - 247s 650us/sample - loss: 2.0204 - accuracy: 0.5361\n",
      "Epoch 10/50\n",
      "380480/380554 [============================>.] - ETA: 0s - loss: 1.8882 - accuracy: 0.5613\n",
      "----- Generating text after Epoch: 9\n",
      "Frodo -> Frodo was restless and anxious listening for a sound of gandalf in one that he was still startled gollum at first but he thought he knew that he could not bear · he lay motionless still listening but all was about him and he thought · and he would not speak more later · he was silent for a moment then\n",
      "\n",
      "Epoch 00010: saving model to training_lotr_2l/cp.ckpt\n",
      "380554/380554 [==============================] - 206s 542us/sample - loss: 1.8881 - accuracy: 0.5614\n",
      "Epoch 11/50\n",
      "380480/380554 [============================>.] - ETA: 0s - loss: 1.7791 - accuracy: 0.5817\n",
      "----- Generating text after Epoch: 10\n",
      "Frodo -> Frodo looked troubled and merry heard the man rolled himself up to the door leaping down the hill leaped forward into the air and fell in the shire · he could not tell until · he was wrapped in some sad unless that might for well received it makes that cry only the most likely poetry if you think that live\n",
      "\n",
      "Epoch 00011: saving model to training_lotr_2l/cp.ckpt\n",
      "380554/380554 [==============================] - 204s 535us/sample - loss: 1.7791 - accuracy: 0.5817\n",
      "Epoch 12/50\n",
      "380512/380554 [============================>.] - ETA: 0s - loss: 1.6874 - accuracy: 0.5999\n",
      "----- Generating text after Epoch: 11\n",
      "Frodo -> Frodo felt the certainty of evil ahead and of evil following but he said boromir and the pass in the end of the great realm and watched him · he wore a company about and wondered for it was most sad but only a few friends · the ring was still hung in its shadows · he had a great boots\n",
      "\n",
      "Epoch 00012: saving model to training_lotr_2l/cp.ckpt\n",
      "380554/380554 [==============================] - 205s 539us/sample - loss: 1.6874 - accuracy: 0.5999\n",
      "Epoch 13/50\n",
      "380512/380554 [============================>.] - ETA: 0s - loss: 1.6131 - accuracy: 0.6145\n",
      "----- Generating text after Epoch: 12\n",
      "Frodo -> Frodo was not a long while ago when he heard it present at present and he had been in some of darkness and was drawing near when strider had left his bag end and took him brink and butterbur went with him myself · ‘ and now i guess ’ he clutched the look in his mouth and altogether · they\n",
      "\n",
      "Epoch 00013: saving model to training_lotr_2l/cp.ckpt\n",
      "380554/380554 [==============================] - 204s 536us/sample - loss: 1.6131 - accuracy: 0.6145\n",
      "Epoch 14/50\n",
      "380544/380554 [============================>.] - ETA: 0s - loss: 1.5509 - accuracy: 0.6282\n",
      "----- Generating text after Epoch: 13\n",
      "Frodo -> Frodo looked at the stone trolls suddenly saw while in the distance · they had not yet seen the white horse guest to the remains of the walls of the land of lórien · then they went into the room with the baggage to the walls of the river · he had been silent for some time at the time of\n",
      "\n",
      "Epoch 00014: saving model to training_lotr_2l/cp.ckpt\n",
      "380554/380554 [==============================] - 202s 530us/sample - loss: 1.5509 - accuracy: 0.6282\n"
     ]
    },
    {
     "name": "stdout",
     "output_type": "stream",
     "text": [
      "Epoch 15/50\n",
      "380544/380554 [============================>.] - ETA: 0s - loss: 1.5038 - accuracy: 0.6376\n",
      "----- Generating text after Epoch: 14\n",
      "Frodo -> Frodo looked at him unhappily · ‘ i am sorry to take the ring to you that are all gate now ' said pippin · 'i am mr underhill if any name must be given to seek a message for the hour of lórien · i don't know why he stories you ask not · but why do you believe that\n",
      "\n",
      "Epoch 00015: saving model to training_lotr_2l/cp.ckpt\n",
      "380554/380554 [==============================] - 222s 584us/sample - loss: 1.5038 - accuracy: 0.6376\n",
      "Epoch 16/50\n",
      "380448/380554 [============================>.] - ETA: 0s - loss: 1.4534 - accuracy: 0.6475\n",
      "----- Generating text after Epoch: 15\n",
      "Frodo -> Frodo and aragorn followed frodo and aragorn who had all their sense on the side and half that they had been expected to get angry thoughtfully · he was delighted in the great hearts of his way and he had been out of a good track for a while · he looked at strider with bilbo in silence looked but vain\n",
      "\n",
      "Epoch 00016: saving model to training_lotr_2l/cp.ckpt\n",
      "380554/380554 [==============================] - 212s 558us/sample - loss: 1.4534 - accuracy: 0.6475\n",
      "Epoch 17/50\n",
      "380480/380554 [============================>.] - ETA: 0s - loss: 1.4185 - accuracy: 0.6560\n",
      "----- Generating text after Epoch: 16\n",
      "Frodo -> Frodo gazed at the ring with awe for suddenly it seemed to me that if it dim solid walls and a shadow were brown on the face of the grave and troll country and soon do not come · but surely they will stay here · you'd make some folk of some sense while i have bilbo to go · o\n",
      "\n",
      "Epoch 00017: saving model to training_lotr_2l/cp.ckpt\n",
      "380554/380554 [==============================] - 210s 551us/sample - loss: 1.4185 - accuracy: 0.6560\n",
      "Epoch 18/50\n",
      "380544/380554 [============================>.] - ETA: 0s - loss: 1.3822 - accuracy: 0.6633\n",
      "----- Generating text after Epoch: 17\n",
      "Frodo -> Frodo felt the pain of his wound down a huge arm and dread was long lost but he thought that it was not faint and very strong and indeed a fierce clearly that no longer tall or yet a distant grey sea · of dark frodo ' · i have thought of putting it ' · i do not wish to\n",
      "\n",
      "Epoch 00018: saving model to training_lotr_2l/cp.ckpt\n",
      "380554/380554 [==============================] - 202s 530us/sample - loss: 1.3821 - accuracy: 0.6633\n",
      "Epoch 19/50\n",
      "380480/380554 [============================>.] - ETA: 0s - loss: 1.3544 - accuracy: 0.6703\n",
      "----- Generating text after Epoch: 18\n",
      "Frodo -> Frodo looked at frodo who was trying to speak aloud to himself and worry more through the driving hand to a master of surprise that frodo could not see him · if that's where you come to saruman i say ' he said · with that bilbo gave no answer for a while near the gate outside · and now he\n",
      "\n",
      "Epoch 00019: saving model to training_lotr_2l/cp.ckpt\n",
      "380554/380554 [==============================] - 315s 828us/sample - loss: 1.3544 - accuracy: 0.6703\n",
      "Epoch 20/50\n",
      "380544/380554 [============================>.] - ETA: 0s - loss: 1.3256 - accuracy: 0.6761\n",
      "----- Generating text after Epoch: 19\n",
      "Frodo -> Frodo was in a chair lit by the pale pale pool long eyes · he was a good master lay for a short shirt of strange light on the faces and those · no · why couldn't he came to the fellow · he had a friends or no · have let no barrow nor journeyed by water just even before\n",
      "\n",
      "Epoch 00020: saving model to training_lotr_2l/cp.ckpt\n",
      "380554/380554 [==============================] - 203s 534us/sample - loss: 1.3256 - accuracy: 0.6761\n",
      "Epoch 21/50\n",
      "380512/380554 [============================>.] - ETA: 0s - loss: 1.3031 - accuracy: 0.6817\n",
      "----- Generating text after Epoch: 20\n",
      "Frodo -> Frodo looked at frodo and wondered eagerly for the very gollum was fully grass · the name of moria seemed to me before he became aware that it was bending down to the right again and he felt the old mill · he was as if suddenly he was alone · the first clear · sam looked up sniffing with frodo\n",
      "\n",
      "Epoch 00021: saving model to training_lotr_2l/cp.ckpt\n",
      "380554/380554 [==============================] - 205s 540us/sample - loss: 1.3031 - accuracy: 0.6817\n",
      "Epoch 22/50\n",
      "380448/380554 [============================>.] - ETA: 0s - loss: 1.2821 - accuracy: 0.6872\n",
      "----- Generating text after Epoch: 21\n",
      "Frodo -> Frodo shivered in his business and his thoughts lay upon him with wonder and to turn him on to the edge of the wood · he said with a smile · he was smiling and there seemed to me that he was not alone and to think of it · but if i was not certain that we should know ·\n",
      "\n",
      "Epoch 00022: saving model to training_lotr_2l/cp.ckpt\n",
      "380554/380554 [==============================] - 202s 530us/sample - loss: 1.2820 - accuracy: 0.6872\n",
      "Epoch 23/50\n",
      "380512/380554 [============================>.] - ETA: 0s - loss: 1.2637 - accuracy: 0.6895\n",
      "----- Generating text after Epoch: 22\n",
      "Frodo -> Frodo looked at the stone and wished that he had brought home towards the first of the elves that had not through hobbiton as long as it had left the 'bilbo · the flashed and frodo wondered often he again · i could not sure that they would try to keep this ring at once · then you shall come and\n",
      "\n",
      "Epoch 00023: saving model to training_lotr_2l/cp.ckpt\n",
      "380554/380554 [==============================] - 403s 1ms/sample - loss: 1.2637 - accuracy: 0.6895\n",
      "Epoch 24/50\n",
      "380512/380554 [============================>.] - ETA: 0s - loss: 1.2451 - accuracy: 0.6946\n",
      "----- Generating text after Epoch: 23\n",
      "Frodo -> Frodo looked at her questioningly · ‘ i shall have to be seen by the great ring of mine ’ said gandalf · ‘ i should like to see it sméagol began behind for a deal at last ’ · ‘ i do not know · what have you got on · i'll have another look and i waited for a\n",
      "\n",
      "Epoch 00024: saving model to training_lotr_2l/cp.ckpt\n",
      "380554/380554 [==============================] - 205s 540us/sample - loss: 1.2451 - accuracy: 0.6946\n",
      "Epoch 25/50\n",
      "380512/380554 [============================>.] - ETA: 0s - loss: 1.2300 - accuracy: 0.6985\n",
      "----- Generating text after Epoch: 24\n",
      "Frodo -> Frodo felt the pain and he would look still and he would not say so much of his dark lord and he would not say so much of his companions or he put his ring into front of him or took at the end of his labours · then the echoes died as suddenly as the flame as the flame was\n",
      "\n",
      "Epoch 00025: saving model to training_lotr_2l/cp.ckpt\n",
      "380554/380554 [==============================] - 202s 532us/sample - loss: 1.2300 - accuracy: 0.6985\n",
      "Epoch 26/50\n",
      "380448/380554 [============================>.] - ETA: 0s - loss: 1.2136 - accuracy: 0.7023\n",
      "----- Generating text after Epoch: 25\n",
      "Frodo -> Frodo looked at frodo who was trying to put hard attention to aragorn but a moment was shining boromir's face half yet dread was still enough to hear with a voices · he made for the enemy within our way · but the company did not · at the moment balin can tell all that i had words to ask what\n",
      "\n",
      "Epoch 00026: saving model to training_lotr_2l/cp.ckpt\n",
      "380554/380554 [==============================] - 238s 625us/sample - loss: 1.2136 - accuracy: 0.7023\n",
      "Epoch 27/50\n",
      "380544/380554 [============================>.] - ETA: 0s - loss: 1.1991 - accuracy: 0.7062\n",
      "----- Generating text after Epoch: 26\n",
      "Frodo -> Frodo did not prove very communicative and he soon found himself especially by a bilbo on the way over the road behind he made except a large strong elf speech he plodded along for 'oh until nothing means heard he but with some distance to be our lower faces · there was a walls of wisdom and terrible as year a\n",
      "\n",
      "Epoch 00027: saving model to training_lotr_2l/cp.ckpt\n",
      "380554/380554 [==============================] - 206s 541us/sample - loss: 1.1990 - accuracy: 0.7062\n",
      "Epoch 28/50\n",
      "380544/380554 [============================>.] - ETA: 0s - loss: 1.1864 - accuracy: 0.7085\n",
      "----- Generating text after Epoch: 27\n",
      "Frodo -> Frodo looked at the stone and wished that bilbo had brought home at an old council but frodo remained silent and passed with an uneasy thicket · he was delighted to have found candles · bilbo had a corslet of many rings and he small but his father as elrond bilbo who were called in gondor of bilbo's hour · the\n",
      "\n",
      "Epoch 00028: saving model to training_lotr_2l/cp.ckpt\n",
      "380554/380554 [==============================] - 213s 561us/sample - loss: 1.1864 - accuracy: 0.7085\n"
     ]
    },
    {
     "name": "stdout",
     "output_type": "stream",
     "text": [
      "Epoch 29/50\n",
      "380480/380554 [============================>.] - ETA: 0s - loss: 1.1759 - accuracy: 0.7111\n",
      "----- Generating text after Epoch: 28\n",
      "Frodo -> Frodo was just yielding to the temptation to lie down again when they saw a hole and after all the darkness was less than when a hole was in the darkness · but boromir gone and the fallen brown tower you suffer of hands and he might be often rising on the spot i spoke · i have not spoken to\n",
      "\n",
      "Epoch 00029: saving model to training_lotr_2l/cp.ckpt\n",
      "380554/380554 [==============================] - 205s 539us/sample - loss: 1.1759 - accuracy: 0.7111\n",
      "Epoch 30/50\n",
      "380544/380554 [============================>.] - ETA: 0s - loss: 1.1618 - accuracy: 0.7148\n",
      "----- Generating text after Epoch: 29\n",
      "Frodo -> Frodo was in the way by a door dark had at the end of the lighter and when the door was heard again but he did not get out the figure of a mighty rings of old winyards · there they stood and standing outside leaving the green and green path filled with trunks for their while and at all fatty\n",
      "\n",
      "Epoch 00030: saving model to training_lotr_2l/cp.ckpt\n",
      "380554/380554 [==============================] - 200s 526us/sample - loss: 1.1618 - accuracy: 0.7148\n",
      "Epoch 31/50\n",
      "380448/380554 [============================>.] - ETA: 0s - loss: 1.1542 - accuracy: 0.7157\n",
      "----- Generating text after Epoch: 30\n",
      "Frodo -> Frodo and sam rather in his head at any rate that gandalf's farmer day or into a quiet hobbit realm and nobody had given the questions to hobbiton for ‘ i can trust us to take peace and he'll got his got to hold the nonsense · when he is master where he dwelt there he had not first struggled and\n",
      "\n",
      "Epoch 00031: saving model to training_lotr_2l/cp.ckpt\n",
      "380554/380554 [==============================] - 205s 539us/sample - loss: 1.1543 - accuracy: 0.7157\n",
      "Epoch 32/50\n",
      "380512/380554 [============================>.] - ETA: 0s - loss: 1.1463 - accuracy: 0.7179\n",
      "----- Generating text after Epoch: 31\n",
      "Frodo -> Frodo woke and found that the same were no longer friends there were however in either side and slowly inside and it was sound of old dull red like golden and pleasant · the afternoon was wearing away on the open and far out of the dell · they had been jogging along with escape the diving and with his bright\n",
      "\n",
      "Epoch 00032: saving model to training_lotr_2l/cp.ckpt\n",
      "380554/380554 [==============================] - 203s 534us/sample - loss: 1.1463 - accuracy: 0.7179\n",
      "Epoch 33/50\n",
      "380512/380554 [============================>.] - ETA: 0s - loss: 1.1326 - accuracy: 0.7213\n",
      "----- Generating text after Epoch: 32\n",
      "Frodo -> Frodo was still awake blue and the stories about it winding along waving and some slowly up out of the little and of the other times there were voices and lost and tom sprang gave and sailing sailing island at the ancient darkness · they seemed to be the secret reason for the world was is now that the cunning of\n",
      "\n",
      "Epoch 00033: saving model to training_lotr_2l/cp.ckpt\n",
      "380554/380554 [==============================] - 204s 535us/sample - loss: 1.1326 - accuracy: 0.7213\n",
      "Epoch 34/50\n",
      "380480/380554 [============================>.] - ETA: 0s - loss: 1.1247 - accuracy: 0.7229\n",
      "----- Generating text after Epoch: 33\n",
      "Frodo -> Frodo was just yielding to the temptation to lie down again when a dark gate under the hedge they would have to try going down in sleepy and close to the woods that is called the prancing pony · merry brandybuck am looking back to the ferry · he is thing · it cannot that's done that till they were the\n",
      "\n",
      "Epoch 00034: saving model to training_lotr_2l/cp.ckpt\n",
      "380554/380554 [==============================] - 203s 534us/sample - loss: 1.1247 - accuracy: 0.7229\n",
      "Epoch 35/50\n",
      "380544/380554 [============================>.] - ETA: 0s - loss: 1.1172 - accuracy: 0.7250\n",
      "----- Generating text after Epoch: 34\n",
      "Frodo -> Frodo was in a low voice as if he was not indeed rather clear felt that he had never heard or thought of some merry lord of the three barrow had won't faded to keep it from him to learn something round here sir and death path are mounting to six ponies and a going winding and shallow frodo's eyes got\n",
      "\n",
      "Epoch 00035: saving model to training_lotr_2l/cp.ckpt\n",
      "380554/380554 [==============================] - 209s 550us/sample - loss: 1.1172 - accuracy: 0.7250\n",
      "Epoch 36/50\n",
      "380480/380554 [============================>.] - ETA: 0s - loss: 1.1119 - accuracy: 0.7264\n",
      "----- Generating text after Epoch: 35\n",
      "Frodo -> Frodo looked at merry with wonder and sam felt his hat dark out green with the water on the grass in a dark high hobbit voices wind and a song · a long bright ere the camp was shuddered and he was a song of many different faces though not a words of silver · then he shut and locked the\n",
      "\n",
      "Epoch 00036: saving model to training_lotr_2l/cp.ckpt\n",
      "380554/380554 [==============================] - 213s 559us/sample - loss: 1.1119 - accuracy: 0.7264\n",
      "Epoch 37/50\n",
      "380544/380554 [============================>.] - ETA: 0s - loss: 1.1024 - accuracy: 0.7285\n",
      "----- Generating text after Epoch: 36\n",
      "Frodo -> Frodo was still weary but still frodo felt but the other was coming forward to himself · he was still weary but think of his heart were old took and as ancient as still not had a long heart · but he did not want to be afraid but the shire folk did not wish to think what was was dangerous\n",
      "\n",
      "Epoch 00037: saving model to training_lotr_2l/cp.ckpt\n",
      "380554/380554 [==============================] - 228s 600us/sample - loss: 1.1024 - accuracy: 0.7285\n",
      "Epoch 38/50\n",
      "380480/380554 [============================>.] - ETA: 0s - loss: 1.0978 - accuracy: 0.7307\n",
      "----- Generating text after Epoch: 37\n",
      "Frodo -> Frodo looked up at the fire and looked round the wide world · ‘ i don't know what to do ’ said gandalf moved back to the edge of the old man ‘ i was quite now across the very line of this and i do get to sleep · i was half past like names and that is an old\n",
      "\n",
      "Epoch 00038: saving model to training_lotr_2l/cp.ckpt\n",
      "380554/380554 [==============================] - 224s 589us/sample - loss: 1.0979 - accuracy: 0.7307\n",
      "Epoch 39/50\n",
      "380512/380554 [============================>.] - ETA: 0s - loss: 1.0877 - accuracy: 0.7317\n",
      "----- Generating text after Epoch: 38\n",
      "Frodo -> Frodo was sitting under the stars over the water staring softly into the little land about its head as if with a tried to do with to them · on awake and noon and stars the moon have did in it · yet they are garments not armour and they were black horn and they were not with a few of\n",
      "\n",
      "Epoch 00039: saving model to training_lotr_2l/cp.ckpt\n",
      "380554/380554 [==============================] - 201s 528us/sample - loss: 1.0878 - accuracy: 0.7317\n",
      "Epoch 40/50\n",
      "380544/380554 [============================>.] - ETA: 0s - loss: 1.0835 - accuracy: 0.7327\n",
      "----- Generating text after Epoch: 39\n",
      "Frodo -> Frodo was restless and anxious listening in vain for a sound of gandalf and he dared to think the dark lord has been meant to go that valley running to whispered · yet no sign of no design of the ring · boromir is company · i do not think that even it will help you to do with any openly\n",
      "\n",
      "Epoch 00040: saving model to training_lotr_2l/cp.ckpt\n",
      "380554/380554 [==============================] - 214s 562us/sample - loss: 1.0835 - accuracy: 0.7327\n",
      "Epoch 41/50\n",
      "380512/380554 [============================>.] - ETA: 0s - loss: 1.0754 - accuracy: 0.7347\n",
      "----- Generating text after Epoch: 40\n",
      "Frodo -> Frodo felt sleep coming together in his chair and obviously dared not talk the without talk or were left behind closer even from the path itself in brandy hall · there in the dark flat grew light present and dark · sam turned and walked away to frodo · i have heard more than i asked but i didn't understand that\n",
      "\n",
      "Epoch 00041: saving model to training_lotr_2l/cp.ckpt\n",
      "380554/380554 [==============================] - 219s 575us/sample - loss: 1.0754 - accuracy: 0.7347\n",
      "Epoch 42/50\n",
      "380448/380554 [============================>.] - ETA: 0s - loss: 1.0695 - accuracy: 0.7366\n",
      "----- Generating text after Epoch: 41\n",
      "Frodo -> Frodo was too comfortable the edge over night before him without others and looked down the hill thinking on the very used · they were just beginning lo scramble out when suddenly he reappeared · the air seemed heavy and the making of his speech there were half cut over the house · maggot jumped down and stood holding the table\n",
      "\n",
      "Epoch 00042: saving model to training_lotr_2l/cp.ckpt\n"
     ]
    },
    {
     "name": "stdout",
     "output_type": "stream",
     "text": [
      "380554/380554 [==============================] - 208s 546us/sample - loss: 1.0696 - accuracy: 0.7365\n",
      "Epoch 43/50\n",
      "380448/380554 [============================>.] - ETA: 0s - loss: 1.0629 - accuracy: 0.7377\n",
      "----- Generating text after Epoch: 42\n",
      "Frodo -> Frodo looked at it and puckered his brows · fear nothing to leave the boats they were black smoke which were not reached by the rider · they were far away they were turned closer even far from than more than a trees beyond the downs · many of them were blue and the remote were walked stood silent · i\n",
      "\n",
      "Epoch 00043: saving model to training_lotr_2l/cp.ckpt\n",
      "380554/380554 [==============================] - 247s 649us/sample - loss: 1.0628 - accuracy: 0.7377\n",
      "Epoch 44/50\n",
      "380512/380554 [============================>.] - ETA: 0s - loss: 1.0586 - accuracy: 0.7393\n",
      "----- Generating text after Epoch: 43\n",
      "Frodo -> Frodo was here when his first gaffer began to get bag end for he had not finished so indeed a spell and then suddenly he knew that he was going to change out of him that he desired to find this over his father who was always sure that things were none of ever would be fell again · he was\n",
      "\n",
      "Epoch 00044: saving model to training_lotr_2l/cp.ckpt\n",
      "380554/380554 [==============================] - 206s 542us/sample - loss: 1.0586 - accuracy: 0.7393\n",
      "Epoch 45/50\n",
      "380512/380554 [============================>.] - ETA: 0s - loss: 1.0574 - accuracy: 0.7400\n",
      "----- Generating text after Epoch: 44\n",
      "Frodo -> Frodo looked at the stone and wished that bilbo had not come steadily upon them but in his country pippin · frodo looked at the stone and wished that bilbo had not come steadily upon his pony but there was nothing too a long tale to landing and the noise of the walls felt ready for such a place · it\n",
      "\n",
      "Epoch 00045: saving model to training_lotr_2l/cp.ckpt\n",
      "380554/380554 [==============================] - 205s 539us/sample - loss: 1.0574 - accuracy: 0.7400\n",
      "Epoch 46/50\n",
      "380480/380554 [============================>.] - ETA: 0s - loss: 1.0491 - accuracy: 0.7413\n",
      "----- Generating text after Epoch: 45\n",
      "Frodo -> Frodo and his companions wrapped themselves in cloaks with eyes and they strength to make their trail behind the road well enough but they could not see far because of the many windings · the evening was closing about and his long full walked in laughed and he sent him back to bed behind the company another went on again ·\n",
      "\n",
      "Epoch 00046: saving model to training_lotr_2l/cp.ckpt\n",
      "380554/380554 [==============================] - 207s 543us/sample - loss: 1.0491 - accuracy: 0.7413\n",
      "Epoch 47/50\n",
      "380512/380554 [============================>.] - ETA: 0s - loss: 1.0450 - accuracy: 0.7429\n",
      "----- Generating text after Epoch: 46\n",
      "Frodo -> Frodo and sam could see what was now lying when suddenly we got through the opening on the other side the side of the window as if the wind was down in a grey end to a left of the channel · there was no water to have joy of the ten ears the sun was in his glad voice he\n",
      "\n",
      "Epoch 00047: saving model to training_lotr_2l/cp.ckpt\n",
      "380554/380554 [==============================] - 207s 543us/sample - loss: 1.0450 - accuracy: 0.7429\n",
      "Epoch 48/50\n",
      "380448/380554 [============================>.] - ETA: 0s - loss: 1.0394 - accuracy: 0.7441\n",
      "----- Generating text after Epoch: 47\n",
      "Frodo -> Frodo sat miserably by the door when he was set out when he led him down as if a log was drew chairs beneath the chair there grew broader and let him towards the water · he said · it is now that the others have already our last before · early evening frodo and aragorn sighed · he was deep\n",
      "\n",
      "Epoch 00048: saving model to training_lotr_2l/cp.ckpt\n",
      "380554/380554 [==============================] - 365s 958us/sample - loss: 1.0393 - accuracy: 0.7441\n",
      "Epoch 49/50\n",
      "380512/380554 [============================>.] - ETA: 0s - loss: 1.0367 - accuracy: 0.7451\n",
      "----- Generating text after Epoch: 48\n",
      "Frodo -> Frodo woke suddenly and gave a few pennies away but a single squib took were all there off the edges of which seeing the rings in their own lands · he only thought would have to say my old voice show now · but do not make your weapons over here we ought to take the east paths that you took\n",
      "\n",
      "Epoch 00049: saving model to training_lotr_2l/cp.ckpt\n",
      "380554/380554 [==============================] - 213s 561us/sample - loss: 1.0368 - accuracy: 0.7451\n",
      "Epoch 50/50\n",
      "380512/380554 [============================>.] - ETA: 0s - loss: 1.0318 - accuracy: 0.7462\n",
      "----- Generating text after Epoch: 49\n",
      "Frodo -> Frodo felt his heart beat many times before there was burning hot water drawing bag three seven and stones were vast and bright swords of hills that soon came into a dark realm but the distant stone seemed were westward upon the bare · far ahead a darkness grew and only a large dark shape like the ring of a ·\n",
      "\n",
      "Epoch 00050: saving model to training_lotr_2l/cp.ckpt\n",
      "380554/380554 [==============================] - 206s 541us/sample - loss: 1.0319 - accuracy: 0.7462\n"
     ]
    }
   ],
   "source": [
    "N_EPOCHS = 50\n",
    "history = model.fit(\n",
    "    x, y,\n",
    "    epochs=N_EPOCHS,\n",
    "    verbose=1,\n",
    "    callbacks = training_callbacks,\n",
    ")"
   ]
  },
  {
   "cell_type": "code",
   "execution_count": 26,
   "metadata": {},
   "outputs": [
    {
     "name": "stdout",
     "output_type": "stream",
     "text": [
      "['__class__', '__delattr__', '__dict__', '__dir__', '__doc__', '__eq__', '__format__', '__ge__', '__getattribute__', '__gt__', '__hash__', '__init__', '__init_subclass__', '__le__', '__lt__', '__module__', '__ne__', '__new__', '__reduce__', '__reduce_ex__', '__repr__', '__setattr__', '__sizeof__', '__str__', '__subclasshook__', '__weakref__', '_chief_worker_only', '_keras_api_names', '_keras_api_names_v1', 'epoch', 'history', 'model', 'on_batch_begin', 'on_batch_end', 'on_epoch_begin', 'on_epoch_end', 'on_predict_batch_begin', 'on_predict_batch_end', 'on_predict_begin', 'on_predict_end', 'on_test_batch_begin', 'on_test_batch_end', 'on_test_begin', 'on_test_end', 'on_train_batch_begin', 'on_train_batch_end', 'on_train_begin', 'on_train_end', 'params', 'set_model', 'set_params', 'validation_data']\n",
      "{'batch_size': 32, 'epochs': 50, 'steps': 11893, 'samples': 380554, 'verbose': 1, 'do_validation': False, 'metrics': ['loss', 'accuracy']}\n"
     ]
    },
    {
     "data": {
      "text/plain": [
       "{'loss': [5.338413194123803,\n",
       "  4.550139304811298,\n",
       "  4.023688664192731,\n",
       "  3.4948173825816258,\n",
       "  3.0286528245889146,\n",
       "  2.6680716974933723,\n",
       "  2.396794513198017,\n",
       "  2.188992718804689,\n",
       "  2.0203836345267634,\n",
       "  1.8881184260954709,\n",
       "  1.7790953406711114,\n",
       "  1.6874294929966829,\n",
       "  1.6131075080792803,\n",
       "  1.550920154251495,\n",
       "  1.5037936961883218,\n",
       "  1.4533676535690392,\n",
       "  1.4184853696175064,\n",
       "  1.3821493248269983,\n",
       "  1.3544080857609675,\n",
       "  1.3255742659198624,\n",
       "  1.3031455535729966,\n",
       "  1.282001404307752,\n",
       "  1.2636891061612858,\n",
       "  1.2451009386539713,\n",
       "  1.2299641719635768,\n",
       "  1.213578065202996,\n",
       "  1.199046019019189,\n",
       "  1.1864266473430758,\n",
       "  1.1759462943739403,\n",
       "  1.1617629536979601,\n",
       "  1.1542618729361422,\n",
       "  1.1462841456637753,\n",
       "  1.1326097443624579,\n",
       "  1.1247255603681225,\n",
       "  1.1172441671495026,\n",
       "  1.1118835082949512,\n",
       "  1.1024126553123599,\n",
       "  1.0978802451685086,\n",
       "  1.087781434174996,\n",
       "  1.0835270817198106,\n",
       "  1.0754186316901826,\n",
       "  1.0695698031283922,\n",
       "  1.062844529763234,\n",
       "  1.0586052668345425,\n",
       "  1.0574120319745985,\n",
       "  1.0491028820782895,\n",
       "  1.0450257877389033,\n",
       "  1.039313426033054,\n",
       "  1.0367526117594066,\n",
       "  1.0319347664439529],\n",
       " 'accuracy': [0.1449781,\n",
       "  0.19965892,\n",
       "  0.24276187,\n",
       "  0.30084035,\n",
       "  0.36452645,\n",
       "  0.42127004,\n",
       "  0.46729243,\n",
       "  0.5046064,\n",
       "  0.5360632,\n",
       "  0.56136054,\n",
       "  0.581652,\n",
       "  0.5998912,\n",
       "  0.6144936,\n",
       "  0.62824196,\n",
       "  0.63764405,\n",
       "  0.64747447,\n",
       "  0.656012,\n",
       "  0.6633303,\n",
       "  0.670349,\n",
       "  0.67610115,\n",
       "  0.6817114,\n",
       "  0.6872034,\n",
       "  0.6895106,\n",
       "  0.69464254,\n",
       "  0.6984817,\n",
       "  0.7023287,\n",
       "  0.706181,\n",
       "  0.7085065,\n",
       "  0.711087,\n",
       "  0.7147711,\n",
       "  0.71565926,\n",
       "  0.7178692,\n",
       "  0.72131157,\n",
       "  0.7228514,\n",
       "  0.7249983,\n",
       "  0.7263726,\n",
       "  0.72850895,\n",
       "  0.7307005,\n",
       "  0.731678,\n",
       "  0.7327239,\n",
       "  0.7346737,\n",
       "  0.73653674,\n",
       "  0.7377245,\n",
       "  0.7392617,\n",
       "  0.74001586,\n",
       "  0.7413271,\n",
       "  0.7429195,\n",
       "  0.7440784,\n",
       "  0.74507165,\n",
       "  0.74622]}"
      ]
     },
     "execution_count": 26,
     "metadata": {},
     "output_type": "execute_result"
    }
   ],
   "source": [
    "print(dir(history))\n",
    "print(history.params)\n",
    "history.history"
   ]
  },
  {
   "cell_type": "code",
   "execution_count": 28,
   "metadata": {},
   "outputs": [
    {
     "data": {
      "image/png": "[encoded data removed]",
      "text/plain": [
       "<Figure size 432x288 with 1 Axes>"
      ]
     },
     "metadata": {
      "needs_background": "light"
     },
     "output_type": "display_data"
    },
    {
     "data": {
      "image/png": "[encoded data removed]",
      "text/plain": [
       "<Figure size 432x288 with 1 Axes>"
      ]
     },
     "metadata": {
      "needs_background": "light"
     },
     "output_type": "display_data"
    }
   ],
   "source": [
    "import matplotlib.pyplot as plt\n",
    "accuracy = history.history['accuracy']\n",
    "loss = history.history['loss']\n",
    "\n",
    "epochs = range(len(accuracy))\n",
    "\n",
    "plt.plot(epochs, accuracy, 'b', label='Training accuracy')\n",
    "plt.title('Training accuracy')\n",
    "\n",
    "plt.figure()\n",
    "\n",
    "plt.plot(epochs, loss, 'b', label='Training Loss')\n",
    "plt.title('Training loss')\n",
    "plt.legend()\n",
    "\n",
    "plt.show()"
   ]
  },
  {
   "cell_type": "code",
   "execution_count": 29,
   "metadata": {},
   "outputs": [
    {
     "name": "stdout",
     "output_type": "stream",
     "text": [
      "WARNING:tensorflow:From c:\\program files\\python\\python37\\lib\\site-packages\\tensorflow_core\\python\\ops\\resource_variable_ops.py:1786: calling BaseResourceVariable.__init__ (from tensorflow.python.ops.resource_variable_ops) with constraint is deprecated and will be removed in a future version.\n",
      "Instructions for updating:\n",
      "If using Keras pass *_constraint arguments to layers.\n",
      "INFO:tensorflow:Assets written to: lotr_prediction_model_1580426580\\assets\n"
     ]
    }
   ],
   "source": [
    "#Save the model\n",
    "import time\n",
    "now_timestamp = int(time.time())\n",
    "save_filename = 'lotr_prediction_model_%s'% now_timestamp\n",
    "model.save(save_filename)\n",
    "\n",
    "#Note re file format: args, from docs (@param):\n",
    "#  save_format: Either 'tf' or 'h5', indicating whether to save the model to Tensorflow SavedModel or HDF5. Defaults to 'tf' in TF 2.X, and 'h5' in TF 1.X.\n",
    "\n",
    "#Note: Saved models can be reinstantiated via keras.models.load_model\n",
    "\n",
    "## NOTE:\n",
    "## !pip install -q pyyaml h5py  # Required to save models in HDF5 format"
   ]
  },
  {
   "cell_type": "code",
   "execution_count": 30,
   "metadata": {},
   "outputs": [],
   "source": [
    "#Need to save the tokeniser as well for encoding:\n",
    "# then can use eg: tokenizer.texts_to_sequences([the_sentence])[0]\n",
    "dir(tokenizer)\n",
    "\n",
    "import pickle\n",
    "# saving\n",
    "with open('lotr_tokenizer.pickle', 'wb') as handle:\n",
    "    pickle.dump(tokenizer, handle)\n",
    "with open('lotr_train_history_history.pickle', 'wb') as handle:\n",
    "    pickle.dump(history.history, handle)\n",
    "    #pickle.dump(history_total, handle)\n",
    "    "
   ]
  },
  {
   "cell_type": "code",
   "execution_count": null,
   "metadata": {},
   "outputs": [],
   "source": []
  },
  {
   "cell_type": "code",
   "execution_count": 32,
   "metadata": {},
   "outputs": [
    {
     "name": "stdout",
     "output_type": "stream",
     "text": [
      "<class 'tensorflow.python.keras.callbacks.History'>\n"
     ]
    },
    {
     "data": {
      "text/plain": [
       "{'validation_data': None,\n",
       " 'model': <tensorflow.python.keras.engine.sequential.Sequential at 0x22e2955bec8>,\n",
       " '_chief_worker_only': None,\n",
       " 'params': {'batch_size': 32,\n",
       "  'epochs': 50,\n",
       "  'steps': 11893,\n",
       "  'samples': 380554,\n",
       "  'verbose': 1,\n",
       "  'do_validation': False,\n",
       "  'metrics': ['loss', 'accuracy']},\n",
       " 'epoch': [0,\n",
       "  1,\n",
       "  2,\n",
       "  3,\n",
       "  4,\n",
       "  5,\n",
       "  6,\n",
       "  7,\n",
       "  8,\n",
       "  9,\n",
       "  10,\n",
       "  11,\n",
       "  12,\n",
       "  13,\n",
       "  14,\n",
       "  15,\n",
       "  16,\n",
       "  17,\n",
       "  18,\n",
       "  19,\n",
       "  20,\n",
       "  21,\n",
       "  22,\n",
       "  23,\n",
       "  24,\n",
       "  25,\n",
       "  26,\n",
       "  27,\n",
       "  28,\n",
       "  29,\n",
       "  30,\n",
       "  31,\n",
       "  32,\n",
       "  33,\n",
       "  34,\n",
       "  35,\n",
       "  36,\n",
       "  37,\n",
       "  38,\n",
       "  39,\n",
       "  40,\n",
       "  41,\n",
       "  42,\n",
       "  43,\n",
       "  44,\n",
       "  45,\n",
       "  46,\n",
       "  47,\n",
       "  48,\n",
       "  49],\n",
       " 'history': {'loss': [5.338413194123803,\n",
       "   4.550139304811298,\n",
       "   4.023688664192731,\n",
       "   3.4948173825816258,\n",
       "   3.0286528245889146,\n",
       "   2.6680716974933723,\n",
       "   2.396794513198017,\n",
       "   2.188992718804689,\n",
       "   2.0203836345267634,\n",
       "   1.8881184260954709,\n",
       "   1.7790953406711114,\n",
       "   1.6874294929966829,\n",
       "   1.6131075080792803,\n",
       "   1.550920154251495,\n",
       "   1.5037936961883218,\n",
       "   1.4533676535690392,\n",
       "   1.4184853696175064,\n",
       "   1.3821493248269983,\n",
       "   1.3544080857609675,\n",
       "   1.3255742659198624,\n",
       "   1.3031455535729966,\n",
       "   1.282001404307752,\n",
       "   1.2636891061612858,\n",
       "   1.2451009386539713,\n",
       "   1.2299641719635768,\n",
       "   1.213578065202996,\n",
       "   1.199046019019189,\n",
       "   1.1864266473430758,\n",
       "   1.1759462943739403,\n",
       "   1.1617629536979601,\n",
       "   1.1542618729361422,\n",
       "   1.1462841456637753,\n",
       "   1.1326097443624579,\n",
       "   1.1247255603681225,\n",
       "   1.1172441671495026,\n",
       "   1.1118835082949512,\n",
       "   1.1024126553123599,\n",
       "   1.0978802451685086,\n",
       "   1.087781434174996,\n",
       "   1.0835270817198106,\n",
       "   1.0754186316901826,\n",
       "   1.0695698031283922,\n",
       "   1.062844529763234,\n",
       "   1.0586052668345425,\n",
       "   1.0574120319745985,\n",
       "   1.0491028820782895,\n",
       "   1.0450257877389033,\n",
       "   1.039313426033054,\n",
       "   1.0367526117594066,\n",
       "   1.0319347664439529],\n",
       "  'accuracy': [0.1449781,\n",
       "   0.19965892,\n",
       "   0.24276187,\n",
       "   0.30084035,\n",
       "   0.36452645,\n",
       "   0.42127004,\n",
       "   0.46729243,\n",
       "   0.5046064,\n",
       "   0.5360632,\n",
       "   0.56136054,\n",
       "   0.581652,\n",
       "   0.5998912,\n",
       "   0.6144936,\n",
       "   0.62824196,\n",
       "   0.63764405,\n",
       "   0.64747447,\n",
       "   0.656012,\n",
       "   0.6633303,\n",
       "   0.670349,\n",
       "   0.67610115,\n",
       "   0.6817114,\n",
       "   0.6872034,\n",
       "   0.6895106,\n",
       "   0.69464254,\n",
       "   0.6984817,\n",
       "   0.7023287,\n",
       "   0.706181,\n",
       "   0.7085065,\n",
       "   0.711087,\n",
       "   0.7147711,\n",
       "   0.71565926,\n",
       "   0.7178692,\n",
       "   0.72131157,\n",
       "   0.7228514,\n",
       "   0.7249983,\n",
       "   0.7263726,\n",
       "   0.72850895,\n",
       "   0.7307005,\n",
       "   0.731678,\n",
       "   0.7327239,\n",
       "   0.7346737,\n",
       "   0.73653674,\n",
       "   0.7377245,\n",
       "   0.7392617,\n",
       "   0.74001586,\n",
       "   0.7413271,\n",
       "   0.7429195,\n",
       "   0.7440784,\n",
       "   0.74507165,\n",
       "   0.74622]}}"
      ]
     },
     "execution_count": 32,
     "metadata": {},
     "output_type": "execute_result"
    }
   ],
   "source": [
    "print(type(history))\n",
    "history.__dict__"
   ]
  },
  {
   "cell_type": "code",
   "execution_count": 33,
   "metadata": {},
   "outputs": [
    {
     "data": {
      "text/plain": [
       "<tensorflow.python.keras.engine.sequential.Sequential at 0x22e2955bec8>"
      ]
     },
     "execution_count": 33,
     "metadata": {},
     "output_type": "execute_result"
    }
   ],
   "source": [
    "history.model"
   ]
  },
  {
   "cell_type": "code",
   "execution_count": 34,
   "metadata": {},
   "outputs": [
    {
     "data": {
      "text/plain": [
       "<bound method History.on_epoch_end of <tensorflow.python.keras.callbacks.History object at 0x0000022E467B4748>>"
      ]
     },
     "execution_count": 34,
     "metadata": {},
     "output_type": "execute_result"
    }
   ],
   "source": [
    "history.on_epoch_end"
   ]
  },
  {
   "cell_type": "code",
   "execution_count": 35,
   "metadata": {},
   "outputs": [
    {
     "name": "stdout",
     "output_type": "stream",
     "text": [
      "Train on 380554 samples\n",
      "Epoch 1/50\n",
      "380544/380554 [============================>.] - ETA: 0s - loss: 1.0283 - accuracy: 0.7465\n",
      "----- Generating text after Epoch: 0\n",
      "Frodo -> Frodo lay down again but he saw that it was getting hot and straight that if you want to know where i am going on now to make your mind · even as i wish to set me alone · it was singing that i ever saw before them · i don't like this great ring · his eyes were shining\n",
      "\n",
      "Epoch 00001: saving model to training_lotr_2l/cp.ckpt\n",
      "380554/380554 [==============================] - 256s 673us/sample - loss: 1.0283 - accuracy: 0.7465\n",
      "Epoch 2/50\n",
      "380480/380554 [============================>.] - ETA: 0s - loss: 1.0243 - accuracy: 0.7480\n",
      "----- Generating text after Epoch: 1\n",
      "Frodo -> Frodo was just trying to put his claim to the spot but the hobbits woke like a rather deadly bring garden to him to grasp you gandalf with the thought · the others looked at him turned to find fair and as soon as the ponies were tom in the inhabitants of the old · the world was fair in the\n",
      "\n",
      "Epoch 00002: saving model to training_lotr_2l/cp.ckpt\n",
      "380554/380554 [==============================] - 233s 612us/sample - loss: 1.0242 - accuracy: 0.7480\n",
      "Epoch 3/50\n",
      "380480/380554 [============================>.] - ETA: 0s - loss: 1.0199 - accuracy: 0.7496\n",
      "----- Generating text after Epoch: 2\n",
      "Frodo -> Frodo did not prove very communicative and he soon found himself wondering that he would not let him any more · ‘ i don't know what the likes of orcs do do do on you down to pass · it will be dark and i fear that i may have are on 'i've noticed remember to see far south · and\n",
      "\n",
      "Epoch 00003: saving model to training_lotr_2l/cp.ckpt\n",
      "380554/380554 [==============================] - 223s 585us/sample - loss: 1.0199 - accuracy: 0.7496\n",
      "Epoch 4/50\n",
      "380512/380554 [============================>.] - ETA: 0s - loss: 1.0167 - accuracy: 0.7497\n",
      "----- Generating text after Epoch: 3\n",
      "Frodo -> Frodo looked at the stone and wished that bilbo was not big garments and there seemed to be no doubt that the elves ran up into the brow of the ladder singing · there was say to tom's going back frodo on the slab · ‘ i am not to walk again from bree · i am going to sleep on\n",
      "\n",
      "Epoch 00004: saving model to training_lotr_2l/cp.ckpt\n",
      "380554/380554 [==============================] - 233s 613us/sample - loss: 1.0167 - accuracy: 0.7497\n",
      "Epoch 5/50\n",
      "380512/380554 [============================>.] - ETA: 0s - loss: 1.0147 - accuracy: 0.75 - ETA: 0s - loss: 1.0147 - accuracy: 0.7506\n",
      "----- Generating text after Epoch: 4\n",
      "Frodo -> Frodo did not offer him any tea · the wind was in the burning hurrying slope with the stars of the steep green roof and in the big lights and the evening shire on an old cut · to the north of the river the land pushing with his wandering but a few words he seemed old over the country to\n",
      "\n",
      "Epoch 00005: saving model to training_lotr_2l/cp.ckpt\n",
      "380554/380554 [==============================] - 271s 712us/sample - loss: 1.0147 - accuracy: 0.7506\n",
      "Epoch 6/50\n",
      "380448/380554 [============================>.] - ETA: 0s - loss: 1.0135 - accuracy: 0.7506\n",
      "----- Generating text after Epoch: 5\n",
      "Frodo -> Frodo looked at it and puckered his brows · the night passed into a deep blue water arched over the path and now some distance broken into the eastern tree · they dreaded the tree free had had to work up shadows and voices it was the same and in the house of the world · they sat on the green\n",
      "\n",
      "Epoch 00006: saving model to training_lotr_2l/cp.ckpt\n",
      "380554/380554 [==============================] - 217s 571us/sample - loss: 1.0135 - accuracy: 0.7506\n",
      "Epoch 7/50\n",
      "380448/380554 [============================>.] - ETA: 0s - loss: 1.0066 - accuracy: 0.7530\n",
      "----- Generating text after Epoch: 6\n",
      "Frodo -> Frodo gazed at the stone then was shouted and did it keep up with a gift ' from the others sharply in a change just in time · 'but ever gone came the north ' he said in a case only in gaping silence · the black rider was his left and left the back again · ‘ don't be a\n",
      "\n",
      "Epoch 00007: saving model to training_lotr_2l/cp.ckpt\n",
      "380554/380554 [==============================] - 260s 684us/sample - loss: 1.0066 - accuracy: 0.7530\n",
      "Epoch 8/50\n",
      "380544/380554 [============================>.] - ETA: 0s - loss: 1.0042 - accuracy: 0.7536\n",
      "----- Generating text after Epoch: 7\n",
      "Frodo -> Frodo looked at it for a while to his brother rúmil and picked the innkeeper let that he took and nearly on his face bilbo asked frodo and usually the glorfindel to 'bless the old gleam of his ring near leave · he got down to the bridge alone · ‘ why no i should like ’ · he then held\n",
      "\n",
      "Epoch 00008: saving model to training_lotr_2l/cp.ckpt\n",
      "380554/380554 [==============================] - 222s 582us/sample - loss: 1.0042 - accuracy: 0.7536\n",
      "Epoch 9/50\n",
      "380544/380554 [============================>.] - ETA: 0s - loss: 1.0043 - accuracy: 0.7535\n",
      "----- Generating text after Epoch: 8\n",
      "Frodo -> Frodo was neither very fat nor very timid indeed though he did not seem putting and it was both near his heart and was getting anxious and still · he called of stout moment · this · but i learned much my news of course and long before he really shall be · 'what do you mean ’ · ‘ listen\n",
      "\n",
      "Epoch 00009: saving model to training_lotr_2l/cp.ckpt\n",
      "380554/380554 [==============================] - 216s 568us/sample - loss: 1.0043 - accuracy: 0.7535\n",
      "Epoch 10/50\n",
      "380480/380554 [============================>.] - ETA: 0s - loss: 0.9985 - accuracy: 0.7546\n",
      "----- Generating text after Epoch: 9\n",
      "Frodo -> Frodo looked at aragorn and the standing stone with a stone under the stars from the shadow there was a blade a single smoke slipped away and the hand was still out of his own business and still listening to the silence · it was as soon as old was going to meet him in the ways of the great tree\n",
      "\n",
      "Epoch 00010: saving model to training_lotr_2l/cp.ckpt\n",
      "380554/380554 [==============================] - 212s 556us/sample - loss: 0.9986 - accuracy: 0.7546\n",
      "Epoch 11/50\n",
      "380512/380554 [============================>.] - ETA: 0s - loss: 0.9970 - accuracy: 0.7548\n",
      "----- Generating text after Epoch: 10\n",
      "Frodo -> Frodo was delighted in a way that had did with him but his word was thrown between him in silence again but he spoke to bilbo it gave it up till he was after the white feet of my own feet the old · he had taken the grim road before heavy years and the night black riders had feet out\n",
      "\n",
      "Epoch 00011: saving model to training_lotr_2l/cp.ckpt\n",
      "380554/380554 [==============================] - 263s 692us/sample - loss: 0.9970 - accuracy: 0.7548\n",
      "Epoch 12/50\n",
      "380512/380554 [============================>.] - ETA: 0s - loss: 0.9962 - accuracy: 0.7544\n",
      "----- Generating text after Epoch: 11\n",
      "Frodo -> Frodo felt the ring of his own face aragorn was getting tall and when he sat up his face and he saw that glorfindel was not speaking his thoughts · i shall be passing ' said sam · he went in cautiously and the others filed behind · when he came to himself sam noticed fade walking · and now sam\n",
      "\n",
      "Epoch 00012: saving model to training_lotr_2l/cp.ckpt\n",
      "380554/380554 [==============================] - 225s 590us/sample - loss: 0.9963 - accuracy: 0.7544\n",
      "Epoch 13/50\n",
      "380480/380554 [============================>.] - ETA: 0s - loss: 0.9904 - accuracy: 0.7574\n",
      "----- Generating text after Epoch: 12\n",
      "Frodo -> Frodo looked at frodo and smiled until he bore his sword on his head a large stone under night on the riders he had a deep and strong breath · strider withdrew into a dark corner to the horse · the time died on and the air was not so · he will be alone · i too despaired into view\n",
      "\n",
      "Epoch 00013: saving model to training_lotr_2l/cp.ckpt\n",
      "380554/380554 [==============================] - 226s 594us/sample - loss: 0.9905 - accuracy: 0.7574\n",
      "Epoch 14/50\n",
      "380544/380554 [============================>.] - ETA: 0s - loss: 0.9896 - accuracy: 0.7566\n",
      "----- Generating text after Epoch: 13\n",
      "Frodo -> Frodo was not in his way and he had come back from his way but his face was closed and began to screw himself up his face brown forward · he had hardly sat lit by once up but his neck sprang forward and his back was on his feet · what way on ' · he said · i have\n",
      "\n",
      "Epoch 00014: saving model to training_lotr_2l/cp.ckpt\n",
      "380554/380554 [==============================] - 221s 580us/sample - loss: 0.9896 - accuracy: 0.7566\n"
     ]
    },
    {
     "name": "stdout",
     "output_type": "stream",
     "text": [
      "Epoch 15/50\n",
      "380448/380554 [============================>.] - ETA: 0s - loss: 0.9873 - accuracy: 0.7572\n",
      "----- Generating text after Epoch: 14\n",
      "Frodo -> Frodo woke suddenly and found that a tree root had nearly good off a good deal of an eagle an hunting eagle up from the boughs of high hill · he whispered springing up and he is right · the riders did not not now see us ' said the dwarf · did you know what you mean · 'or at\n",
      "\n",
      "Epoch 00015: saving model to training_lotr_2l/cp.ckpt\n",
      "380554/380554 [==============================] - 236s 621us/sample - loss: 0.9874 - accuracy: 0.7572\n",
      "Epoch 16/50\n",
      "380512/380554 [============================>.] - ETA: 0s - loss: 0.9845 - accuracy: 0.7574\n",
      "----- Generating text after Epoch: 15\n",
      "Frodo -> Frodo said sam and pippin with only a look of relief and a laugh in a pile that behind was a hilt throwing a letter and slipped from over it · all was moria from the burden in he free · arrows whined and whistled filled the world at the sunlight deep upon the west · he sprang up and went\n",
      "\n",
      "Epoch 00016: saving model to training_lotr_2l/cp.ckpt\n",
      "380554/380554 [==============================] - 222s 583us/sample - loss: 0.9845 - accuracy: 0.7574\n",
      "Epoch 17/50\n",
      "380544/380554 [============================>.] - ETA: 0s - loss: 0.9806 - accuracy: 0.7586\n",
      "----- Generating text after Epoch: 16\n",
      "Frodo -> Frodo and sam could see nothing but the dark shapes of the farmer sat over the farmer muttered one hobbits give to his feet in the front of a high path and half forced through rohan tone spoke to ancient down in the distance · even as they went eaten in the marshes were the marish isildur's country though the would\n",
      "\n",
      "Epoch 00017: saving model to training_lotr_2l/cp.ckpt\n",
      "380554/380554 [==============================] - 219s 575us/sample - loss: 0.9807 - accuracy: 0.7586\n",
      "Epoch 18/50\n",
      "380512/380554 [============================>.] - ETA: 0s - loss: 0.9794 - accuracy: 0.7591\n",
      "----- Generating text after Epoch: 17\n",
      "Frodo -> Frodo looked at him with a lot that merry and his journey seemed under the shadow of the won't at once as much other as possible i can see far off · he was the doom of the last three day on the village for a second folk half in time that he had been made all the roads of steel\n",
      "\n",
      "Epoch 00018: saving model to training_lotr_2l/cp.ckpt\n",
      "380554/380554 [==============================] - 214s 563us/sample - loss: 0.9794 - accuracy: 0.7591\n",
      "Epoch 19/50\n",
      "380448/380554 [============================>.] - ETA: 0s - loss: 0.9765 - accuracy: 0.7598\n",
      "----- Generating text after Epoch: 18\n",
      "Frodo -> Frodo was restless and anxious listening in vain for any sound of any harm to command him to bear with their own help · frodo shuddered remembering the cruel knife with notched closed windows took flying out into the sea · pippin scattered and passed in gondor and refreshed as the night were miserable doom in nimrodel · on frodo came\n",
      "\n",
      "Epoch 00019: saving model to training_lotr_2l/cp.ckpt\n",
      "380554/380554 [==============================] - 230s 605us/sample - loss: 0.9766 - accuracy: 0.7598\n",
      "Epoch 20/50\n",
      "380544/380554 [============================>.] - ETA: 0s - loss: 0.9773 - accuracy: 0.7603\n",
      "----- Generating text after Epoch: 19\n",
      "Frodo -> Frodo felt that he was lying all round his face and behind a little wrath either stars and a figure like a dream the vision and frodo was looking at her glinting in the morning green race to be his old asked so the were of the lore of the walls of brick and at again they woke suddenly they pale\n",
      "\n",
      "Epoch 00020: saving model to training_lotr_2l/cp.ckpt\n",
      "380554/380554 [==============================] - 221s 582us/sample - loss: 0.9773 - accuracy: 0.7603\n",
      "Epoch 21/50\n",
      "380480/380554 [============================>.] - ETA: 0s - loss: 0.9740 - accuracy: 0.7612\n",
      "----- Generating text after Epoch: 20\n",
      "Frodo -> Frodo was no longer than the expected of my journey and his hair was long and smooth and faint of faint delight and was horrible sounds in places and stumbled like with faint laid to his hands · there were his long silence · who could not see · it was not the hedge and through them like back · frodo\n",
      "\n",
      "Epoch 00021: saving model to training_lotr_2l/cp.ckpt\n",
      "380554/380554 [==============================] - 224s 589us/sample - loss: 0.9740 - accuracy: 0.7612\n",
      "Epoch 22/50\n",
      "380544/380554 [============================>.] - ETA: 0s - loss: 0.9717 - accuracy: 0.7610\n",
      "----- Generating text after Epoch: 21\n",
      "Frodo -> Frodo was chilled to the marrow by the axe and fire hill was passing through an pile of his mouth rise like be laid upon a plain heads · if sam or four black riders went an evil and they could see something better than the use · it foamed about his feet as the snows are of the gone and\n",
      "\n",
      "Epoch 00022: saving model to training_lotr_2l/cp.ckpt\n",
      "380554/380554 [==============================] - 217s 569us/sample - loss: 0.9717 - accuracy: 0.7610\n",
      "Epoch 23/50\n",
      "380512/380554 [============================>.] - ETA: 0s - loss: 0.9711 - accuracy: 0.7613\n",
      "----- Generating text after Epoch: 22\n",
      "Frodo -> Frodo did not want to have a real strider or some else in the shire without a party · ‘ i don't know what you mean ’ said gandalf but if he could not take the ring or would resist in one power and his part now of their ring · warning against gildor you have got it · i was\n",
      "\n",
      "Epoch 00023: saving model to training_lotr_2l/cp.ckpt\n",
      "380554/380554 [==============================] - 228s 599us/sample - loss: 0.9711 - accuracy: 0.7613\n",
      "Epoch 24/50\n",
      "380512/380554 [============================>.] - ETA: 0s - loss: 0.9668 - accuracy: 0.7623\n",
      "----- Generating text after Epoch: 23\n",
      "Frodo -> Frodo was weary sweating and yet chilled · it was slender as the brown wilderness that started at the time that was years again · the grey light was · frodo sam he was suddenly felt a glimpse with a face of a high grey rider a deep stone at three towers the drum beats throbbed and rolled into his elven\n",
      "\n",
      "Epoch 00024: saving model to training_lotr_2l/cp.ckpt\n",
      "380554/380554 [==============================] - 245s 644us/sample - loss: 0.9668 - accuracy: 0.7623\n",
      "Epoch 25/50\n",
      "380480/380554 [============================>.] - ETA: 0s - loss: 0.9689 - accuracy: 0.7620\n",
      "----- Generating text after Epoch: 24\n",
      "Frodo -> Frodo was now safe in the west and parts as it became a great elf in the heart of the journey and see the desire of him he saw as he pays in the morning · let us talk of if things go off alone “ this and where is that the lady ’ · ‘ but what have you to\n",
      "\n",
      "Epoch 00025: saving model to training_lotr_2l/cp.ckpt\n",
      "380554/380554 [==============================] - 219s 576us/sample - loss: 0.9690 - accuracy: 0.7620\n",
      "Epoch 26/50\n",
      "380544/380554 [============================>.] - ETA: 0s - loss: 0.9668 - accuracy: 0.7622\n",
      "----- Generating text after Epoch: 25\n",
      "Frodo -> Frodo was in a chair at the bottom of the green bank at the bottom of the hill on back and on very weary hesitated on the further shores · the hobbits was glad to do even at any rate for cool own mist their new and pale clear air that were merry urged and down in time to be thick\n",
      "\n",
      "Epoch 00026: saving model to training_lotr_2l/cp.ckpt\n",
      "380554/380554 [==============================] - 223s 585us/sample - loss: 0.9668 - accuracy: 0.7622\n",
      "Epoch 27/50\n",
      "380448/380554 [============================>.] - ETA: 0s - loss: 0.9623 - accuracy: 0.7636\n",
      "----- Generating text after Epoch: 26\n",
      "Frodo -> Frodo felt a soft touch on his face and behind a fire under the trees that stood beside him and he sprang forward gazing at sam who had ridden · he must go long on a stony wall a set of a strong king but they did not see the doors of howling of many wolves · he must have a\n",
      "\n",
      "Epoch 00027: saving model to training_lotr_2l/cp.ckpt\n",
      "380554/380554 [==============================] - 251s 659us/sample - loss: 0.9623 - accuracy: 0.7636\n",
      "Epoch 28/50\n",
      "380448/380554 [============================>.] - ETA: 0s - loss: 0.9615 - accuracy: 0.7632\n",
      "----- Generating text after Epoch: 27\n",
      "Frodo -> Frodo was restless and anxious listening in vain for a sound of gandalf · ‘ i think well of course but i hope we must take this hard road we must do good to course but i hope it in some · i am going · i am going to try and get to bed ’ · ‘ i can go\n",
      "\n",
      "Epoch 00028: saving model to training_lotr_2l/cp.ckpt\n"
     ]
    },
    {
     "name": "stdout",
     "output_type": "stream",
     "text": [
      "380554/380554 [==============================] - 234s 615us/sample - loss: 0.9614 - accuracy: 0.7632\n",
      "Epoch 29/50\n",
      "380544/380554 [============================>.] - ETA: 0s - loss: 0.9606 - accuracy: 0.7633\n",
      "----- Generating text after Epoch: 28\n",
      "Frodo -> Frodo woke suddenly and found himself lying in the sky above him again but for some sound in his arms of rest as small his eyes opened his eyes · he did not prove heat · as far as it went down the hearts of the last land of the river · and at last they set off · three ·\n",
      "\n",
      "Epoch 00029: saving model to training_lotr_2l/cp.ckpt\n",
      "380554/380554 [==============================] - 232s 610us/sample - loss: 0.9606 - accuracy: 0.7633\n",
      "Epoch 30/50\n",
      "380448/380554 [============================>.] - ETA: 0s - loss: 0.9556 - accuracy: 0.7660\n",
      "----- Generating text after Epoch: 29\n",
      "Frodo -> Frodo was sitting at a table with a lot of papers in front of them and danced round them little in the water in the next hill · frodo stood down and flung himself from the wood · 'ah · the black shadow bent to the left stars of the water · he came out of the window and passed ·\n",
      "\n",
      "Epoch 00030: saving model to training_lotr_2l/cp.ckpt\n",
      "380554/380554 [==============================] - 233s 611us/sample - loss: 0.9557 - accuracy: 0.7660\n",
      "Epoch 31/50\n",
      "380480/380554 [============================>.] - ETA: 0s - loss: 0.9563 - accuracy: 0.7650\n",
      "----- Generating text after Epoch: 30\n",
      "Frodo -> Frodo was just ahead by the fire that was no longer night again from the great forest under the trees and on either side was making words of them and we also moved and none of them could were in deep moria the great river in the days or the world faltered and stubbed if the noises were opened in of\n",
      "\n",
      "Epoch 00031: saving model to training_lotr_2l/cp.ckpt\n",
      "380554/380554 [==============================] - 235s 618us/sample - loss: 0.9563 - accuracy: 0.7650\n",
      "Epoch 32/50\n",
      "380448/380554 [============================>.] - ETA: 0s - loss: 0.9519 - accuracy: 0.7675\n",
      "----- Generating text after Epoch: 31\n",
      "Frodo -> Frodo was neither very fat nor very timid indeed of bilbo and he was interested however to reappear in tree weapons and they whose grey feet was bitter · it was helped all in · ‘ you mean to go with you if you know a council of the secret and so · we can say them · but ever i\n",
      "\n",
      "Epoch 00032: saving model to training_lotr_2l/cp.ckpt\n",
      "380554/380554 [==============================] - 224s 590us/sample - loss: 0.9519 - accuracy: 0.7675\n",
      "Epoch 33/50\n",
      "380512/380554 [============================>.] - ETA: 0s - loss: 0.9521 - accuracy: 0.7670\n",
      "----- Generating text after Epoch: 32\n",
      "Frodo -> Frodo was sitting at a fire after drawing signs of his long hands and he found himself but as he ran through the opening the hill came behind was really flowing into the tongue in the leaves rejoiced · their wept on horses above · it seemed that the men of númenor has not not even it yet often they would\n",
      "\n",
      "Epoch 00033: saving model to training_lotr_2l/cp.ckpt\n",
      "380554/380554 [==============================] - 216s 567us/sample - loss: 0.9521 - accuracy: 0.7670\n",
      "Epoch 34/50\n",
      "380480/380554 [============================>.] - ETA: 0s - loss: 0.9541 - accuracy: 0.7661\n",
      "----- Generating text after Epoch: 33\n",
      "Frodo -> Frodo sat for a moment looking at the fire with a smile on his lips and then he falling again from the ground and then he turned to saw him at once · the bone he boned from its owner · doner · bright gloom her camp was silver and bright as a light fading came a noise of silver as\n",
      "\n",
      "Epoch 00034: saving model to training_lotr_2l/cp.ckpt\n",
      "380554/380554 [==============================] - 213s 560us/sample - loss: 0.9541 - accuracy: 0.7661\n",
      "Epoch 35/50\n",
      "380544/380554 [============================>.] - ETA: 0s - loss: 0.9531 - accuracy: 0.7662\n",
      "----- Generating text after Epoch: 34\n",
      "Frodo -> Frodo looked back at hand and with a smile faded from the frodo's which he said was also strange as though he had become like frodo's treasure than glorfindel · he could see nothing · the marked that great hobbiton was rather falling and slowly up the warm feet · the legend of bilbo's gold excited both curiosity about hope for\n",
      "\n",
      "Epoch 00035: saving model to training_lotr_2l/cp.ckpt\n",
      "380554/380554 [==============================] - 245s 643us/sample - loss: 0.9531 - accuracy: 0.7662\n",
      "Epoch 36/50\n",
      "380512/380554 [============================>.] - ETA: 0s - loss: 0.9473 - accuracy: 0.7676\n",
      "----- Generating text after Epoch: 35\n",
      "Frodo -> Frodo was still climbing to himself but at the time he turned and looked back and saw that the figure was clothed not in grey and with great white arches in great loop of the river · they could not guess make any glimpse · i feel i could not see him · i will not at once ' · they\n",
      "\n",
      "Epoch 00036: saving model to training_lotr_2l/cp.ckpt\n",
      "380554/380554 [==============================] - 226s 594us/sample - loss: 0.9473 - accuracy: 0.7676\n",
      "Epoch 37/50\n",
      "380448/380554 [============================>.] - ETA: 0s - loss: 0.9488 - accuracy: 0.7679\n",
      "----- Generating text after Epoch: 36\n",
      "Frodo -> Frodo was waiting for the first time to make a line of september and a small part of the very two came again was a small thing that part at the end of the three three riders in the rear · bag end began to take the point suddenly by gildor round in gildor gildor said what was not desire to\n",
      "\n",
      "Epoch 00037: saving model to training_lotr_2l/cp.ckpt\n",
      "380554/380554 [==============================] - 223s 586us/sample - loss: 0.9489 - accuracy: 0.7678\n",
      "Epoch 38/50\n",
      "380480/380554 [============================>.] - ETA: 0s - loss: 0.9457 - accuracy: 0.7678\n",
      "----- Generating text after Epoch: 37\n",
      "Frodo -> Frodo was delighted in a way it was himself with him some according to him just to gandalf the grey and well in his mind thought he would have got up with him · said she a new voice except that she lived among the tales of the elves and the elves behind their ways · the travellers came into the\n",
      "\n",
      "Epoch 00038: saving model to training_lotr_2l/cp.ckpt\n",
      "380554/380554 [==============================] - 216s 567us/sample - loss: 0.9457 - accuracy: 0.7678\n",
      "Epoch 39/50\n",
      "380480/380554 [============================>.] - ETA: 0s - loss: 0.9469 - accuracy: 0.7673\n",
      "----- Generating text after Epoch: 38\n",
      "Frodo -> Frodo looked at him closely and wondered not for my message of him that gandalf believed it before he set it so important it being fair and at last he gave out the ring on the spot ' he could for my words across world and he has silent of sauron and the deadly dwarf · he sat on a dwarf\n",
      "\n",
      "Epoch 00039: saving model to training_lotr_2l/cp.ckpt\n",
      "380554/380554 [==============================] - 234s 615us/sample - loss: 0.9468 - accuracy: 0.7673\n",
      "Epoch 40/50\n",
      "380448/380554 [============================>.] - ETA: 0s - loss: 0.9429 - accuracy: 0.7688\n",
      "----- Generating text after Epoch: 39\n",
      "Frodo -> Frodo looked at frodo and his three voices broke out and went off as if he was borne towards the end and it was getting hot and through a high time no longer almost holding a fold overhead at the valley · ‘ i am sure you may · i came to the edge of the wood safe and bad ·\n",
      "\n",
      "Epoch 00040: saving model to training_lotr_2l/cp.ckpt\n",
      "380554/380554 [==============================] - 223s 585us/sample - loss: 0.9430 - accuracy: 0.7688\n",
      "Epoch 41/50\n",
      "380448/380554 [============================>.] - ETA: 0s - loss: 0.9447 - accuracy: 0.7685\n",
      "----- Generating text after Epoch: 40\n",
      "Frodo -> Frodo and sam stood up in the fire and gnawed rinds and cracked clothed his eyes in doubt if just was dear old frodo's hobbits inside up · it is it · i could see it sky · in the flowers · well i hope this sam will meet his ponies if goes in for his ponies if you can read\n",
      "\n",
      "Epoch 00041: saving model to training_lotr_2l/cp.ckpt\n",
      "380554/380554 [==============================] - 230s 604us/sample - loss: 0.9447 - accuracy: 0.7685\n",
      "Epoch 42/50\n",
      "380544/380554 [============================>.] - ETA: 0s - loss: 0.9401 - accuracy: 0.7698\n",
      "----- Generating text after Epoch: 41\n",
      "Frodo -> Frodo was in an clad crystal in grey and a belt of trees and a sharp fit of walk over the ground behind them a large branch about a stick along the land there they seen and did not go on along the gatekeeper like that valley and went to gone again · ‘ one ring ’ said a wizard ·\n",
      "\n",
      "Epoch 00042: saving model to training_lotr_2l/cp.ckpt\n"
     ]
    },
    {
     "name": "stdout",
     "output_type": "stream",
     "text": [
      "380554/380554 [==============================] - 214s 563us/sample - loss: 0.9402 - accuracy: 0.7698\n",
      "Epoch 43/50\n",
      "380448/380554 [============================>.] - ETA: 0s - loss: 0.9406 - accuracy: 0.7686\n",
      "----- Generating text after Epoch: 42\n",
      "Frodo -> Frodo was silent for some time and then he began not sleep again with the others about the others until they had set the watch and had been stirring and they not look about them in any sunlit land · to the left hand of isildur was watched only in the tree but a heavy weight was upon and from it\n",
      "\n",
      "Epoch 00043: saving model to training_lotr_2l/cp.ckpt\n",
      "380554/380554 [==============================] - 233s 613us/sample - loss: 0.9407 - accuracy: 0.7686\n",
      "Epoch 44/50\n",
      "380480/380554 [============================>.] - ETA: 0s - loss: 0.9420 - accuracy: 0.7690\n",
      "----- Generating text after Epoch: 43\n",
      "Frodo -> Frodo was thinking of a strange fashion in foreign parts they were many more than other clear and dreadful but the rest in the glade at all costs they now stood sliding into the form of two other baggins of gold was like a brown woollen mat mr see anyone trouble · i had i should never said to look '\n",
      "\n",
      "Epoch 00044: saving model to training_lotr_2l/cp.ckpt\n",
      "380554/380554 [==============================] - 224s 588us/sample - loss: 0.9420 - accuracy: 0.7690\n",
      "Epoch 45/50\n",
      "380512/380554 [============================>.] - ETA: 0s - loss: 0.9363 - accuracy: 0.7705\n",
      "----- Generating text after Epoch: 44\n",
      "Frodo -> Frodo was in the way that he had vanished and nothing like the sound of him and running in the room he could see no sign and sleep stirred but he had no time · the song was a light · the hobbits stopped and half as thin as a weighing behind the understand holes · in the wide lands lay\n",
      "\n",
      "Epoch 00045: saving model to training_lotr_2l/cp.ckpt\n",
      "380554/380554 [==============================] - 228s 600us/sample - loss: 0.9363 - accuracy: 0.7705\n",
      "Epoch 46/50\n",
      "380544/380554 [============================>.] - ETA: 0s - loss: 0.9367 - accuracy: 0.7702\n",
      "----- Generating text after Epoch: 45\n",
      "Frodo -> Frodo looked at him with a smile upon his lips and then he lifted his eyes and saw the light but he heard himself crying out of a deep helm · with a matter of world on the other top the funny beautiful was deserted my news · but i was out through the south gate in the stories of the\n",
      "\n",
      "Epoch 00046: saving model to training_lotr_2l/cp.ckpt\n",
      "380554/380554 [==============================] - 229s 601us/sample - loss: 0.9367 - accuracy: 0.7702\n",
      "Epoch 47/50\n",
      "380544/380554 [============================>.] - ETA: 0s - loss: 0.9352 - accuracy: 0.7708 ETA: 0s - loss: 0.9351 - accuracy: 0.\n",
      "----- Generating text after Epoch: 46\n",
      "Frodo -> Frodo was chilled to the marrow and he began to wonder many light which was in the eastern shore they sat beside him and made a noise of the rising stone of pointing across the water · he came up and began to endure this way · he was thin and tough to him but a very little outside of his\n",
      "\n",
      "Epoch 00047: saving model to training_lotr_2l/cp.ckpt\n",
      "380554/380554 [==============================] - 240s 631us/sample - loss: 0.9352 - accuracy: 0.7708\n",
      "Epoch 48/50\n",
      "380480/380554 [============================>.] - ETA: 0s - loss: 0.9319 - accuracy: 0.7715\n",
      "----- Generating text after Epoch: 47\n",
      "Frodo -> Frodo felt the same ring and looked in the same spring came into his mind and his hands like gently as he cried · he was on guard no not yet · and he would not speak so what it still wasn't a much else in my adventure · and i thought he could tell of what he thought the rings\n",
      "\n",
      "Epoch 00048: saving model to training_lotr_2l/cp.ckpt\n",
      "380554/380554 [==============================] - 222s 583us/sample - loss: 0.9319 - accuracy: 0.7715\n",
      "Epoch 49/50\n",
      "380544/380554 [============================>.] - ETA: 0s - loss: 0.9319 - accuracy: 0.7710\n",
      "----- Generating text after Epoch: 48\n",
      "Frodo -> Frodo sat down beside the low voice and took out the dim white fire with his hand with a great brown morning · he was standing by the door of the dark peregrin had sunlight his feet felt into a stream · then he saw that well pass in the dark · he went on down the path and vanished over\n",
      "\n",
      "Epoch 00049: saving model to training_lotr_2l/cp.ckpt\n",
      "380554/380554 [==============================] - 225s 590us/sample - loss: 0.9319 - accuracy: 0.7710\n",
      "Epoch 50/50\n",
      "380448/380554 [============================>.] - ETA: 0s - loss: 0.9320 - accuracy: 0.7713\n",
      "----- Generating text after Epoch: 49\n",
      "Frodo -> Frodo said nothing but sam ‘ how i mean to déagol ’ said the wizard looking round as quickly as if with a relief of relief · suddenly he was aware that he was himself brown and up the and rest gandalf behind · he stepped down to the pavilion · he was frodo in the last homely house like a\n",
      "\n",
      "Epoch 00050: saving model to training_lotr_2l/cp.ckpt\n",
      "380554/380554 [==============================] - 215s 565us/sample - loss: 0.9320 - accuracy: 0.7713\n"
     ]
    },
    {
     "data": {
      "text/plain": [
       "{'loss': [1.0283275422617664,\n",
       "  1.024249182655078,\n",
       "  1.019856328812043,\n",
       "  1.016697897561332,\n",
       "  1.014682970850576,\n",
       "  1.0134909137735513,\n",
       "  1.0066013465595427,\n",
       "  1.0042130981323285,\n",
       "  1.0042910206154196,\n",
       "  0.9985795547094894,\n",
       "  0.9970210288602455,\n",
       "  0.9962800917750753,\n",
       "  0.9904811450732991,\n",
       "  0.989553547231237,\n",
       "  0.9874093236583001,\n",
       "  0.9845047380775781,\n",
       "  0.9806601880694683,\n",
       "  0.9793630199090753,\n",
       "  0.9766001102204206,\n",
       "  0.9772547860947294,\n",
       "  0.9739511526889535,\n",
       "  0.9716617901059701,\n",
       "  0.9710925245917552,\n",
       "  0.9667769126775009,\n",
       "  0.9689822140423168,\n",
       "  0.966762081719284,\n",
       "  0.9622847851980816,\n",
       "  0.961417852334274,\n",
       "  0.9605753252238952,\n",
       "  0.9556888367947455,\n",
       "  0.9562861589100803,\n",
       "  0.9519257690146613,\n",
       "  0.9521014914869266,\n",
       "  0.9540935643161975,\n",
       "  0.9531382518125207,\n",
       "  0.9473430508712759,\n",
       "  0.9488523348441443,\n",
       "  0.9457054612259123,\n",
       "  0.9467936685081011,\n",
       "  0.9429627171270794,\n",
       "  0.944734432466655,\n",
       "  0.9401546403062193,\n",
       "  0.940677898942087,\n",
       "  0.9419923416469708,\n",
       "  0.9362930329587746,\n",
       "  0.9367175241612218,\n",
       "  0.9351731684372098,\n",
       "  0.9318836876565315,\n",
       "  0.9318624227742398,\n",
       "  0.9320045295179198],\n",
       " 'accuracy': [0.74649066,\n",
       "  0.7480489,\n",
       "  0.7495546,\n",
       "  0.7496781,\n",
       "  0.7506451,\n",
       "  0.75058204,\n",
       "  0.7530495,\n",
       "  0.7535908,\n",
       "  0.7535304,\n",
       "  0.75462353,\n",
       "  0.7547707,\n",
       "  0.75441855,\n",
       "  0.7573564,\n",
       "  0.7565707,\n",
       "  0.7571593,\n",
       "  0.75736165,\n",
       "  0.75863874,\n",
       "  0.75910646,\n",
       "  0.7598265,\n",
       "  0.7603336,\n",
       "  0.76120603,\n",
       "  0.7610484,\n",
       "  0.76129276,\n",
       "  0.7622887,\n",
       "  0.762039,\n",
       "  0.76215726,\n",
       "  0.76358414,\n",
       "  0.76321363,\n",
       "  0.7633135,\n",
       "  0.76596487,\n",
       "  0.7649821,\n",
       "  0.7674969,\n",
       "  0.7670475,\n",
       "  0.7661357,\n",
       "  0.76621187,\n",
       "  0.76761776,\n",
       "  0.7678385,\n",
       "  0.76781744,\n",
       "  0.7673313,\n",
       "  0.7688081,\n",
       "  0.7685007,\n",
       "  0.76984346,\n",
       "  0.7686478,\n",
       "  0.7689815,\n",
       "  0.77049774,\n",
       "  0.7702008,\n",
       "  0.77077365,\n",
       "  0.77154624,\n",
       "  0.7710417,\n",
       "  0.7713308]}"
      ]
     },
     "execution_count": 35,
     "metadata": {},
     "output_type": "execute_result"
    }
   ],
   "source": [
    "N_EPOCHS = 50\n",
    "history2 = model.fit(\n",
    "    x, y,\n",
    "    epochs=N_EPOCHS,\n",
    "    verbose=1,\n",
    "    callbacks = training_callbacks,\n",
    ")\n",
    "history2.history"
   ]
  },
  {
   "cell_type": "code",
   "execution_count": 36,
   "metadata": {},
   "outputs": [
    {
     "data": {
      "image/png": "[encoded data removed]",
      "text/plain": [
       "<Figure size 432x288 with 1 Axes>"
      ]
     },
     "metadata": {
      "needs_background": "light"
     },
     "output_type": "display_data"
    },
    {
     "data": {
      "image/png": "[encoded data removed]",
      "text/plain": [
       "<Figure size 432x288 with 1 Axes>"
      ]
     },
     "metadata": {
      "needs_background": "light"
     },
     "output_type": "display_data"
    }
   ],
   "source": [
    "accuracy2 = accuracy + history2.history['accuracy']\n",
    "loss2 = loss + history2.history['loss']\n",
    "\n",
    "epochs = range(len(accuracy2))\n",
    "\n",
    "plt.plot(epochs, accuracy2, 'b', label='Training accuracy')\n",
    "plt.title('Training accuracy')\n",
    "\n",
    "plt.figure()\n",
    "\n",
    "plt.plot(epochs, loss2, 'b', label='Training Loss')\n",
    "plt.title('Training loss')\n",
    "plt.legend()\n",
    "\n",
    "plt.show()"
   ]
  },
  {
   "cell_type": "code",
   "execution_count": 37,
   "metadata": {},
   "outputs": [
    {
     "name": "stdout",
     "output_type": "stream",
     "text": [
      "INFO:tensorflow:Assets written to: lotr_prediction_model_1580492244\\assets\n"
     ]
    }
   ],
   "source": [
    "save_filename = 'lotr_prediction_model_%s'% int(time.time())\n",
    "model.save(save_filename)"
   ]
  },
  {
   "cell_type": "code",
   "execution_count": 38,
   "metadata": {},
   "outputs": [
    {
     "name": "stdout",
     "output_type": "stream",
     "text": [
      "Frodo -> Frodo said nothing but sam ‘ how i mean to déagol ’ said the wizard looking round as quickly as if with a relief of relief · suddenly he was aware that he was himself brown and up the and rest gandalf behind · he stepped down to the pavilion · he was frodo in the last homely house like a answered of little feet but there was a cry of feeling going beyond simple but the biting lanterns were drinking and the river with small river and wrought eyes and age and for the kings ' · a moment has come out with his good dangerous he already accident ' · said frodo · the story just replied that an faithful with mr frodo · and quite accident i need too likely that he made that you worry about anything · i don't know what i mean · no time i would tell you a really like away i much came knowledge to say my part in that i think i shall ever get there · but i had forgotten it if you were present · ‘ i am rather shaken with me · i know one of the little folk who we go with him · how it would be i i know · i will not let him go alone if i ever get off before · i do not know if bilbo could think why bilbo were destroyed · i have no risk of a talk of a kind of old mean ' · he cried · i mean i did not · i do not like the word of elrond but i am afraid i will bear you to see all the others · i was watching them as soon they were riding in the hardly a hundred leagues from the rock as the road went on wound like a rock wall and that it suddenly day softly · and those made frodo never obliged to hope to take this only stuff to come to minas tirith · he knows that it is not going to spend a day in quietly while you spoke to my mind · but know his haste is must gorgoroth my bearer on his eyes · the will of the blinding sheet it · the things may pass the mountains ' · frodo asked the hobbits in the hall of boromir and the words was held from frodo's packing there glittered like living stones · and if he hated it why i should say to you seen ’ · he spoke again · doom doom went the interest but frodo come here · he walked right and opening at the black laugh · you may see them ' · 'it was not yet any hot would be well ' · they were noise of churning water up the horse halted and in a deep yards across a door over the river bank · ‘ if that is what about you frodo\n"
     ]
    }
   ],
   "source": [
    "\n",
    "seed_text = \"Frodo\"\n",
    "next_words = 500\n",
    "\n",
    "gen_text = generate_next_n_words(seed_text,next_words)\n",
    "print(seed_text, \"->\", gen_text)"
   ]
  }
 ],
 "metadata": {
  "kernelspec": {
   "display_name": "Python 3",
   "language": "python",
   "name": "python3"
  },
  "language_info": {
   "codemirror_mode": {
    "name": "ipython",
    "version": 3
   },
   "file_extension": ".py",
   "mimetype": "text/x-python",
   "name": "python",
   "nbconvert_exporter": "python",
   "pygments_lexer": "ipython3",
   "version": "3.7.5"
  }
 },
 "nbformat": 4,
 "nbformat_minor": 2
}
