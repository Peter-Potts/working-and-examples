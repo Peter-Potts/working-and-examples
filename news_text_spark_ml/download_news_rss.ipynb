{
 "cells": [
  {
   "cell_type": "code",
   "execution_count": 1,
   "metadata": {},
   "outputs": [],
   "source": [
    "import feedparser"
   ]
  },
  {
   "cell_type": "code",
   "execution_count": 2,
   "metadata": {},
   "outputs": [],
   "source": [
    "#Lets test that it works, and also download the all purpose\n",
    "# 'just in' abc news feed\n",
    "ABC_JUST_IN_URL = 'https://www.abc.net.au/news/feed/51120/rss.xml'\n",
    "\n",
    "abc_feed = feedparser.parse(ABC_JUST_IN_URL)"
   ]
  },
  {
   "cell_type": "code",
   "execution_count": 3,
   "metadata": {},
   "outputs": [
    {
     "data": {
      "text/plain": [
       "{'language': 'en-AU',\n",
       " 'title': 'Just In',\n",
       " 'title_detail': {'type': 'text/plain',\n",
       "  'language': 'en-US',\n",
       "  'base': 'https://www.abc.net.au/news/feed/51120/rss.xml',\n",
       "  'value': 'Just In'},\n",
       " 'tags': [{'term': 'Australian Broadcasting Corporation: All content',\n",
       "   'scheme': None,\n",
       "   'label': None}],\n",
       " 'links': [{'rel': 'alternate',\n",
       "   'type': 'text/html',\n",
       "   'href': 'https://www.abc.net.au/news/justin/'}],\n",
       " 'link': 'https://www.abc.net.au/news/justin/',\n",
       " 'rights': 'Copyright 2020, Australian Broadcasting Corporation. All Rights Reserved.',\n",
       " 'rights_detail': {'type': 'text/plain',\n",
       "  'language': 'en-US',\n",
       "  'base': 'https://www.abc.net.au/news/feed/51120/rss.xml',\n",
       "  'value': 'Copyright 2020, Australian Broadcasting Corporation. All Rights Reserved.'},\n",
       " 'published': 'Sat, 18 Jan 2020 12:28:54 +1100',\n",
       " 'published_parsed': time.struct_time(tm_year=2020, tm_mon=1, tm_mday=18, tm_hour=1, tm_min=28, tm_sec=54, tm_wday=5, tm_yday=18, tm_isdst=0),\n",
       " 'updated': 'Sat, 18 Jan 2020 12:28:54 +1100',\n",
       " 'updated_parsed': time.struct_time(tm_year=2020, tm_mon=1, tm_mday=18, tm_hour=1, tm_min=28, tm_sec=54, tm_wday=5, tm_yday=18, tm_isdst=0),\n",
       " 'docs': 'http://blogs.law.harvard.edu/tech/rss',\n",
       " 'authors': [{'name': 'ABC News', 'email': 'Newson1ine@abc.net.au'}],\n",
       " 'author': 'Newson1ine@abc.net.au (ABC News)',\n",
       " 'author_detail': {'name': 'ABC News', 'email': 'Newson1ine@abc.net.au'},\n",
       " 'image': {'title': 'ABC News',\n",
       "  'title_detail': {'type': 'text/plain',\n",
       "   'language': 'en-US',\n",
       "   'base': 'https://www.abc.net.au/news/feed/51120/rss.xml',\n",
       "   'value': 'ABC News'},\n",
       "  'href': 'https://www.abc.net.au/news/image/8413416-1x1-144x144.png',\n",
       "  'links': [{'rel': 'alternate',\n",
       "    'type': 'text/html',\n",
       "    'href': 'https://www.abc.net.au/news/justin/'}],\n",
       "  'link': 'https://www.abc.net.au/news/justin/'}}"
      ]
     },
     "execution_count": 3,
     "metadata": {},
     "output_type": "execute_result"
    }
   ],
   "source": [
    "#\"The channel elements are available in d.feed.\"\n",
    "abc_feed.feed"
   ]
  },
  {
   "cell_type": "code",
   "execution_count": 4,
   "metadata": {},
   "outputs": [
    {
     "data": {
      "text/plain": [
       "{'title': 'Tour Down Under boosts morale in bushfire-ravaged Adelaide Hills',\n",
       " 'title_detail': {'type': 'text/plain',\n",
       "  'language': 'en-US',\n",
       "  'base': 'https://www.abc.net.au/news/feed/51120/rss.xml',\n",
       "  'value': 'Tour Down Under boosts morale in bushfire-ravaged Adelaide Hills'},\n",
       " 'links': [{'rel': 'alternate',\n",
       "   'type': 'text/html',\n",
       "   'href': 'https://www.abc.net.au/news/2020-01-18/tour-down-under-bringing-hope-back-to-adelaide-hills/11879602'}],\n",
       " 'link': 'https://www.abc.net.au/news/2020-01-18/tour-down-under-bringing-hope-back-to-adelaide-hills/11879602',\n",
       " 'summary': '<p>Residents and businesses welcome cyclists and spectators despite still recovering from the devastating Cudlee Creek blaze.</p>',\n",
       " 'summary_detail': {'type': 'text/html',\n",
       "  'language': 'en-US',\n",
       "  'base': 'https://www.abc.net.au/news/feed/51120/rss.xml',\n",
       "  'value': '<p>Residents and businesses welcome cyclists and spectators despite still recovering from the devastating Cudlee Creek blaze.</p>'},\n",
       " 'published': 'Sat, 18 Jan 2020 12:28:54 +1100',\n",
       " 'published_parsed': time.struct_time(tm_year=2020, tm_mon=1, tm_mday=18, tm_hour=1, tm_min=28, tm_sec=54, tm_wday=5, tm_yday=18, tm_isdst=0),\n",
       " 'id': 'https://www.abc.net.au/news/2020-01-18/tour-down-under-bringing-hope-back-to-adelaide-hills/11879602',\n",
       " 'guidislink': False,\n",
       " 'tags': [{'term': 'Bushfire', 'scheme': None, 'label': None},\n",
       "  {'term': 'Fires', 'scheme': None, 'label': None},\n",
       "  {'term': 'Disasters and Accidents', 'scheme': None, 'label': None},\n",
       "  {'term': 'Travel and Tourism', 'scheme': None, 'label': None},\n",
       "  {'term': 'Rural Tourism', 'scheme': None, 'label': None},\n",
       "  {'term': 'Cycling', 'scheme': None, 'label': None},\n",
       "  {'term': 'Emergency Planning', 'scheme': None, 'label': None},\n",
       "  {'term': 'Defence Forces', 'scheme': None, 'label': None},\n",
       "  {'term': 'Air Force', 'scheme': None, 'label': None},\n",
       "  {'term': 'Sport', 'scheme': None, 'label': None},\n",
       "  {'term': 'Women', 'scheme': None, 'label': None}],\n",
       " 'content': [{'type': 'text/plain',\n",
       "   'language': 'en-US',\n",
       "   'base': 'https://www.abc.net.au/news/feed/51120/rss.xml',\n",
       "   'value': \"Women's Tour Down Under cyclists ride past a burnt house in the Adelaide Hills. (ABC News)\"}],\n",
       " 'media_content': [{'url': 'https://www.abc.net.au/news/image/11879648-16x9-2150x1210.jpg',\n",
       "   'medium': 'image',\n",
       "   'type': 'image/jpeg',\n",
       "   'width': '2150',\n",
       "   'height': '1210'},\n",
       "  {'url': 'https://www.abc.net.au/news/image/11879648-4x3-940x705.jpg',\n",
       "   'medium': 'image',\n",
       "   'type': 'image/jpeg',\n",
       "   'width': '940',\n",
       "   'height': '705'},\n",
       "  {'url': 'https://www.abc.net.au/news/image/11879648-3x2-940x627.jpg',\n",
       "   'medium': 'image',\n",
       "   'type': 'image/jpeg',\n",
       "   'width': '940',\n",
       "   'height': '627',\n",
       "   'isdefault': 'true'},\n",
       "  {'url': 'https://www.abc.net.au/news/image/11879648-3x4-940x1253.jpg',\n",
       "   'medium': 'image',\n",
       "   'type': 'image/jpeg',\n",
       "   'width': '940',\n",
       "   'height': '1253'},\n",
       "  {'url': 'https://www.abc.net.au/news/image/11879648-1x1-1400x1400.jpg',\n",
       "   'medium': 'image',\n",
       "   'type': 'image/jpeg',\n",
       "   'width': '1400',\n",
       "   'height': '1400'}],\n",
       " 'media_thumbnail': [{'url': 'https://www.abc.net.au/news/image/11879648-4x3-140x105.jpg',\n",
       "   'width': '140',\n",
       "   'height': '105'}],\n",
       " 'href': ''}"
      ]
     },
     "execution_count": 4,
     "metadata": {},
     "output_type": "execute_result"
    }
   ],
   "source": [
    "#And look at a post or 2:\n",
    "abc_feed.entries[0]"
   ]
  },
  {
   "cell_type": "code",
   "execution_count": 5,
   "metadata": {},
   "outputs": [],
   "source": [
    "# tuples - (category: str, url: str)\n",
    "NEWS_SOURCES = [\n",
    "    ('Business', 'https://www.abc.net.au/news/feed/51892/rss.xml'),\n",
    "    \n",
    "    #('Sport', 'https://www.abc.net.au/news/feed/2802250/rss.xml'), #This is 'sport just in' - they also have feeds for cricket, football, etc\n",
    "    ('Cricket', 'https://www.abc.net.au/news/feed/3637708/rss.xml'),\n",
    "    ('Soccer Football', 'https://www.abc.net.au/news/feed/7458444/rss.xml'), #just called 'football' on the page\n",
    "    ('Rugby Union', 'https://www.abc.net.au/news/feed/7077058/rss.xml'),\n",
    "    ('AFL', 'https://www.abc.net.au/news/feed/7077144/rss.xml'),\n",
    "    ('Rugby League', 'https://www.abc.net.au/news/feed/7077030/rss.xml'),\n",
    "    #Under 'Sports>More' comes athletics, basketball, etc. I'll just include athletics for now\n",
    "    ('Athletics', 'https://www.abc.net.au/news/feed/7076882/rss.xml'),\n",
    "    \n",
    "    #('Politics', 'https://www.abc.net.au/news/feed/ ??? 8413676 ??? /rss.xml'),\n",
    "    \n",
    "    ('World News', 'https://www.abc.net.au/news/feed/4405318/rss.xml'),\n",
    "]\n",
    "\n",
    "#'all', 'https://www.abc.net.au/news/feed/51120/rss.xml' # (\"Just in\")"
   ]
  },
  {
   "cell_type": "code",
   "execution_count": 6,
   "metadata": {},
   "outputs": [],
   "source": [
    "# Doesn't work\n",
    "#  direct_feed= feedparser.parse('https://www.abc.net.au/news/politics/justin/')"
   ]
  },
  {
   "cell_type": "code",
   "execution_count": 7,
   "metadata": {},
   "outputs": [
    {
     "data": {
      "text/plain": [
       "''"
      ]
     },
     "execution_count": 7,
     "metadata": {},
     "output_type": "execute_result"
    }
   ],
   "source": [
    "sources_and_feeds = [\n",
    "    (category, source, feedparser.parse(source))\n",
    "    for category, source in NEWS_SOURCES\n",
    "]\n",
    ";"
   ]
  },
  {
   "cell_type": "code",
   "execution_count": 8,
   "metadata": {},
   "outputs": [
    {
     "data": {
      "text/plain": [
       "[('Business',\n",
       "  'Business',\n",
       "  250,\n",
       "  [\"'Easy debt to get into': Buy now, pay later food purchases worry consumer advocates\"]),\n",
       " ('Cricket',\n",
       "  'Cricket',\n",
       "  250,\n",
       "  ['Smith heroics not enough as India levels series']),\n",
       " ('Soccer Football',\n",
       "  'Football',\n",
       "  250,\n",
       "  [\"Sam Kerr's tricky assist helps Beth England clinch a goal for Chelsea\"]),\n",
       " ('Rugby Union',\n",
       "  'Rugby Union',\n",
       "  250,\n",
       "  [\"The Aboriginal rugby coach who says we need to stop using the term 'Indigenous'\"]),\n",
       " ('AFL',\n",
       "  'AFL',\n",
       "  250,\n",
       "  [\"Spot the difference — when is breaking someone's jaw not assault?\"]),\n",
       " ('Rugby League',\n",
       "  'Rugby League',\n",
       "  250,\n",
       "  ['NRL decade in review: The team and player of the decade']),\n",
       " ('Athletics',\n",
       "  'Athletics',\n",
       "  250,\n",
       "  [\"Australian marathon legend Rob de Castella says these 'ludicrous' shoes should be banned\"]),\n",
       " ('World News',\n",
       "  'Just In',\n",
       "  250,\n",
       "  ['Smith heroics not enough as India levels series'])]"
      ]
     },
     "execution_count": 8,
     "metadata": {},
     "output_type": "execute_result"
    }
   ],
   "source": [
    "# Quick check:\n",
    "[\n",
    "    (category, feed.feed.title, len(feed.entries), [entry.title for entry in feed.entries[:1]])\n",
    "    for category, source, feed in sources_and_feeds\n",
    "]"
   ]
  },
  {
   "cell_type": "code",
   "execution_count": 9,
   "metadata": {},
   "outputs": [
    {
     "data": {
      "text/plain": [
       "{'title': \"'Easy debt to get into': Buy now, pay later food purchases worry consumer advocates\",\n",
       " 'title_detail': {'type': 'text/plain',\n",
       "  'language': 'en-US',\n",
       "  'base': 'https://www.abc.net.au/news/feed/51892/rss.xml',\n",
       "  'value': \"'Easy debt to get into': Buy now, pay later food purchases worry consumer advocates\"},\n",
       " 'links': [{'rel': 'alternate',\n",
       "   'type': 'text/html',\n",
       "   'href': 'https://www.abc.net.au/news/2020-01-18/buy-now-pay-later-food-purchases-worry-consumer-advocates/11873572'}],\n",
       " 'link': 'https://www.abc.net.au/news/2020-01-18/buy-now-pay-later-food-purchases-worry-consumer-advocates/11873572',\n",
       " 'summary': '<p>Butcher Samantha Walk says buy now, pay later finance is the \"way of the future\" and her customers love it — but consumer advocates fear food and other consumable purchases on the scheme will further plunge people into debt.</p>',\n",
       " 'summary_detail': {'type': 'text/html',\n",
       "  'language': 'en-US',\n",
       "  'base': 'https://www.abc.net.au/news/feed/51892/rss.xml',\n",
       "  'value': '<p>Butcher Samantha Walk says buy now, pay later finance is the \"way of the future\" and her customers love it — but consumer advocates fear food and other consumable purchases on the scheme will further plunge people into debt.</p>'},\n",
       " 'authors': [{'name': 'Fiona Blackwood'}],\n",
       " 'author': 'Fiona Blackwood',\n",
       " 'author_detail': {'name': 'Fiona Blackwood'},\n",
       " 'published': 'Sat, 18 Jan 2020 09:48:00 +1100',\n",
       " 'published_parsed': time.struct_time(tm_year=2020, tm_mon=1, tm_mday=17, tm_hour=22, tm_min=48, tm_sec=0, tm_wday=4, tm_yday=17, tm_isdst=0),\n",
       " 'id': 'https://www.abc.net.au/news/2020-01-18/buy-now-pay-later-food-purchases-worry-consumer-advocates/11873572',\n",
       " 'guidislink': False,\n",
       " 'tags': [{'term': 'Consumer Protection', 'scheme': None, 'label': None},\n",
       "  {'term': 'Consumer Finance', 'scheme': None, 'label': None}],\n",
       " 'content': [{'type': 'text/plain',\n",
       "   'language': 'en-US',\n",
       "   'base': 'https://www.abc.net.au/news/feed/51892/rss.xml',\n",
       "   'value': 'Butcher Samantha Walk says buy now, pay later has been a hit since she first started offering it. (Supplied: Lucas Hill)'}],\n",
       " 'media_content': [{'url': 'https://www.abc.net.au/news/image/11876224-16x9-2150x1210.jpg',\n",
       "   'medium': 'image',\n",
       "   'type': 'image/jpeg',\n",
       "   'width': '2150',\n",
       "   'height': '1210'},\n",
       "  {'url': 'https://www.abc.net.au/news/image/11876224-4x3-940x705.jpg',\n",
       "   'medium': 'image',\n",
       "   'type': 'image/jpeg',\n",
       "   'width': '940',\n",
       "   'height': '705'},\n",
       "  {'url': 'https://www.abc.net.au/news/image/11876224-3x2-940x627.jpg',\n",
       "   'medium': 'image',\n",
       "   'type': 'image/jpeg',\n",
       "   'width': '940',\n",
       "   'height': '627',\n",
       "   'isdefault': 'true'},\n",
       "  {'url': 'https://www.abc.net.au/news/image/11876224-3x4-940x1253.jpg',\n",
       "   'medium': 'image',\n",
       "   'type': 'image/jpeg',\n",
       "   'width': '940',\n",
       "   'height': '1253'},\n",
       "  {'url': 'https://www.abc.net.au/news/image/11876224-1x1-1400x1400.jpg',\n",
       "   'medium': 'image',\n",
       "   'type': 'image/jpeg',\n",
       "   'width': '1400',\n",
       "   'height': '1400'}],\n",
       " 'media_thumbnail': [{'url': 'https://www.abc.net.au/news/image/11876224-4x3-140x105.jpg',\n",
       "   'width': '140',\n",
       "   'height': '105'}],\n",
       " 'href': ''}"
      ]
     },
     "execution_count": 9,
     "metadata": {},
     "output_type": "execute_result"
    }
   ],
   "source": [
    "#Quickly look at what is the structure of an entry\n",
    "test_entry = sources_and_feeds[0][2].entries[0]\n",
    "test_entry"
   ]
  },
  {
   "cell_type": "code",
   "execution_count": 10,
   "metadata": {},
   "outputs": [
    {
     "data": {
      "text/plain": [
       "(\"'Easy debt to get into': Buy now, pay later food purchases worry consumer advocates\",\n",
       " '<p>Butcher Samantha Walk says buy now, pay later finance is the \"way of the future\" and her customers love it — but consumer advocates fear food and other consumable purchases on the scheme will further plunge people into debt.</p>')"
      ]
     },
     "execution_count": 10,
     "metadata": {},
     "output_type": "execute_result"
    }
   ],
   "source": [
    "test_entry.title, test_entry.description"
   ]
  },
  {
   "cell_type": "code",
   "execution_count": 11,
   "metadata": {},
   "outputs": [],
   "source": [
    "#Note these can have html elements, so may be best to strip those?\n",
    "# can be done now, or later\n",
    "#Aside, that may mean some text elements get html encoding, which is worth undoing when converting into 'text'\n",
    "\n",
    "# We can use beautifulsoup to do so\n",
    "#pip package: beautifulsoup4\n",
    "from bs4 import BeautifulSoup"
   ]
  },
  {
   "cell_type": "code",
   "execution_count": 12,
   "metadata": {},
   "outputs": [
    {
     "name": "stdout",
     "output_type": "stream",
     "text": [
      "('Easy debt to get into': Buy now, pay later food purchases worry consumer advocates, <p>Butcher Samantha Walk says buy now, pay later finance is the \"way of the future\" and her customers love it — but consumer advocates fear food and other consumable purchases on the scheme will further plunge people into debt.</p>)\n",
      "(\"'Easy debt to get into': Buy now, pay later food purchases worry consumer advocates\", 'Butcher Samantha Walk says buy now, pay later finance is the \"way of the future\" and her customers love it — but consumer advocates fear food and other consumable purchases on the scheme will further plunge people into debt.')\n"
     ]
    }
   ],
   "source": [
    "soup_title = BeautifulSoup(test_entry.title, 'html.parser')\n",
    "soup_entry = BeautifulSoup(test_entry.description, 'html.parser')\n",
    "\n",
    "print(\n",
    "    (soup_title, soup_entry),\n",
    ")\n",
    "print(\n",
    "    (soup_title.get_text(), soup_entry.get_text()),\n",
    ")"
   ]
  },
  {
   "cell_type": "code",
   "execution_count": 13,
   "metadata": {},
   "outputs": [
    {
     "data": {
      "text/plain": [
       "('https://www.abc.net.au/news/2020-01-18/buy-now-pay-later-food-purchases-worry-consumer-advocates/11873572',\n",
       " 'https://www.abc.net.au/news/2020-01-18/buy-now-pay-later-food-purchases-worry-consumer-advocates/11873572',\n",
       " 'Sat, 18 Jan 2020 09:48:00 +1100',\n",
       " time.struct_time(tm_year=2020, tm_mon=1, tm_mday=17, tm_hour=22, tm_min=48, tm_sec=0, tm_wday=4, tm_yday=17, tm_isdst=0))"
      ]
     },
     "execution_count": 13,
     "metadata": {},
     "output_type": "execute_result"
    }
   ],
   "source": [
    "\n",
    "#Probably worth extracting the guid and date published as well\n",
    "\n",
    "test_entry.guid, test_entry.id, test_entry.published, test_entry.published_parsed"
   ]
  },
  {
   "cell_type": "code",
   "execution_count": 14,
   "metadata": {},
   "outputs": [
    {
     "data": {
      "text/plain": [
       "2000"
      ]
     },
     "execution_count": 14,
     "metadata": {},
     "output_type": "execute_result"
    }
   ],
   "source": [
    "# OK, so lets work towards exporting the data\n",
    "feed_entries_processed = list()\n",
    "for category, source, feed in sources_and_feeds:\n",
    "    for entry in feed.entries:\n",
    "        entry_title_soup = BeautifulSoup(entry.title, 'html.parser')\n",
    "        entry_description_soup = BeautifulSoup(entry.description, 'html.parser')\n",
    "        \n",
    "        entry_title_text = entry_title_soup.get_text()\n",
    "        entry_description_text = entry_description_soup.get_text()\n",
    "        \n",
    "        processed_data = (\n",
    "            category,\n",
    "            entry_title_text,\n",
    "            entry_description_text,\n",
    "            entry.guid,\n",
    "            entry.published,\n",
    "        )\n",
    "        feed_entries_processed.append(processed_data)\n",
    "\n",
    "len(feed_entries_processed)"
   ]
  },
  {
   "cell_type": "code",
   "execution_count": 15,
   "metadata": {},
   "outputs": [
    {
     "data": {
      "text/plain": [
       "[('Business',\n",
       "  \"'Easy debt to get into': Buy now, pay later food purchases worry consumer advocates\",\n",
       "  'Butcher Samantha Walk says buy now, pay later finance is the \"way of the future\" and her customers love it — but consumer advocates fear food and other consumable purchases on the scheme will further plunge people into debt.',\n",
       "  'https://www.abc.net.au/news/2020-01-18/buy-now-pay-later-food-purchases-worry-consumer-advocates/11873572',\n",
       "  'Sat, 18 Jan 2020 09:48:00 +1100'),\n",
       " ('Business',\n",
       "  'Canada the latest to harness Australian Indigenous fire knowledge to fight wildfire',\n",
       "  'From Canada to Asia, Africa and Latin America, the world is seeking-out Australian Indigenous fire expertise to help prevent wildfire and curb emissions.',\n",
       "  'https://www.abc.net.au/news/2020-01-18/harnessing-australian-indigenous-fire-knowledge-worldwide/11878562',\n",
       "  'Sat, 18 Jan 2020 08:59:41 +1100'),\n",
       " ('Business',\n",
       "  'No sheep bottoms were harmed in the making of this jumper',\n",
       "  \"Not all wool producers are happy about the trend towards using non-mulesed wool in Australia's fashion industry. Some say the pressure to phase-out the practice is adding unnecessary pressure in already tough times. \",\n",
       "  'https://www.abc.net.au/news/2020-01-18/wool-producers-under-pressure-to-stop-mulesing-fashion-industry/11871706',\n",
       "  'Sat, 18 Jan 2020 08:09:32 +1100'),\n",
       " ('Business',\n",
       "  'A 24-year-old council worker is taking on fossil fuels and his super fund in a world-first court case',\n",
       "  \"A landmark trial in Australia could potentially change the way superannuation funds invest Australians' almost $3 trillion in retirement savings and pave the way for more climate-change-related litigation.\",\n",
       "  'https://www.abc.net.au/news/2020-01-18/mark-mcveigh-is-taking-on-rest-super-and-has-the-world-watching/11876360',\n",
       "  'Sat, 18 Jan 2020 06:21:13 +1100'),\n",
       " ('Business',\n",
       "  'Chinese birth rate falls to its lowest in 70 years',\n",
       "  \"The country's birth rate in 2019 fell to its lowest since the founding of the People's Republic of China, posing a long-term challenge for the country's government, which faces an ageing population and a slowing economy.\",\n",
       "  'https://www.abc.net.au/news/2020-01-17/china-birth-rate-lowest-in-70-years/11878818',\n",
       "  'Fri, 17 Jan 2020 20:25:03 +1100')]"
      ]
     },
     "execution_count": 15,
     "metadata": {},
     "output_type": "execute_result"
    }
   ],
   "source": [
    "feed_entries_processed[:5]"
   ]
  },
  {
   "cell_type": "code",
   "execution_count": 16,
   "metadata": {},
   "outputs": [
    {
     "name": "stdout",
     "output_type": "stream",
     "text": [
      "News data is 0.76 M\n"
     ]
    }
   ],
   "source": [
    "\n",
    "#Output it as a csv\n",
    "output_filename = 'news_data.csv'\n",
    "\n",
    "import csv\n",
    "with open(output_filename, 'w', newline='') as csvfile:\n",
    "    csv_writer = csv.writer(csvfile, quoting=csv.QUOTE_MINIMAL)\n",
    "    \n",
    "    for data_row in feed_entries_processed:\n",
    "        csv_writer.writerow(data_row)\n",
    "\n",
    "import os\n",
    "fsize = os.stat(output_filename).st_size\n",
    "print(\"News data is %.2f M\" % (fsize/2**20) )\n"
   ]
  },
  {
   "cell_type": "code",
   "execution_count": null,
   "metadata": {},
   "outputs": [],
   "source": []
  }
 ],
 "metadata": {
  "kernelspec": {
   "display_name": "Python 3",
   "language": "python",
   "name": "python3"
  },
  "language_info": {
   "codemirror_mode": {
    "name": "ipython",
    "version": 3
   },
   "file_extension": ".py",
   "mimetype": "text/x-python",
   "name": "python",
   "nbconvert_exporter": "python",
   "pygments_lexer": "ipython3",
   "version": "3.7.5"
  }
 },
 "nbformat": 4,
 "nbformat_minor": 4
}
