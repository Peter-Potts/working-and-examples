{
 "cells": [
  {
   "cell_type": "code",
   "execution_count": 1,
   "metadata": {},
   "outputs": [
    {
     "data": {
      "text/plain": [
       "Name: Syntax Error.\n",
       "Message: \n",
       "StackTrace: "
      ]
     },
     "execution_count": 1,
     "metadata": {},
     "output_type": "execute_result"
    }
   ],
   "source": [
    "//import org.apache.spark.SparkContext\n",
    "//val sc = new SparkContext(\"local\", \"\")\n",
    "\n",
    "//NOTE:\n",
    "//Running this with default settings, I got an OutOfMemory Error.\n",
    "// A bit of digging revealed a fix was to set the env var `SPARK_OPTS=--driver-memory=2g` (up from the 1g default)\n",
    "// before running `jupyter lab` (then the kernel recieves this value and inserts it into the run command).\n",
    "// See: https://stackoverflow.com/a/26327528 for similar q \n",
    "// Var names / how applied at https://toree.apache.org/docs/current/user/installation/ under \"Configuring Spark > SPARK_OPTS\"\n",
    "// (note using --executor-memory=Xg may not help for local mode execution: https://stackoverflow.com/a/26578005)\n"
   ]
  },
  {
   "cell_type": "code",
   "execution_count": 2,
   "metadata": {},
   "outputs": [
    {
     "data": {
      "text/plain": [
       "sc = org.apache.spark.SparkContext@74c9c906\n"
      ]
     },
     "metadata": {},
     "output_type": "display_data",
     "source": "user"
    },
    {
     "data": {
      "text/plain": [
       "spark: org.apache.spark.sql.SparkSession = org.apache.spark.sql.SparkSession@710c0c62\r\n"
      ]
     },
     "metadata": {},
     "output_type": "display_data",
     "source": "user"
    },
    {
     "data": {
      "text/plain": [
       "org.apache.spark.SparkContext@74c9c906"
      ]
     },
     "execution_count": 2,
     "metadata": {},
     "output_type": "execute_result"
    }
   ],
   "source": [
    "import org.apache.spark.sql.SparkSession\n",
    "val spark = SparkSession\n",
    "  .builder()\n",
    "  .appName(\"abc_news_text_classification\")\n",
    "  //.config(\"spark.some.config.option\", \"some-value\")\n",
    "  .getOrCreate()\n",
    "val sc = spark.sparkContext"
   ]
  },
  {
   "cell_type": "code",
   "execution_count": 3,
   "metadata": {},
   "outputs": [
    {
     "data": {
      "text/plain": [
       "newsData = [category: string, title: string ... 3 more fields]\n"
      ]
     },
     "metadata": {},
     "output_type": "display_data",
     "source": "user"
    },
    {
     "data": {
      "text/plain": [
       "newsCSVSchema: org.apache.spark.sql.types.StructType = StructType(StructField(category,StringType,true), StructField(title,StringType,true), StructField(description,StringType,true), StructField(guid,StringType,true), StructField(published,StringType,true))\r\n"
      ]
     },
     "metadata": {},
     "output_type": "display_data",
     "source": "user"
    },
    {
     "data": {
      "text/plain": [
       "[category: string, title: string ... 3 more fields]"
      ]
     },
     "execution_count": 3,
     "metadata": {},
     "output_type": "execute_result"
    }
   ],
   "source": [
    "\n",
    "// Read the csv file\n",
    "\n",
    "// Specify the schema\n",
    "import org.apache.spark.sql.types._\n",
    "\n",
    "val newsCSVSchema = StructType(Array(\n",
    "    StructField(\"category\", StringType, true),\n",
    "    StructField(\"title\", StringType, true),\n",
    "    StructField(\"description\", StringType, true),\n",
    "    StructField(\"guid\", StringType, true),\n",
    "    StructField(\"published\", StringType, true))\n",
    ")\n",
    "\n",
    "val newsData = spark.read.format(\"csv\")\n",
    "    .option(\"sep\", \",\")\n",
    "    .option(\"quote\", \"\\\"\").option(\"escape\", \"\\\"\") //This is for the quote char in a string line, see https://stackoverflow.com/a/45138591\n",
    "    //.option(\"inferSchema\", \"true\")\n",
    "    .schema(newsCSVSchema)\n",
    "    .option(\"header\", \"false\") //true\")\n",
    "    .load(\"news_data.csv\")\n"
   ]
  },
  {
   "cell_type": "code",
   "execution_count": 4,
   "metadata": {},
   "outputs": [
    {
     "name": "stdout",
     "output_type": "stream",
     "text": [
      "Data has 2000 observations\n",
      "+--------+--------------------+--------------------+--------------------+--------------------+\n",
      "|category|               title|         description|                guid|           published|\n",
      "+--------+--------------------+--------------------+--------------------+--------------------+\n",
      "|Business|'Easy debt to get...|Butcher Samantha ...|https://www.abc.n...|Sat, 18 Jan 2020 ...|\n",
      "|Business|Canada the latest...|From Canada to As...|https://www.abc.n...|Sat, 18 Jan 2020 ...|\n",
      "|Business|No sheep bottoms ...|Not all wool prod...|https://www.abc.n...|Sat, 18 Jan 2020 ...|\n",
      "|Business|A 24-year-old cou...|A landmark trial ...|https://www.abc.n...|Sat, 18 Jan 2020 ...|\n",
      "|Business|Chinese birth rat...|The country's bir...|https://www.abc.n...|Fri, 17 Jan 2020 ...|\n",
      "|Business|'Can I have some ...|Australian teleco...|https://www.abc.n...|Fri, 17 Jan 2020 ...|\n",
      "|Business|Restored 1940s ai...|From an aircraft ...|https://www.abc.n...|Fri, 17 Jan 2020 ...|\n",
      "|Business|'Canberra, come b...|Business owners i...|https://www.abc.n...|Fri, 17 Jan 2020 ...|\n",
      "|Business|Hong Kong airline...|Hong Kong Express...|https://www.abc.n...|Fri, 17 Jan 2020 ...|\n",
      "|Business|Local milk compan...|The Queensland Go...|https://www.abc.n...|Fri, 17 Jan 2020 ...|\n",
      "|Business|ASX hits record f...|Australian shares...|https://www.abc.n...|Fri, 17 Jan 2020 ...|\n",
      "|Business|Your best photos ...|Here is a selecti...|https://www.abc.n...|Fri, 17 Jan 2020 ...|\n",
      "|Business|Bar workers refle...|They cost Sydney ...|https://www.abc.n...|Fri, 17 Jan 2020 ...|\n",
      "|Business|A South Australia...|An Adelaide Hills...|https://www.abc.n...|Thu, 16 Jan 2020 ...|\n",
      "|Business|Bushfire tourism ...|SA's Environment ...|https://www.abc.n...|Thu, 16 Jan 2020 ...|\n",
      "|Business|Outback governess...|After moving to a...|https://www.abc.n...|Thu, 16 Jan 2020 ...|\n",
      "|Business|New tech to detec...|Winemakers across...|https://www.abc.n...|Thu, 16 Jan 2020 ...|\n",
      "|Business|Calls for shake-u...|After eight death...|https://www.abc.n...|Thu, 16 Jan 2020 ...|\n",
      "|Business|Australia is the ...|Australia's share...|https://www.abc.n...|Thu, 16 Jan 2020 ...|\n",
      "|Business|Soldiers are gett...|The #army hashtag...|https://www.abc.n...|Thu, 16 Jan 2020 ...|\n",
      "+--------+--------------------+--------------------+--------------------+--------------------+\n",
      "only showing top 20 rows\n",
      "\n"
     ]
    }
   ],
   "source": [
    "newsData.cache.persist\n",
    "println(s\"Data has ${newsData.count} observations\")\n",
    "newsData.show()"
   ]
  },
  {
   "cell_type": "code",
   "execution_count": 5,
   "metadata": {},
   "outputs": [
    {
     "data": {
      "text/plain": [
       "newsTrainDevTest = Array([category: string, title: string ... 3 more fields], [category: string, title: string ... 3 more fields], [category: string, title: string ... 3 more fields])\n"
      ]
     },
     "metadata": {},
     "output_type": "display_data",
     "source": "user"
    },
    {
     "data": {
      "text/plain": [
       "Array([category: string, title: string ... 3 more fields], [category: string, title: string ... 3 more fields], [category: string, title: string ... 3 more fields])"
      ]
     },
     "execution_count": 5,
     "metadata": {},
     "output_type": "execute_result"
    }
   ],
   "source": [
    "val newsTrainDevTest = newsData.randomSplit(Array(0.7, 0.2, 0.1), seed = 100)\n",
    "//seed for repeatability"
   ]
  },
  {
   "cell_type": "code",
   "execution_count": 6,
   "metadata": {},
   "outputs": [
    {
     "data": {
      "text/plain": [
       "newsDevDF = [category: string, title: string ... 3 more fields]\n"
      ]
     },
     "metadata": {},
     "output_type": "display_data",
     "source": "user"
    },
    {
     "data": {
      "text/plain": [
       "newsTrainDF: org.apache.spark.sql.Dataset[org.apache.spark.sql.Row] = [category: string, title: string ... 3 more fields]\r\n"
      ]
     },
     "metadata": {},
     "output_type": "display_data",
     "source": "user"
    },
    {
     "data": {
      "text/plain": [
       "[category: string, title: string ... 3 more fields]"
      ]
     },
     "execution_count": 6,
     "metadata": {},
     "output_type": "execute_result"
    }
   ],
   "source": [
    "val newsTrainDF = newsTrainDevTest(0);\n",
    "val newsDevDF = newsTrainDevTest(1);"
   ]
  },
  {
   "cell_type": "code",
   "execution_count": 7,
   "metadata": {},
   "outputs": [
    {
     "data": {
      "text/plain": [
       "Name: Syntax Error.\n",
       "Message: \n",
       "StackTrace: "
      ]
     },
     "execution_count": 7,
     "metadata": {},
     "output_type": "execute_result"
    }
   ],
   "source": [
    "// My plan is to tokenise, remove stop words, count vectorise (sparse), and use a simple classification\n",
    "// (optionally consider tf-idf)"
   ]
  },
  {
   "cell_type": "code",
   "execution_count": 8,
   "metadata": {},
   "outputs": [
    {
     "data": {
      "text/plain": [
       "regexTokenizer = regexTok_b121ea98bfd6\n"
      ]
     },
     "metadata": {},
     "output_type": "display_data",
     "source": "user"
    },
    {
     "data": {
      "text/plain": [
       "regexTok_b121ea98bfd6"
      ]
     },
     "execution_count": 8,
     "metadata": {},
     "output_type": "execute_result"
    }
   ],
   "source": [
    "import org.apache.spark.ml.feature.{RegexTokenizer, Tokenizer}\n",
    "\n",
    "val regexTokenizer = new RegexTokenizer()\n",
    "    .setInputCol(\"title\")\n",
    "    .setOutputCol(\"title_words\")\n",
    "    .setPattern(\"\\\\W\")\n"
   ]
  },
  {
   "cell_type": "code",
   "execution_count": 9,
   "metadata": {},
   "outputs": [
    {
     "data": {
      "text/plain": [
       "stopWordRemover = stopWords_9f2bafbfb9b0\n"
      ]
     },
     "metadata": {},
     "output_type": "display_data",
     "source": "user"
    },
    {
     "data": {
      "text/plain": [
       "stopWords_9f2bafbfb9b0"
      ]
     },
     "execution_count": 9,
     "metadata": {},
     "output_type": "execute_result"
    }
   ],
   "source": [
    "import org.apache.spark.ml.feature.StopWordsRemover\n",
    "\n",
    "val stopWordRemover = new StopWordsRemover()\n",
    "  .setInputCol(regexTokenizer.getOutputCol)//eg \"raw\")\n",
    "  .setOutputCol(\"titleFiltered\")\n",
    "//optionally add stopwords \"english\""
   ]
  },
  {
   "cell_type": "code",
   "execution_count": 10,
   "metadata": {},
   "outputs": [
    {
     "data": {
      "text/plain": [
       "hashingTF = hashingTF_ea018de37b84\n"
      ]
     },
     "metadata": {},
     "output_type": "display_data",
     "source": "user"
    },
    {
     "data": {
      "text/plain": [
       "hashingTF_ea018de37b84"
      ]
     },
     "execution_count": 10,
     "metadata": {},
     "output_type": "execute_result"
    }
   ],
   "source": [
    "import org.apache.spark.ml.feature.HashingTF\n",
    "\n",
    "val hashingTF = new HashingTF()\n",
    "    .setInputCol(stopWordRemover.getOutputCol)\n",
    "    .setOutputCol(\"hashVectorTF\")\n",
    "    //.setNumFeatures(scala.math.pow(2,xx).asInstanceOf[Int])"
   ]
  },
  {
   "cell_type": "code",
   "execution_count": 11,
   "metadata": {},
   "outputs": [
    {
     "data": {
      "text/plain": [
       "262144"
      ]
     },
     "execution_count": 11,
     "metadata": {},
     "output_type": "execute_result"
    }
   ],
   "source": [
    "hashingTF.getNumFeatures"
   ]
  },
  {
   "cell_type": "code",
   "execution_count": 12,
   "metadata": {},
   "outputs": [
    {
     "data": {
      "text/plain": [
       "Name: Syntax Error.\n",
       "Message: \n",
       "StackTrace: "
      ]
     },
     "execution_count": 12,
     "metadata": {},
     "output_type": "execute_result"
    }
   ],
   "source": [
    "// Since hashingTF is the only input we want here, it is ok to stop\n",
    "// the transform parts of the pipeline here.\n",
    "// We could use eg VectorAssembler otherwise"
   ]
  },
  {
   "cell_type": "code",
   "execution_count": 13,
   "metadata": {},
   "outputs": [
    {
     "data": {
      "text/plain": [
       "categoryIndexer = strIdx_fadf8e53504a\n"
      ]
     },
     "metadata": {},
     "output_type": "display_data",
     "source": "user"
    },
    {
     "data": {
      "text/plain": [
       "strIdx_fadf8e53504a"
      ]
     },
     "execution_count": 13,
     "metadata": {},
     "output_type": "execute_result"
    }
   ],
   "source": [
    "// Note though that to use LogisticRegression, we must convert the\n",
    "// string labels to numeric.\n",
    "import org.apache.spark.ml.feature.StringIndexer\n",
    "\n",
    "val categoryIndexer = new StringIndexer()\n",
    "  .setInputCol(\"category\")\n",
    "  .setOutputCol(\"categoryIndex\")\n"
   ]
  },
  {
   "cell_type": "code",
   "execution_count": 14,
   "metadata": {},
   "outputs": [
    {
     "data": {
      "text/plain": [
       "lr: org.apache.spark.ml.classification.LogisticRegression = logreg_d55e66b6da97\r\n"
      ]
     },
     "metadata": {},
     "output_type": "display_data",
     "source": "user"
    },
    {
     "data": {
      "text/plain": [
       "logreg_d55e66b6da97"
      ]
     },
     "execution_count": 14,
     "metadata": {},
     "output_type": "execute_result"
    }
   ],
   "source": [
    "import org.apache.spark.ml.classification.LogisticRegression\n",
    "\n",
    "val lr = new LogisticRegression()\n",
    "\n",
    "//set any optional params:\n",
    "//lr.setMaxIter(i)\n",
    "//lr.setRegParam(r)\n",
    "//...\n",
    "\n",
    "lr.setFeaturesCol(hashingTF.getOutputCol)\n",
    "lr.setLabelCol(categoryIndexer.getOutputCol)\n",
    "//optionally: lr.setFamily(\"multinomial\")\n",
    "\n",
    "//lr.setPredictionCol(\"\")\n"
   ]
  },
  {
   "cell_type": "code",
   "execution_count": 15,
   "metadata": {},
   "outputs": [
    {
     "data": {
      "text/plain": [
       "Name: Syntax Error.\n",
       "Message: \n",
       "StackTrace: "
      ]
     },
     "execution_count": 15,
     "metadata": {},
     "output_type": "execute_result"
    }
   ],
   "source": [
    "// And after a prediction, we want to get back to the real string category\n",
    "// Though I am not sure how to do this prior, so will do it post fit (extracting labels out of the pipeline)\n",
    "/*\n",
    "import org.apache.spark.ml.feature.IndexToString\n",
    "\n",
    "val predictionIdxNamer = new IndexToString().setInputCol(lr.getPredictionCol).setOutputCol(\"predictionLabel\")\n",
    "// ... the col metadata may only be on the categoryIndexer outputCol though, not the prediction col?\n",
    "*/"
   ]
  },
  {
   "cell_type": "code",
   "execution_count": 16,
   "metadata": {},
   "outputs": [
    {
     "data": {
      "text/plain": [
       "word_classify_pipeline = pipeline_0da008691436\n"
      ]
     },
     "metadata": {},
     "output_type": "display_data",
     "source": "user"
    },
    {
     "data": {
      "text/plain": [
       "word_prepare_pipeline: org.apache.spark.ml.Pipeline = pipeline_83b38f11669a\r\n"
      ]
     },
     "metadata": {},
     "output_type": "display_data",
     "source": "user"
    },
    {
     "data": {
      "text/plain": [
       "pipeline_0da008691436"
      ]
     },
     "execution_count": 16,
     "metadata": {},
     "output_type": "execute_result"
    }
   ],
   "source": [
    "import org.apache.spark.ml.Pipeline\n",
    "\n",
    "val word_prepare_pipeline = new Pipeline()\n",
    "    .setStages(Array(\n",
    "        regexTokenizer,\n",
    "        stopWordRemover,\n",
    "        hashingTF,\n",
    "        \n",
    "        categoryIndexer\n",
    "    ))\n",
    "\n",
    "val word_classify_pipeline = new Pipeline()\n",
    "    .setStages(Array(\n",
    "        word_prepare_pipeline,\n",
    "        lr\n",
    "    ))"
   ]
  },
  {
   "cell_type": "code",
   "execution_count": 17,
   "metadata": {},
   "outputs": [
    {
     "data": {
      "text/plain": [
       "pipeline_83b38f11669a"
      ]
     },
     "execution_count": 17,
     "metadata": {},
     "output_type": "execute_result"
    }
   ],
   "source": [
    "word_prepare_pipeline"
   ]
  },
  {
   "cell_type": "code",
   "execution_count": 18,
   "metadata": {},
   "outputs": [
    {
     "name": "stdout",
     "output_type": "stream",
     "text": [
      "+--------+--------------------+--------------------+--------------------+--------------------+--------------------+--------------------+--------------------+-------------+\n",
      "|category|               title|         description|                guid|           published|         title_words|       titleFiltered|        hashVectorTF|categoryIndex|\n",
      "+--------+--------------------+--------------------+--------------------+--------------------+--------------------+--------------------+--------------------+-------------+\n",
      "|     AFL|'A baffling decis...|The popular AFL p...|https://www.abc.n...|Wed, 30 Oct 2019 ...|[a, baffling, dec...|[baffling, decisi...|(262144,[119569,1...|          5.0|\n",
      "|     AFL|'A decision for A...|In his first deta...|https://www.abc.n...|Wed, 24 Jul 2019 ...|[a, decision, for...|[decision, adam, ...|(262144,[4757,191...|          5.0|\n",
      "|     AFL|'Dangerous and st...|Greater Western S...|https://www.abc.n...|Mon, 09 Sep 2019 ...|[dangerous, and, ...|[dangerous, stupi...|(262144,[49103,50...|          5.0|\n",
      "|     AFL|'Forever in our h...|The family of for...|https://www.abc.n...|Tue, 10 Sep 2019 ...|[forever, in, our...|[forever, hearts,...|(262144,[5595,532...|          5.0|\n",
      "|     AFL|'I am to blame': ...|As Port Adelaide'...|https://www.abc.n...|Tue, 30 Jul 2019 ...|[i, am, to, blame...|[blame, port, ade...|(262144,[6160,575...|          5.0|\n",
      "|     AFL|'I have given my ...|Adelaide Crows co...|https://www.abc.n...|Thu, 12 Sep 2019 ...|[i, have, given, ...|[given, adelaide,...|(262144,[21028,59...|          5.0|\n",
      "|     AFL|'I'm so, so sorry...|West Coast Eagles...|https://www.abc.n...|Fri, 13 Sep 2019 ...|[i, m, so, so, so...|[m, sorry, willie...|(262144,[18910,36...|          5.0|\n",
      "|     AFL|'It means everyth...|Fremantle appoint...|https://www.abc.n...|Mon, 30 Sep 2019 ...|[it, means, every...|[means, everythin...|(262144,[59969,79...|          5.0|\n",
      "|     AFL|'This is it': Gar...|Geelong legend Ga...|https://www.abc.n...|Thu, 03 Oct 2019 ...|[this, is, it, ga...|[gary, ablett, re...|(262144,[37834,78...|          5.0|\n",
      "|     AFL|'We are in a batt...|There's a war goi...|https://www.abc.n...|Sun, 10 Nov 2019 ...|[we, are, in, a, ...|[battle, athletes...|(262144,[126368,1...|          5.0|\n",
      "|     AFL|'We're rapt': Ric...|A birth abnormali...|https://www.abc.n...|Thu, 18 Jul 2019 ...|[we, re, rapt, ri...|[re, rapt, richmo...|(262144,[37834,59...|          5.0|\n",
      "|     AFL|'Widespread dissa...|The future of the...|https://www.abc.n...|Thu, 03 Oct 2019 ...|[widespread, diss...|[widespread, diss...|(262144,[15039,93...|          5.0|\n",
      "|     AFL|'You're just a bi...|Adam Goodes says ...|https://www.abc.n...|Thu, 01 Aug 2019 ...|[you, re, just, a...|[re, big, sook, a...|(262144,[4757,652...|          5.0|\n",
      "|     AFL|AFL bosses throw ...|An assistance pac...|https://www.abc.n...|Mon, 30 Sep 2019 ...|[afl, bosses, thr...|[afl, bosses, thr...|(262144,[4523,435...|          5.0|\n",
      "|     AFL|AFL eyes off a gr...|With increasing n...|https://www.abc.n...|Sat, 07 Dec 2019 ...|[afl, eyes, off, ...|[afl, eyes, groun...|(262144,[955,8449...|          5.0|\n",
      "|     AFL|AFL great Jonatha...|As the AFL world ...|https://www.abc.n...|Tue, 10 Sep 2019 ...|[afl, great, jona...|[afl, great, jona...|(262144,[38208,50...|          5.0|\n",
      "|     AFL|AFL legend Danny ...|Former St Kilda s...|https://www.abc.n...|Mon, 09 Sep 2019 ...|[afl, legend, dan...|[afl, legend, dan...|(262144,[23875,60...|          5.0|\n",
      "|     AFL|AFL revives State...|Sport's response ...|https://www.abc.n...|Thu, 09 Jan 2020 ...|[afl, revives, st...|[afl, revives, st...|(262144,[5664,707...|          5.0|\n",
      "|     AFL|AFL should consid...|The AFL will bene...|https://www.abc.n...|Fri, 29 Nov 2019 ...|[afl, should, con...|[afl, consider, r...|(262144,[33400,47...|          5.0|\n",
      "|     AFL|AFL the answer to...|For Ashleigh Braz...|https://www.abc.n...|Sat, 19 Oct 2019 ...|[afl, the, answer...|[afl, answer, ash...|(262144,[6084,677...|          5.0|\n",
      "+--------+--------------------+--------------------+--------------------+--------------------+--------------------+--------------------+--------------------+-------------+\n",
      "only showing top 20 rows\n",
      "\n"
     ]
    },
    {
     "data": {
      "text/plain": [
       "newsDataTransformed = [category: string, title: string ... 7 more fields]\n"
      ]
     },
     "metadata": {},
     "output_type": "display_data",
     "source": "user"
    },
    {
     "data": {
      "text/plain": [
       "newsDataPrepareModel: org.apache.spark.ml.PipelineModel = pipeline_83b38f11669a\r\n"
      ]
     },
     "metadata": {},
     "output_type": "display_data",
     "source": "user"
    },
    {
     "data": {
      "text/plain": [
       "[category: string, title: string ... 7 more fields]"
      ]
     },
     "execution_count": 18,
     "metadata": {},
     "output_type": "execute_result"
    }
   ],
   "source": [
    "// Thi is just checking the 'prep' stage of the pipeline works\n",
    "\n",
    "val newsDataPrepareModel = word_prepare_pipeline.fit(newsTrainDF)\n",
    "// Note: Still needs fit first (converting it to model) to be able to transform\n",
    "\n",
    "var newsDataTransformed = newsDataPrepareModel.transform(newsTrainDF)\n",
    "newsDataTransformed.show()"
   ]
  },
  {
   "cell_type": "code",
   "execution_count": 19,
   "metadata": {},
   "outputs": [
    {
     "name": "stdout",
     "output_type": "stream",
     "text": [
      "+--------+--------------------+--------------------+--------------------+--------------------+--------------------+--------------------+--------------------+-------------+--------------------+--------------------+----------+\n",
      "|category|               title|         description|                guid|           published|         title_words|       titleFiltered|        hashVectorTF|categoryIndex|       rawPrediction|         probability|prediction|\n",
      "+--------+--------------------+--------------------+--------------------+--------------------+--------------------+--------------------+--------------------+-------------+--------------------+--------------------+----------+\n",
      "|     AFL|'A baffling decis...|The popular AFL p...|https://www.abc.n...|Wed, 30 Oct 2019 ...|[a, baffling, dec...|[baffling, decisi...|(262144,[119569,1...|          5.0|[-1.4005225499084...|[2.61098719976117...|       5.0|\n",
      "|     AFL|'A decision for A...|In his first deta...|https://www.abc.n...|Wed, 24 Jul 2019 ...|[a, decision, for...|[decision, adam, ...|(262144,[4757,191...|          5.0|[-0.6801566985503...|[1.27044092468210...|       5.0|\n",
      "|     AFL|'Dangerous and st...|Greater Western S...|https://www.abc.n...|Mon, 09 Sep 2019 ...|[dangerous, and, ...|[dangerous, stupi...|(262144,[49103,50...|          5.0|[-4.1633800159370...|[1.91592257591941...|       5.0|\n",
      "|     AFL|'Forever in our h...|The family of for...|https://www.abc.n...|Tue, 10 Sep 2019 ...|[forever, in, our...|[forever, hearts,...|(262144,[5595,532...|          5.0|[-5.1619156699993...|[1.43430714924850...|       5.0|\n",
      "|     AFL|'I am to blame': ...|As Port Adelaide'...|https://www.abc.n...|Tue, 30 Jul 2019 ...|[i, am, to, blame...|[blame, port, ade...|(262144,[6160,575...|          5.0|[-2.6408300647440...|[1.44256153495914...|       5.0|\n",
      "|     AFL|'I have given my ...|Adelaide Crows co...|https://www.abc.n...|Thu, 12 Sep 2019 ...|[i, have, given, ...|[given, adelaide,...|(262144,[21028,59...|          5.0|[-2.8367315492872...|[2.13881554221903...|       5.0|\n",
      "|     AFL|'I'm so, so sorry...|West Coast Eagles...|https://www.abc.n...|Fri, 13 Sep 2019 ...|[i, m, so, so, so...|[m, sorry, willie...|(262144,[18910,36...|          5.0|[-3.1358669668339...|[1.80825071403534...|       5.0|\n",
      "|     AFL|'It means everyth...|Fremantle appoint...|https://www.abc.n...|Mon, 30 Sep 2019 ...|[it, means, every...|[means, everythin...|(262144,[59969,79...|          5.0|[-4.1985069428520...|[4.39507553720986...|       5.0|\n",
      "|     AFL|'This is it': Gar...|Geelong legend Ga...|https://www.abc.n...|Thu, 03 Oct 2019 ...|[this, is, it, ga...|[gary, ablett, re...|(262144,[37834,78...|          5.0|[-3.6281306976050...|[1.30652075163830...|       5.0|\n",
      "|     AFL|'We are in a batt...|There's a war goi...|https://www.abc.n...|Sun, 10 Nov 2019 ...|[we, are, in, a, ...|[battle, athletes...|(262144,[126368,1...|          5.0|[-8.2396376265632...|[1.25987410129602...|       4.0|\n",
      "|     AFL|'We're rapt': Ric...|A birth abnormali...|https://www.abc.n...|Thu, 18 Jul 2019 ...|[we, re, rapt, ri...|[re, rapt, richmo...|(262144,[37834,59...|          5.0|[-3.4578317690108...|[1.80511022290551...|       5.0|\n",
      "|     AFL|'Widespread dissa...|The future of the...|https://www.abc.n...|Thu, 03 Oct 2019 ...|[widespread, diss...|[widespread, diss...|(262144,[15039,93...|          5.0|[-4.7965769710746...|[1.51667126254871...|       5.0|\n",
      "|     AFL|'You're just a bi...|Adam Goodes says ...|https://www.abc.n...|Thu, 01 Aug 2019 ...|[you, re, just, a...|[re, big, sook, a...|(262144,[4757,652...|          5.0|[-1.7464319906485...|[9.23442997288099...|       5.0|\n",
      "|     AFL|AFL bosses throw ...|An assistance pac...|https://www.abc.n...|Mon, 30 Sep 2019 ...|[afl, bosses, thr...|[afl, bosses, thr...|(262144,[4523,435...|          5.0|[-7.4034549628738...|[8.58141623234943...|       5.0|\n",
      "|     AFL|AFL eyes off a gr...|With increasing n...|https://www.abc.n...|Sat, 07 Dec 2019 ...|[afl, eyes, off, ...|[afl, eyes, groun...|(262144,[955,8449...|          5.0|[-5.2120494001886...|[3.50219226090978...|       5.0|\n",
      "|     AFL|AFL great Jonatha...|As the AFL world ...|https://www.abc.n...|Tue, 10 Sep 2019 ...|[afl, great, jona...|[afl, great, jona...|(262144,[38208,50...|          5.0|[-5.9231451133453...|[3.05003231261700...|       5.0|\n",
      "|     AFL|AFL legend Danny ...|Former St Kilda s...|https://www.abc.n...|Mon, 09 Sep 2019 ...|[afl, legend, dan...|[afl, legend, dan...|(262144,[23875,60...|          5.0|[-6.2062359799175...|[9.27127996285884...|       5.0|\n",
      "|     AFL|AFL revives State...|Sport's response ...|https://www.abc.n...|Thu, 09 Jan 2020 ...|[afl, revives, st...|[afl, revives, st...|(262144,[5664,707...|          5.0|[-6.5967881419404...|[2.12507636189530...|       5.0|\n",
      "|     AFL|AFL should consid...|The AFL will bene...|https://www.abc.n...|Fri, 29 Nov 2019 ...|[afl, should, con...|[afl, consider, r...|(262144,[33400,47...|          5.0|[-1.4179641749173...|[9.73409538167609...|       5.0|\n",
      "|     AFL|AFL the answer to...|For Ashleigh Braz...|https://www.abc.n...|Sat, 19 Oct 2019 ...|[afl, the, answer...|[afl, answer, ash...|(262144,[6084,677...|          5.0|[-4.5318222599869...|[1.78901285983480...|       5.0|\n",
      "+--------+--------------------+--------------------+--------------------+--------------------+--------------------+--------------------+--------------------+-------------+--------------------+--------------------+----------+\n",
      "only showing top 20 rows\n",
      "\n"
     ]
    },
    {
     "data": {
      "text/plain": [
       "newsDataClassified = [category: string, title: string ... 10 more fields]\n"
      ]
     },
     "metadata": {},
     "output_type": "display_data",
     "source": "user"
    },
    {
     "data": {
      "text/plain": [
       "newsDataLRModel: org.apache.spark.ml.PipelineModel = pipeline_0da008691436\r\n"
      ]
     },
     "metadata": {},
     "output_type": "display_data",
     "source": "user"
    },
    {
     "data": {
      "text/plain": [
       "[category: string, title: string ... 10 more fields]"
      ]
     },
     "execution_count": 19,
     "metadata": {},
     "output_type": "execute_result"
    }
   ],
   "source": [
    "// Lets fit the full model now\n",
    "val newsDataLRModel = word_classify_pipeline.fit(newsTrainDF)\n",
    "var newsDataClassified = newsDataLRModel.transform(newsTrainDF)\n",
    "newsDataClassified.show()"
   ]
  },
  {
   "cell_type": "code",
   "execution_count": 20,
   "metadata": {},
   "outputs": [
    {
     "data": {
      "text/plain": [
       "_stageOne: org.apache.spark.ml.PipelineModel = pipeline_83b38f11669a\r\n",
       "textIndexLabelerModel: org.apache.spark.ml.feature.StringIndexerModel = strIdx_fadf8e53504a\r\n"
      ]
     },
     "metadata": {},
     "output_type": "display_data",
     "source": "user"
    },
    {
     "data": {
      "text/plain": [
       "Array(Rugby Union, World News, Rugby League, Cricket, Soccer Football, AFL, Athletics, Business)"
      ]
     },
     "execution_count": 20,
     "metadata": {},
     "output_type": "execute_result"
    }
   ],
   "source": [
    "// Extract the StringIndexerModel labels to work predictions back to string labels\n",
    "var _stageOne = newsDataLRModel.stages(0).asInstanceOf[org.apache.spark.ml.PipelineModel]\n",
    "var textIndexLabelerModel = _stageOne.stages(3).asInstanceOf[org.apache.spark.ml.feature.StringIndexerModel]\n",
    "textIndexLabelerModel.labels"
   ]
  },
  {
   "cell_type": "code",
   "execution_count": 21,
   "metadata": {},
   "outputs": [
    {
     "name": "stdout",
     "output_type": "stream",
     "text": [
      "+--------+--------------------+--------------------+--------------------+--------------------+--------------------+--------------------+--------------------+-------------+--------------------+--------------------+----------+---------------+\n",
      "|category|               title|         description|                guid|           published|         title_words|       titleFiltered|        hashVectorTF|categoryIndex|       rawPrediction|         probability|prediction|predictionLabel|\n",
      "+--------+--------------------+--------------------+--------------------+--------------------+--------------------+--------------------+--------------------+-------------+--------------------+--------------------+----------+---------------+\n",
      "|     AFL|'A baffling decis...|The popular AFL p...|https://www.abc.n...|Wed, 30 Oct 2019 ...|[a, baffling, dec...|[baffling, decisi...|(262144,[119569,1...|          5.0|[-1.4005225499084...|[2.61098719976117...|       5.0|            AFL|\n",
      "|     AFL|'A decision for A...|In his first deta...|https://www.abc.n...|Wed, 24 Jul 2019 ...|[a, decision, for...|[decision, adam, ...|(262144,[4757,191...|          5.0|[-0.6801566985503...|[1.27044092468210...|       5.0|            AFL|\n",
      "|     AFL|'Dangerous and st...|Greater Western S...|https://www.abc.n...|Mon, 09 Sep 2019 ...|[dangerous, and, ...|[dangerous, stupi...|(262144,[49103,50...|          5.0|[-4.1633800159370...|[1.91592257591941...|       5.0|            AFL|\n",
      "|     AFL|'Forever in our h...|The family of for...|https://www.abc.n...|Tue, 10 Sep 2019 ...|[forever, in, our...|[forever, hearts,...|(262144,[5595,532...|          5.0|[-5.1619156699993...|[1.43430714924850...|       5.0|            AFL|\n",
      "|     AFL|'I am to blame': ...|As Port Adelaide'...|https://www.abc.n...|Tue, 30 Jul 2019 ...|[i, am, to, blame...|[blame, port, ade...|(262144,[6160,575...|          5.0|[-2.6408300647440...|[1.44256153495914...|       5.0|            AFL|\n",
      "|     AFL|'I have given my ...|Adelaide Crows co...|https://www.abc.n...|Thu, 12 Sep 2019 ...|[i, have, given, ...|[given, adelaide,...|(262144,[21028,59...|          5.0|[-2.8367315492872...|[2.13881554221903...|       5.0|            AFL|\n",
      "|     AFL|'I'm so, so sorry...|West Coast Eagles...|https://www.abc.n...|Fri, 13 Sep 2019 ...|[i, m, so, so, so...|[m, sorry, willie...|(262144,[18910,36...|          5.0|[-3.1358669668339...|[1.80825071403534...|       5.0|            AFL|\n",
      "|     AFL|'It means everyth...|Fremantle appoint...|https://www.abc.n...|Mon, 30 Sep 2019 ...|[it, means, every...|[means, everythin...|(262144,[59969,79...|          5.0|[-4.1985069428520...|[4.39507553720986...|       5.0|            AFL|\n",
      "|     AFL|'This is it': Gar...|Geelong legend Ga...|https://www.abc.n...|Thu, 03 Oct 2019 ...|[this, is, it, ga...|[gary, ablett, re...|(262144,[37834,78...|          5.0|[-3.6281306976050...|[1.30652075163830...|       5.0|            AFL|\n",
      "|     AFL|'We are in a batt...|There's a war goi...|https://www.abc.n...|Sun, 10 Nov 2019 ...|[we, are, in, a, ...|[battle, athletes...|(262144,[126368,1...|          5.0|[-8.2396376265632...|[1.25987410129602...|       4.0|Soccer Football|\n",
      "|     AFL|'We're rapt': Ric...|A birth abnormali...|https://www.abc.n...|Thu, 18 Jul 2019 ...|[we, re, rapt, ri...|[re, rapt, richmo...|(262144,[37834,59...|          5.0|[-3.4578317690108...|[1.80511022290551...|       5.0|            AFL|\n",
      "|     AFL|'Widespread dissa...|The future of the...|https://www.abc.n...|Thu, 03 Oct 2019 ...|[widespread, diss...|[widespread, diss...|(262144,[15039,93...|          5.0|[-4.7965769710746...|[1.51667126254871...|       5.0|            AFL|\n",
      "|     AFL|'You're just a bi...|Adam Goodes says ...|https://www.abc.n...|Thu, 01 Aug 2019 ...|[you, re, just, a...|[re, big, sook, a...|(262144,[4757,652...|          5.0|[-1.7464319906485...|[9.23442997288099...|       5.0|            AFL|\n",
      "|     AFL|AFL bosses throw ...|An assistance pac...|https://www.abc.n...|Mon, 30 Sep 2019 ...|[afl, bosses, thr...|[afl, bosses, thr...|(262144,[4523,435...|          5.0|[-7.4034549628738...|[8.58141623234943...|       5.0|            AFL|\n",
      "|     AFL|AFL eyes off a gr...|With increasing n...|https://www.abc.n...|Sat, 07 Dec 2019 ...|[afl, eyes, off, ...|[afl, eyes, groun...|(262144,[955,8449...|          5.0|[-5.2120494001886...|[3.50219226090978...|       5.0|            AFL|\n",
      "|     AFL|AFL great Jonatha...|As the AFL world ...|https://www.abc.n...|Tue, 10 Sep 2019 ...|[afl, great, jona...|[afl, great, jona...|(262144,[38208,50...|          5.0|[-5.9231451133453...|[3.05003231261700...|       5.0|            AFL|\n",
      "|     AFL|AFL legend Danny ...|Former St Kilda s...|https://www.abc.n...|Mon, 09 Sep 2019 ...|[afl, legend, dan...|[afl, legend, dan...|(262144,[23875,60...|          5.0|[-6.2062359799175...|[9.27127996285884...|       5.0|            AFL|\n",
      "|     AFL|AFL revives State...|Sport's response ...|https://www.abc.n...|Thu, 09 Jan 2020 ...|[afl, revives, st...|[afl, revives, st...|(262144,[5664,707...|          5.0|[-6.5967881419404...|[2.12507636189530...|       5.0|            AFL|\n",
      "|     AFL|AFL should consid...|The AFL will bene...|https://www.abc.n...|Fri, 29 Nov 2019 ...|[afl, should, con...|[afl, consider, r...|(262144,[33400,47...|          5.0|[-1.4179641749173...|[9.73409538167609...|       5.0|            AFL|\n",
      "|     AFL|AFL the answer to...|For Ashleigh Braz...|https://www.abc.n...|Sat, 19 Oct 2019 ...|[afl, the, answer...|[afl, answer, ash...|(262144,[6084,677...|          5.0|[-4.5318222599869...|[1.78901285983480...|       5.0|            AFL|\n",
      "+--------+--------------------+--------------------+--------------------+--------------------+--------------------+--------------------+--------------------+-------------+--------------------+--------------------+----------+---------------+\n",
      "only showing top 20 rows\n",
      "\n"
     ]
    },
    {
     "data": {
      "text/plain": [
       "predictionIdxReverse = idxToStr_f195f3e5c1e2\n"
      ]
     },
     "metadata": {},
     "output_type": "display_data",
     "source": "user"
    },
    {
     "data": {
      "text/plain": [
       "idxToStr_f195f3e5c1e2"
      ]
     },
     "execution_count": 21,
     "metadata": {},
     "output_type": "execute_result"
    }
   ],
   "source": [
    "import org.apache.spark.ml.feature.IndexToString\n",
    "\n",
    "val predictionIdxReverse = new IndexToString().setInputCol(\"prediction\").setOutputCol(\"predictionLabel\")\n",
    "predictionIdxReverse.setLabels(textIndexLabelerModel.labels)\n",
    "predictionIdxReverse.transform(newsDataClassified).show()"
   ]
  },
  {
   "cell_type": "code",
   "execution_count": 22,
   "metadata": {},
   "outputs": [
    {
     "data": {
      "text/plain": [
       "metrics = mcEval_d145198bee93\n"
      ]
     },
     "metadata": {},
     "output_type": "display_data",
     "source": "user"
    },
    {
     "data": {
      "text/plain": [
       "mcEval_d145198bee93"
      ]
     },
     "execution_count": 22,
     "metadata": {},
     "output_type": "execute_result"
    }
   ],
   "source": [
    "import org.apache.spark.ml.evaluation.MulticlassClassificationEvaluator\n",
    "\n",
    "//newsDataClassifiedLabelIO = newsDataClassified.select(\"prediction\", \"categoryIndex\").toDF(\"predic\")\n",
    "\n",
    "val metrics = new MulticlassClassificationEvaluator().setLabelCol(\"categoryIndex\").setPredictionCol(\"prediction\");\n",
    "//metrics.setMetric(...)"
   ]
  },
  {
   "cell_type": "code",
   "execution_count": 23,
   "metadata": {},
   "outputs": [
    {
     "data": {
      "text/plain": [
       "Training f1: 0.9800131594163832"
      ]
     },
     "execution_count": 23,
     "metadata": {},
     "output_type": "execute_result"
    }
   ],
   "source": [
    "s\"Training ${metrics.getMetricName}: ${metrics.evaluate(newsDataClassified)}\""
   ]
  },
  {
   "cell_type": "code",
   "execution_count": 24,
   "metadata": {},
   "outputs": [
    {
     "name": "stdout",
     "output_type": "stream",
     "text": [
      "+--------+--------------------+--------------------+--------------------+--------------------+--------------------+--------------------+--------------------+-------------+--------------------+--------------------+----------+---------------+\n",
      "|category|               title|         description|                guid|           published|         title_words|       titleFiltered|        hashVectorTF|categoryIndex|       rawPrediction|         probability|prediction|predictionLabel|\n",
      "+--------+--------------------+--------------------+--------------------+--------------------+--------------------+--------------------+--------------------+-------------+--------------------+--------------------+----------+---------------+\n",
      "|     AFL|'I just really di...|The prospect of p...|https://www.abc.n...|Tue, 09 Jul 2019 ...|[i, just, really,...|[really, didn, ca...|(262144,[14,34140...|          5.0|[1.07512744835360...|[1.25322584455872...|       3.0|        Cricket|\n",
      "|     AFL|'I'm so jealous':...|Nat Fyfe says he ...|https://www.abc.n...|Tue, 24 Sep 2019 ...|[i, m, so, jealou...|[m, jealous, brow...|(262144,[7235,189...|          5.0|[-1.7197570579632...|[6.31706754766681...|       5.0|            AFL|\n",
      "|     AFL|A footy superstar...|Hundreds of frien...|https://www.abc.n...|Mon, 26 Aug 2019 ...|[a, footy, supers...|[footy, superstar...|(262144,[17893,50...|          5.0|[-4.1345382145254...|[7.49096442975863...|       5.0|            AFL|\n",
      "|     AFL|A reporter's ring...|A reporter and Ca...|https://www.abc.n...|Tue, 14 Jan 2020 ...|[a, reporter, s, ...|[reporter, ringin...|(262144,[51624,74...|          5.0|[4.55840490258146...|[0.02888506606633...|       6.0|      Athletics|\n",
      "|     AFL|AFL conspiracy th...|Ludicrous paranoi...|https://www.abc.n...|Fri, 20 Sep 2019 ...|[afl, conspiracy,...|[afl, conspiracy,...|(262144,[20644,38...|          5.0|[-5.1192598646852...|[3.20202108672771...|       5.0|            AFL|\n",
      "|     AFL|AFL personality D...|Former St Kilda s...|https://www.abc.n...|Mon, 09 Sep 2019 ...|[afl, personality...|[afl, personality...|(262144,[32672,67...|          5.0|[-0.8039745329069...|[1.60571239694269...|       5.0|            AFL|\n",
      "|     AFL|Adelaide nicks GW...|Former Sydney Swa...|https://www.abc.n...|Tue, 15 Oct 2019 ...|[adelaide, nicks,...|[adelaide, nicks,...|(262144,[59969,60...|          5.0|[-4.5712736619852...|[5.02934678045065...|       5.0|            AFL|\n",
      "|     AFL|As it happened: T...|Richmond has clai...|https://www.abc.n...|Sat, 28 Sep 2019 ...|[as, it, happened...|[happened, tigers...|(262144,[29066,80...|          5.0|[-5.9769876348738...|[6.70965436283502...|       5.0|            AFL|\n",
      "|     AFL|Australians want ...|You can't laud Am...|https://www.abc.n...|Fri, 16 Aug 2019 ...|[australians, wan...|[australians, wan...|(262144,[9303,751...|          5.0|[-5.8156402814146...|[8.41267795716463...|       3.0|        Cricket|\n",
      "|     AFL|Bradley Hill deal...|St Kilda's pursui...|https://www.abc.n...|Tue, 15 Oct 2019 ...|[bradley, hill, d...|[bradley, hill, d...|(262144,[4106,636...|          5.0|[-7.2559917064733...|[7.61053034694744...|       5.0|            AFL|\n",
      "|     AFL|Can the Adelaide ...|With local footba...|https://www.abc.n...|Wed, 24 Jul 2019 ...|[can, the, adelai...|[adelaide, crows,...|(262144,[13894,15...|          5.0|[-1.2396749101937...|[1.12667880691255...|       5.0|            AFL|\n",
      "|     AFL|Cats contain Sain...|The Saints fall t...|https://www.abc.n...|Sat, 13 Jul 2019 ...|[cats, contain, s...|[cats, contain, s...|(262144,[4523,354...|          5.0|[-3.1117360448205...|[7.47877864239373...|       5.0|            AFL|\n",
      "|     AFL|Collingwood docum...|From Adam Treloar...|https://www.abc.n...|Mon, 02 Sep 2019 ...|[collingwood, doc...|[collingwood, doc...|(262144,[571,4141...|          5.0|[-6.9519263032483...|[5.75324707800909...|       5.0|            AFL|\n",
      "|     AFL|Competition is fi...|For players of th...|https://www.abc.n...|Wed, 25 Sep 2019 ...|[competition, is,...|[competition, fie...|(262144,[6194,107...|          5.0|[-0.3333284507115...|[6.46118559434965...|       5.0|            AFL|\n",
      "|     AFL|Darwin Buffaloes ...|Malcolm Rosas pla...|https://www.abc.n...|Wed, 30 Oct 2019 ...|[darwin, buffaloe...|[darwin, buffaloe...|(262144,[13938,11...|          5.0|[-1.7096195057330...|[0.00129541169694...|       5.0|            AFL|\n",
      "|     AFL|Eagles march on, ...|West Coast's prem...|https://www.abc.n...|Thu, 05 Sep 2019 ...|[eagles, march, o...|[eagles, march, n...|(262144,[50163,10...|          5.0|[-3.6795799269147...|[2.80391346475093...|       5.0|            AFL|\n",
      "|     AFL|Eddie Betts says ...|The Adelaide Crow...|https://www.abc.n...|Thu, 29 Aug 2019 ...|[eddie, betts, sa...|[eddie, betts, sa...|(262144,[12594,10...|          5.0|[-1.9468076009966...|[8.98950918654111...|       5.0|            AFL|\n",
      "|     AFL|Expanded AFLW wil...|After just two in...|https://www.abc.n...|Wed, 07 Aug 2019 ...|[expanded, aflw, ...|[expanded, aflw, ...|(262144,[32290,35...|          5.0|[-7.6139683207587...|[3.29764267478221...|       2.0|   Rugby League|\n",
      "|     AFL|Former AFL star N...|Winmar is sentenc...|https://www.abc.n...|Fri, 16 Aug 2019 ...|[former, afl, sta...|[former, afl, sta...|(262144,[2513,430...|          5.0|[-6.1444087187731...|[4.40942015161918...|       5.0|            AFL|\n",
      "|     AFL|Fremantle's decis...|Appointing coache...|https://www.abc.n...|Mon, 30 Sep 2019 ...|[fremantle, s, de...|[fremantle, decis...|(262144,[2437,880...|          5.0|[5.58439640870588...|[0.08253244271768...|       5.0|            AFL|\n",
      "+--------+--------------------+--------------------+--------------------+--------------------+--------------------+--------------------+--------------------+-------------+--------------------+--------------------+----------+---------------+\n",
      "only showing top 20 rows\n",
      "\n"
     ]
    },
    {
     "data": {
      "text/plain": [
       "newsDataDevClassified = [category: string, title: string ... 10 more fields]\n"
      ]
     },
     "metadata": {},
     "output_type": "display_data",
     "source": "user"
    },
    {
     "data": {
      "text/plain": [
       "[category: string, title: string ... 10 more fields]"
      ]
     },
     "execution_count": 24,
     "metadata": {},
     "output_type": "execute_result"
    }
   ],
   "source": [
    "// See how well it performs on the dev dataset\n",
    "\n",
    "var newsDataDevClassified = newsDataLRModel.transform(newsDevDF)\n",
    "\n",
    "//newsDataDevClassified.show()\n",
    "predictionIdxReverse.transform(newsDataDevClassified).show()"
   ]
  },
  {
   "cell_type": "code",
   "execution_count": 25,
   "metadata": {},
   "outputs": [
    {
     "data": {
      "text/plain": [
       "Dev f1: 0.6661677186056167"
      ]
     },
     "execution_count": 25,
     "metadata": {},
     "output_type": "execute_result"
    }
   ],
   "source": [
    "s\"Dev ${metrics.getMetricName}: ${metrics.evaluate(newsDataDevClassified)}\""
   ]
  },
  {
   "cell_type": "code",
   "execution_count": 26,
   "metadata": {},
   "outputs": [
    {
     "name": "stdout",
     "output_type": "stream",
     "text": [
      "Labels: Rugby Union, World News, Rugby League, Cricket, Soccer Football, AFL, Athletics, Business\n"
     ]
    },
    {
     "data": {
      "text/plain": [
       "confusionMatrix = \n"
      ]
     },
     "metadata": {},
     "output_type": "display_data",
     "source": "user"
    },
    {
     "data": {
      "text/plain": [
       "predictionsAndLabels: org.apache.spark.rdd.RDD[(Double, Double)] = MapPartitionsRDD[162] at map at <console>:48\r\n",
       "metrics: org.apache.spark.mllib.evaluation.MulticlassMetrics = org.apache.spark.mllib.evaluation.MulticlassMetrics@158a5cd1\r\n",
       "36.0  1.0   1.0   0.0   1.0   1.0   4.0   1.0\r\n",
       "1.0   16.0  1.0   1.0   2.0   1.0   3.0   15.0\r\n",
       "4.0   0.0   35.0  1.0   1.0   2.0   1.0   0.0\r\n",
       "2.0   1.0   0.0   38.0  6.0   1.0   3.0   1.0\r\n",
       "3.0   2.0   3.0   2.0   35.0  1.0   2.0   1.0\r\n",
       "1.0   0.0   2.0   4.0   1.0   34.0  2.0   1.0\r\n",
       "2.0   1.0   0.0   2.0   3.0   1.0   47.0  2.0\r\n",
       "3.0   10.0  7.0   6.0   8.0   2.0   1.0   26.0\n"
      ]
     },
     "metadata": {},
     "output_type": "display_data",
     "source": "user"
    }
   ],
   "source": [
    "// use mllib (ie RDD, not ml/DF) for more metrics\n",
    "import org.apache.spark.mllib.evaluation.MulticlassMetrics\n",
    "\n",
    "//predictionIdxReverse.transform(newsDataDevClassified) - but will transform after, since it needs doubles\n",
    "//select should be in form (prediction, label)\n",
    "val predictionsAndLabels = newsDataDevClassified\n",
    "    .select(\"prediction\", \"categoryIndex\")\n",
    "    .rdd\n",
    "    .map(row => (row.getDouble(0), row.getDouble(1)) )\n",
    ";\n",
    "\n",
    "val metrics = new MulticlassMetrics(predictionsAndLabels)\n",
    "\n",
    "println(s\"Labels: ${textIndexLabelerModel.labels.mkString(\", \")}\")\n",
    "val confusionMatrix = metrics.confusionMatrix"
   ]
  },
  {
   "cell_type": "code",
   "execution_count": 27,
   "metadata": {},
   "outputs": [
    {
     "data": {
      "text/plain": [
       "newsDevMisClassified = [category: string, title: string ... 10 more fields]\n"
      ]
     },
     "metadata": {},
     "output_type": "display_data",
     "source": "user"
    },
    {
     "data": {
      "text/plain": [
       "[category: string, title: string ... 10 more fields]"
      ]
     },
     "execution_count": 27,
     "metadata": {},
     "output_type": "execute_result"
    }
   ],
   "source": [
    "val newsDevMisClassified = newsDataDevClassified.filter(\n",
    "    row => row.get(row.fieldIndex(\"prediction\")) != row.get(row.fieldIndex(\"categoryIndex\"))\n",
    ");"
   ]
  },
  {
   "cell_type": "code",
   "execution_count": 28,
   "metadata": {},
   "outputs": [
    {
     "name": "stdout",
     "output_type": "stream",
     "text": [
      "+---------+-------------------------------------------------------------------------------------------+----------------------------------------------------------------------------------------------------------------------------------------------------------------------------------------------------------------------------------------------------+---------------+----------------------------------------------------------------------------------------------------------------------------------------------------------------------------------+\n",
      "|category |title                                                                                      |description                                                                                                                                                                                                                                         |predictionLabel|probability                                                                                                                                                                       |\n",
      "+---------+-------------------------------------------------------------------------------------------+----------------------------------------------------------------------------------------------------------------------------------------------------------------------------------------------------------------------------------------------------+---------------+----------------------------------------------------------------------------------------------------------------------------------------------------------------------------------+\n",
      "|AFL      |'I just really didn't care': How football is getting Indigenous boys back in the classroom |The prospect of playing football with mates was the only thing that could coax 13-year old Dasha Hill back to school a few months ago.                                                                                                              |Cricket        |[1.2532258445587227E-6,6.0371953257747146E-9,7.841234282464699E-5,0.9999199852601934,3.349435309418839E-7,1.3485494703678213E-9,6.164345366321342E-9,6.775162353199904E-10]       |\n",
      "|AFL      |A reporter's ringing phone interrupted Ash Barty's press conference. So she picked up      |A reporter and Carlton's AFLW captain Kerryn Harrington were left red-faced after the journalist left his phone on during a press conference and Ash Barty answered.                                                                                |Athletics      |[0.028885066066337,4.445801981849386E-4,2.9975406910143542E-6,0.0011138028972568089,1.0549445789991739E-5,2.520146214512668E-6,0.9694767342510873,6.374945443841305E-5]           |\n",
      "|AFL      |Australians want to mimic NBA superstars like Ben Simmons ? but they don't understand them |You can't laud American sport for creating larger-than-life characters and outspoken players, and then condemn stars like Ben Simmons for lacking homegrown humility, writes Offsiders' Richard Hinds.                                              |Cricket        |[8.412677957164638E-8,0.023765723473479557,3.926891519949637E-6,0.9760347621083787,1.866021346011811E-4,3.166053954010028E-7,1.0492067365296982E-7,8.47973917220429E-6]           |\n",
      "|AFL      |Expanded AFLW will get clear air next season as much-maligned AFLX gets the boot           |After just two instalments and no end of scepticism from AFL clubs and fans, the maligned AFLX exhibition is canned for 2020, allowing for more column inches for the expanded AFL Women's competition.                                             |Rugby League   |[3.2976426747822176E-6,0.0011476987027101973,0.7097663624688096,0.006928439066831483,0.019355459638458795,0.01611805231310034,0.002806728406314095,0.2438739617611007]            |\n",
      "|AFL      |Grass wasn't an option when this footy oval was built in 1895, so they improvised          |The Queenstown Crows have a home-ground advantage not many would envy. Rather than a field of lush, green grass, their oval is made of gravel.                                                                                                      |Rugby Union    |[0.9999166562415268,8.060360805230422E-9,1.3896461935236774E-6,7.615066111507534E-6,1.8498420505444256E-8,7.429075969082115E-5,1.4743669799502904E-8,6.984026052600212E-9]        |\n",
      "|AFL      |He's had a 'massive' impact on Ash Barty and this 'sports whisperer' has advice for you    |The champion tennis player credits this 'sports whisperer' with making her a better player and a better person. And his advice can help you soar, too ? even if you're more of a couch potato than an athlete.                                      |Cricket        |[5.321501852077129E-5,3.0958490898722467E-5,2.2943117252725796E-4,0.9978056071084007,1.4040911828059024E-4,1.4297904997662275E-5,1.1811605465785778E-5,0.001714269580908511]      |\n",
      "|AFL      |Less than nine years after his AFL dream came true, Jake Edwards tried to take his own life|Jake Edwards appeared set for something great when his name was called out by the Carlton Football Club on AFL draft night in 2005. Less than nine years later, he tried to take his life.                                                          |Business       |[6.107004331857558E-4,0.06105784024360076,2.2122735698336195E-4,2.407799126283787E-4,0.01886698228706221,0.03642687029735706,7.873028083005263E-4,0.881788296660882]              |\n",
      "|AFL      |Lions denied minor premiership in Tigers loss, Bulldogs claim finals berth                 |The Lions miss out on the AFL minor premiership to the Cats following their loss to the third-placed Tigers, the Bulldogs earn a return to finals action, while the Power defeat the Dockers to end their season on a winning note.                 |Rugby League   |[3.959087943233291E-12,8.394930308904761E-10,0.9998559403614803,6.80678284949623E-13,7.366181011927295E-12,1.4405878625014994E-4,7.241200482437418E-13,4.641087933018078E-14]     |\n",
      "|AFL      |Nic Naitanui takes umbrage to having his hair pulled                                       |The Eagles star threw Essendon's Zach Merrett into the boundary line fence after Merrett apparently grabbed Naitanui's dreadlocks.                                                                                                                  |Cricket        |[0.045033076656022665,0.11980072858603101,0.05945369661116725,0.27776725542110237,0.21072514089976005,0.05174234273472655,0.14354555206372374,0.09193220702746613]                |\n",
      "|AFL      |Spot the difference ? when is breaking someone's jaw not assault?                          |A parolee who left a teen footballer with a broken jaw during a country match has been sentenced for recklessly causing injury. So why don't AFL players face similar punishment for on-field assaults?                                             |Athletics      |[8.617258816903943E-4,0.007853864042235379,0.011753379438484417,0.001853874334070399,0.012254432425380353,0.03620567335098453,0.9281940745894923,0.001022975937662048]            |\n",
      "|AFL      |WA at the 'cutting edge' in trying to separate junk food from sports                       |Surfing WA's Mark Lane is leading a growing charge of West Australian sporting organisations fighting off unhealthy sponsorships deals in sports.                                                                                                   |Soccer Football|[3.591821158597673E-13,3.189817200744133E-14,4.814115166190087E-13,3.8263377017284066E-14,0.9999999999978906,1.1879777393392917E-13,2.7243040974115673E-14,1.0525697167639269E-12]|\n",
      "|Athletics|92-year-old world champion race walker shares the secret to her success                    |Heather Lee walks the walk. A relative newcomer to race walking, Lee now holds numerous world records and the nonagenarian puts her success down to one simple training tip.                                                                        |Business       |[0.001113282880038332,1.2450282259266664E-5,3.561033209392997E-4,1.0169354904464452E-4,4.977406496744254E-7,4.748460819709605E-5,0.11834580193186998,0.8800226856870017]          |\n",
      "|Athletics|ASADA confirms positive dope test for Australian sprinter Jessica Peris                    |The anti-doping authority says Jessica Peris has a positive \"A\" sample from an out-of-competition doping test from last October, but the Australian sprinter says she will fight the allegations.                                                   |Cricket        |[1.5530017628943846E-4,5.853701136598962E-5,9.445856248350892E-5,0.5188939076441886,9.910012363654607E-5,0.135649572050742,0.34488092437923984,1.6820005205399287E-4]             |\n",
      "|Athletics|Big opportunities on the cards for the best of Fiji's athletes?                            |The successful hosting of the Oceania Athletics Championships is just the latest advertisement for Suva as a venue for international events in Fiji, but both Lautoka and Nadi may get their chance in the future.                                  |Cricket        |[1.506670648601234E-4,2.8764655435770966E-6,6.489708747806024E-4,0.9610563261847421,0.03685099797938547,0.0012328485108279198,5.3408387341534946E-5,3.9045325185995825E-6]        |\n",
      "|Athletics|Caster Semenya makes football switch, hoping to succeed where Usain Bolt failed            |Caster Semenya will not defend her 800 metres title at the World Athletics Championships later this year, but could be set for a switch to football in 2020.                                                                                        |Soccer Football|[1.6398753472769578E-17,3.730279960980514E-18,4.503345449696164E-21,6.0878029934453455E-21,0.9999999999986824,5.001706385562437E-19,1.3176398173740892E-12,3.138330832169403E-20] |\n",
      "|Athletics|How jogs around this regional Victorian lake are preparing Julian for midnight in Qatar    |Thermostats and saunas become secret weapons as Australian athletes brace themselves for the unusual conditions of a midnight marathon at the World Athletics Championships in Doha next month.                                                     |Business       |[3.84978490739656E-8,2.799375537791151E-6,1.4599907990654022E-7,1.7990052507387145E-7,1.0291583032323232E-4,2.94042948131492E-8,8.697888703868905E-7,0.9998930212035197]          |\n",
      "|Athletics|Inspiring others                                                                           |\"We want to see young Australians come up and we're in a position to influence other guys.\"                                                                                                                                                         |Rugby Union    |[0.7300768657482443,0.019831047684982048,0.001500406604204289,0.0022526553546597184,0.001400946708177633,0.002013295520507324,0.002264403396964454,0.2406603789822603]            |\n",
      "|Athletics|Matildas, Kerr the fan favourites at AIS awards                                            |A brilliant year for women's football in Australia is capped by a triple triumph, with Sam Kerr winning ABC Sports Personality of the Year, the Matildas taking out Team of the Year and coach Alen Stajcic also honoured at the AIS awards.        |Soccer Football|[3.7942557000858114E-10,5.758111892080878E-10,1.3602630155163253E-10,1.7495172148705403E-10,0.9999999837237592,4.6409553042259104E-10,1.4456691789989774E-8,8.923858723619745E-11]|\n",
      "|Athletics|Nova Peris unleashes on ASADA over daughter's drug test leak                               |Olympic gold medallist Nova Peris is furious that her athlete daughter Jessica's positive result on a drug test was leaked and ASADA saw fit to issue a statement confirming the test, which is only half complete.                                 |AFL            |[0.001367132822528311,0.0040391852496137505,5.253352861393307E-4,0.05086199846686961,0.3076545355436878,0.6330210241289986,7.364856616602381E-4,0.0017943028405022488]            |\n",
      "|Athletics|One Plus One: Jana Pittman                                                                 |Athlete Jana Pittman is a two-time world champion and four-time Commonwealth Games gold medallist, but her lifelong dream of Olympic victory eluded her. She?s now swapped the pressures of elite sport for motherhood and a new career in medicine.|Soccer Football|[1.603693906461005E-8,6.058980337435102E-9,2.3094239080751395E-9,2.2785851828245037E-8,0.999999910747271,1.2894537531125821E-8,7.621975245063363E-9,2.1545021051306508E-8]        |\n",
      "+---------+-------------------------------------------------------------------------------------------+----------------------------------------------------------------------------------------------------------------------------------------------------------------------------------------------------------------------------------------------------+---------------+----------------------------------------------------------------------------------------------------------------------------------------------------------------------------------+\n",
      "only showing top 20 rows\n",
      "\n"
     ]
    }
   ],
   "source": [
    "predictionIdxReverse.transform(newsDevMisClassified)\n",
    "    .select(\"category\", \"title\", \"description\", \"predictionLabel\", \"probability\")\n",
    "    .show(truncate=false)\n",
    ";"
   ]
  },
  {
   "cell_type": "code",
   "execution_count": 29,
   "metadata": {},
   "outputs": [
    {
     "data": {
      "text/plain": [
       "testingPrep = [text: string, title: string]\n"
      ]
     },
     "metadata": {},
     "output_type": "display_data",
     "source": "user"
    },
    {
     "data": {
      "text/plain": [
       "testing: org.apache.spark.sql.DataFrame = [text: string]\r\n"
      ]
     },
     "metadata": {},
     "output_type": "display_data",
     "source": "user"
    },
    {
     "data": {
      "text/plain": [
       "[text: string, title: string]"
      ]
     },
     "execution_count": 29,
     "metadata": {},
     "output_type": "execute_result"
    }
   ],
   "source": [
    "var testing = (spark.createDataFrame(Seq(\n",
    "    Tuple1(\"My name is Peter\"),\n",
    "    Tuple1(\"The temperature has been nice today.\"),\n",
    "    Tuple1(\"Donald Trump is the 2016 US president. 2020 elections are coming up.\"),\n",
    "    Tuple1(\"Scott Morrison, Malcolm Turnbull, and Tony Abbott - the 3 liberal national amigos\"),\n",
    "    Tuple1(\"To get wickets, you need to pitch the ball up\"),\n",
    "    Tuple1(\"The wallabies need to score tries to beat the all blacks\"),\n",
    "    Tuple1(\"Was Johnathon Thurston the greatest league player of all time?\"),\n",
    "    Tuple1(\"Growth in the retail sector good for the economy\")\n",
    "  )).toDF(\"text\")\n",
    ");\n",
    "\n",
    "var testingPrep = testing.withColumn(\"title\", testing.col(\"text\"))\n"
   ]
  },
  {
   "cell_type": "code",
   "execution_count": 30,
   "metadata": {},
   "outputs": [
    {
     "name": "stdout",
     "output_type": "stream",
     "text": [
      "+--------------------+--------------------+--------------------+--------------------+--------------------+--------------------+--------------------+----------+---------------+\n",
      "|                text|               title|         title_words|       titleFiltered|        hashVectorTF|       rawPrediction|         probability|prediction|predictionLabel|\n",
      "+--------------------+--------------------+--------------------+--------------------+--------------------+--------------------+--------------------+----------+---------------+\n",
      "|    My name is Peter|    My name is Peter|[my, name, is, pe...|       [name, peter]|(262144,[35119,19...|[0.62289283807962...|[0.00485884335402...|       3.0|        Cricket|\n",
      "|The temperature h...|The temperature h...|[the, temperature...|[temperature, nic...|(262144,[22346,14...|[-0.3824372491500...|[0.00372563966861...|       1.0|     World News|\n",
      "|Donald Trump is t...|Donald Trump is t...|[donald, trump, i...|[donald, trump, 2...|(262144,[7612,218...|[-9.0583277573907...|[1.74527300780362...|       1.0|     World News|\n",
      "|Scott Morrison, M...|Scott Morrison, M...|[scott, morrison,...|[scott, morrison,...|(262144,[89074,14...|[7.02538091628558...|[0.99322745676034...|       0.0|    Rugby Union|\n",
      "|To get wickets, y...|To get wickets, y...|[to, get, wickets...|[get, wickets, ne...|(262144,[2548,831...|[0.54739022562688...|[0.01817537437830...|       3.0|        Cricket|\n",
      "|The wallabies nee...|The wallabies nee...|[the, wallabies, ...|[wallabies, need,...|(262144,[83161,85...|[15.2945720810544...|[0.99999932554574...|       0.0|    Rugby Union|\n",
      "|Was Johnathon Thu...|Was Johnathon Thu...|[was, johnathon, ...|[johnathon, thurs...|(262144,[75967,93...|[-0.5445199555203...|[5.90210726260379...|       5.0|            AFL|\n",
      "|Growth in the ret...|Growth in the ret...|[growth, in, the,...|[growth, retail, ...|(262144,[113432,1...|[-2.5160875568848...|[8.30975856123794...|       3.0|        Cricket|\n",
      "+--------------------+--------------------+--------------------+--------------------+--------------------+--------------------+--------------------+----------+---------------+\n",
      "\n"
     ]
    },
    {
     "data": {
      "text/plain": [
       "testingDataClassified = [text: string, title: string ... 6 more fields]\n"
      ]
     },
     "metadata": {},
     "output_type": "display_data",
     "source": "user"
    },
    {
     "data": {
      "text/plain": [
       "[text: string, title: string ... 6 more fields]"
      ]
     },
     "execution_count": 30,
     "metadata": {},
     "output_type": "execute_result"
    }
   ],
   "source": [
    "var testingDataClassified = newsDataLRModel.transform(testingPrep)\n",
    "//testingDataClassified.show()\n",
    "predictionIdxReverse.transform(testingDataClassified).show()"
   ]
  },
  {
   "cell_type": "code",
   "execution_count": null,
   "metadata": {},
   "outputs": [],
   "source": []
  },
  {
   "cell_type": "code",
   "execution_count": 31,
   "metadata": {},
   "outputs": [
    {
     "data": {
      "text/plain": [
       "Name: Syntax Error.\n",
       "Message: \n",
       "StackTrace: "
      ]
     },
     "execution_count": 31,
     "metadata": {},
     "output_type": "execute_result"
    }
   ],
   "source": [
    "//Optional saving to disk\n",
    "/*\n",
    "val model = pipeline.fit(training) //The fit version\n",
    "pipeline //the unfit version\n",
    "\n",
    "model.write.overwrite().save(\"/tmp/spark-logistic-regression-model\")\n",
    "// We can also save the unfit pipeline to disk\n",
    "pipeline.write.overwrite().save(\"/tmp/unfit-lr-model\")\n",
    "\n",
    "// And load it back in during production\n",
    "import org.apache.spark.ml.PipelineModel\n",
    "val sameModel = PipelineModel.load(\"/tmp/spark-logistic-regression-model\")\n",
    "*/"
   ]
  },
  {
   "cell_type": "code",
   "execution_count": 32,
   "metadata": {},
   "outputs": [],
   "source": [
    "//Note they get saved as directories of files\n",
    "newsDataLRModel.write.overwrite().save(\"models/news_htf_lr_spark_model\")\n",
    "predictionIdxReverse.write.overwrite().save(\"models/news_labeler_spark_model\")"
   ]
  },
  {
   "cell_type": "code",
   "execution_count": null,
   "metadata": {},
   "outputs": [],
   "source": []
  }
 ],
 "metadata": {
  "kernelspec": {
   "display_name": "Apache Toree - Scala",
   "language": "scala",
   "name": "apache_toree_scala"
  },
  "language_info": {
   "codemirror_mode": "text/x-scala",
   "file_extension": ".scala",
   "mimetype": "text/x-scala",
   "name": "scala",
   "pygments_lexer": "scala",
   "version": "2.11.12"
  }
 },
 "nbformat": 4,
 "nbformat_minor": 4
}
